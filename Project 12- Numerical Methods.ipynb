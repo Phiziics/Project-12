{
 "cells": [
  {
   "cell_type": "markdown",
   "metadata": {},
   "source": [
    "Rusty Bargain used car sales service is developing an app to attract new customers. In that app, you can quickly find out the market value of your car. You have access to historical data: technical specifications, trim versions, and prices. You need to build the model to determine the value. \n",
    "\n",
    "Rusty Bargain is interested in:\n",
    "\n",
    "- the quality of the prediction;\n",
    "- the speed of the prediction;\n",
    "- the time required for training"
   ]
  },
  {
   "cell_type": "markdown",
   "metadata": {},
   "source": [
    "## Data preparation"
   ]
  },
  {
   "cell_type": "code",
   "execution_count": 1,
   "metadata": {},
   "outputs": [],
   "source": [
    "import pandas as pd\n",
    "import numpy as np\n",
    "\n",
    "# sklearn libraries\n",
    "from sklearn.model_selection import train_test_split, GridSearchCV\n",
    "from sklearn.preprocessing import StandardScaler, OneHotEncoder\n",
    "from sklearn.linear_model import LinearRegression\n",
    "from sklearn.compose import ColumnTransformer\n",
    "\n",
    "from sklearn.ensemble import RandomForestRegressor\n",
    "from sklearn.metrics import mean_squared_error\n",
    "from sklearn.linear_model import SGDRegressor\n",
    "from catboost import CatBoostRegressor\n",
    "from xgboost import XGBRegressor\n",
    "import lightgbm as lgb\n",
    "\n",
    "import catboost as cb\n",
    "import lightgbm as lgb\n",
    "\n",
    "# libraries for calculating time\n",
    "import time"
   ]
  },
  {
   "cell_type": "code",
   "execution_count": 2,
   "metadata": {},
   "outputs": [],
   "source": [
    "car_data = pd.read_csv('/datasets/car_data.csv')"
   ]
  },
  {
   "cell_type": "code",
   "execution_count": 3,
   "metadata": {
    "scrolled": false
   },
   "outputs": [
    {
     "data": {
      "text/html": [
       "<div>\n",
       "<style scoped>\n",
       "    .dataframe tbody tr th:only-of-type {\n",
       "        vertical-align: middle;\n",
       "    }\n",
       "\n",
       "    .dataframe tbody tr th {\n",
       "        vertical-align: top;\n",
       "    }\n",
       "\n",
       "    .dataframe thead th {\n",
       "        text-align: right;\n",
       "    }\n",
       "</style>\n",
       "<table border=\"1\" class=\"dataframe\">\n",
       "  <thead>\n",
       "    <tr style=\"text-align: right;\">\n",
       "      <th></th>\n",
       "      <th>DateCrawled</th>\n",
       "      <th>Price</th>\n",
       "      <th>VehicleType</th>\n",
       "      <th>RegistrationYear</th>\n",
       "      <th>Gearbox</th>\n",
       "      <th>Power</th>\n",
       "      <th>Model</th>\n",
       "      <th>Mileage</th>\n",
       "      <th>RegistrationMonth</th>\n",
       "      <th>FuelType</th>\n",
       "      <th>Brand</th>\n",
       "      <th>NotRepaired</th>\n",
       "      <th>DateCreated</th>\n",
       "      <th>NumberOfPictures</th>\n",
       "      <th>PostalCode</th>\n",
       "      <th>LastSeen</th>\n",
       "    </tr>\n",
       "  </thead>\n",
       "  <tbody>\n",
       "    <tr>\n",
       "      <th>0</th>\n",
       "      <td>24/03/2016 11:52</td>\n",
       "      <td>480</td>\n",
       "      <td>NaN</td>\n",
       "      <td>1993</td>\n",
       "      <td>manual</td>\n",
       "      <td>0</td>\n",
       "      <td>golf</td>\n",
       "      <td>150000</td>\n",
       "      <td>0</td>\n",
       "      <td>petrol</td>\n",
       "      <td>volkswagen</td>\n",
       "      <td>NaN</td>\n",
       "      <td>24/03/2016 00:00</td>\n",
       "      <td>0</td>\n",
       "      <td>70435</td>\n",
       "      <td>07/04/2016 03:16</td>\n",
       "    </tr>\n",
       "    <tr>\n",
       "      <th>1</th>\n",
       "      <td>24/03/2016 10:58</td>\n",
       "      <td>18300</td>\n",
       "      <td>coupe</td>\n",
       "      <td>2011</td>\n",
       "      <td>manual</td>\n",
       "      <td>190</td>\n",
       "      <td>NaN</td>\n",
       "      <td>125000</td>\n",
       "      <td>5</td>\n",
       "      <td>gasoline</td>\n",
       "      <td>audi</td>\n",
       "      <td>yes</td>\n",
       "      <td>24/03/2016 00:00</td>\n",
       "      <td>0</td>\n",
       "      <td>66954</td>\n",
       "      <td>07/04/2016 01:46</td>\n",
       "    </tr>\n",
       "    <tr>\n",
       "      <th>2</th>\n",
       "      <td>14/03/2016 12:52</td>\n",
       "      <td>9800</td>\n",
       "      <td>suv</td>\n",
       "      <td>2004</td>\n",
       "      <td>auto</td>\n",
       "      <td>163</td>\n",
       "      <td>grand</td>\n",
       "      <td>125000</td>\n",
       "      <td>8</td>\n",
       "      <td>gasoline</td>\n",
       "      <td>jeep</td>\n",
       "      <td>NaN</td>\n",
       "      <td>14/03/2016 00:00</td>\n",
       "      <td>0</td>\n",
       "      <td>90480</td>\n",
       "      <td>05/04/2016 12:47</td>\n",
       "    </tr>\n",
       "    <tr>\n",
       "      <th>3</th>\n",
       "      <td>17/03/2016 16:54</td>\n",
       "      <td>1500</td>\n",
       "      <td>small</td>\n",
       "      <td>2001</td>\n",
       "      <td>manual</td>\n",
       "      <td>75</td>\n",
       "      <td>golf</td>\n",
       "      <td>150000</td>\n",
       "      <td>6</td>\n",
       "      <td>petrol</td>\n",
       "      <td>volkswagen</td>\n",
       "      <td>no</td>\n",
       "      <td>17/03/2016 00:00</td>\n",
       "      <td>0</td>\n",
       "      <td>91074</td>\n",
       "      <td>17/03/2016 17:40</td>\n",
       "    </tr>\n",
       "    <tr>\n",
       "      <th>4</th>\n",
       "      <td>31/03/2016 17:25</td>\n",
       "      <td>3600</td>\n",
       "      <td>small</td>\n",
       "      <td>2008</td>\n",
       "      <td>manual</td>\n",
       "      <td>69</td>\n",
       "      <td>fabia</td>\n",
       "      <td>90000</td>\n",
       "      <td>7</td>\n",
       "      <td>gasoline</td>\n",
       "      <td>skoda</td>\n",
       "      <td>no</td>\n",
       "      <td>31/03/2016 00:00</td>\n",
       "      <td>0</td>\n",
       "      <td>60437</td>\n",
       "      <td>06/04/2016 10:17</td>\n",
       "    </tr>\n",
       "    <tr>\n",
       "      <th>...</th>\n",
       "      <td>...</td>\n",
       "      <td>...</td>\n",
       "      <td>...</td>\n",
       "      <td>...</td>\n",
       "      <td>...</td>\n",
       "      <td>...</td>\n",
       "      <td>...</td>\n",
       "      <td>...</td>\n",
       "      <td>...</td>\n",
       "      <td>...</td>\n",
       "      <td>...</td>\n",
       "      <td>...</td>\n",
       "      <td>...</td>\n",
       "      <td>...</td>\n",
       "      <td>...</td>\n",
       "      <td>...</td>\n",
       "    </tr>\n",
       "    <tr>\n",
       "      <th>354364</th>\n",
       "      <td>21/03/2016 09:50</td>\n",
       "      <td>0</td>\n",
       "      <td>NaN</td>\n",
       "      <td>2005</td>\n",
       "      <td>manual</td>\n",
       "      <td>0</td>\n",
       "      <td>colt</td>\n",
       "      <td>150000</td>\n",
       "      <td>7</td>\n",
       "      <td>petrol</td>\n",
       "      <td>mitsubishi</td>\n",
       "      <td>yes</td>\n",
       "      <td>21/03/2016 00:00</td>\n",
       "      <td>0</td>\n",
       "      <td>2694</td>\n",
       "      <td>21/03/2016 10:42</td>\n",
       "    </tr>\n",
       "    <tr>\n",
       "      <th>354365</th>\n",
       "      <td>14/03/2016 17:48</td>\n",
       "      <td>2200</td>\n",
       "      <td>NaN</td>\n",
       "      <td>2005</td>\n",
       "      <td>NaN</td>\n",
       "      <td>0</td>\n",
       "      <td>NaN</td>\n",
       "      <td>20000</td>\n",
       "      <td>1</td>\n",
       "      <td>NaN</td>\n",
       "      <td>sonstige_autos</td>\n",
       "      <td>NaN</td>\n",
       "      <td>14/03/2016 00:00</td>\n",
       "      <td>0</td>\n",
       "      <td>39576</td>\n",
       "      <td>06/04/2016 00:46</td>\n",
       "    </tr>\n",
       "    <tr>\n",
       "      <th>354366</th>\n",
       "      <td>05/03/2016 19:56</td>\n",
       "      <td>1199</td>\n",
       "      <td>convertible</td>\n",
       "      <td>2000</td>\n",
       "      <td>auto</td>\n",
       "      <td>101</td>\n",
       "      <td>fortwo</td>\n",
       "      <td>125000</td>\n",
       "      <td>3</td>\n",
       "      <td>petrol</td>\n",
       "      <td>smart</td>\n",
       "      <td>no</td>\n",
       "      <td>05/03/2016 00:00</td>\n",
       "      <td>0</td>\n",
       "      <td>26135</td>\n",
       "      <td>11/03/2016 18:17</td>\n",
       "    </tr>\n",
       "    <tr>\n",
       "      <th>354367</th>\n",
       "      <td>19/03/2016 18:57</td>\n",
       "      <td>9200</td>\n",
       "      <td>bus</td>\n",
       "      <td>1996</td>\n",
       "      <td>manual</td>\n",
       "      <td>102</td>\n",
       "      <td>transporter</td>\n",
       "      <td>150000</td>\n",
       "      <td>3</td>\n",
       "      <td>gasoline</td>\n",
       "      <td>volkswagen</td>\n",
       "      <td>no</td>\n",
       "      <td>19/03/2016 00:00</td>\n",
       "      <td>0</td>\n",
       "      <td>87439</td>\n",
       "      <td>07/04/2016 07:15</td>\n",
       "    </tr>\n",
       "    <tr>\n",
       "      <th>354368</th>\n",
       "      <td>20/03/2016 19:41</td>\n",
       "      <td>3400</td>\n",
       "      <td>wagon</td>\n",
       "      <td>2002</td>\n",
       "      <td>manual</td>\n",
       "      <td>100</td>\n",
       "      <td>golf</td>\n",
       "      <td>150000</td>\n",
       "      <td>6</td>\n",
       "      <td>gasoline</td>\n",
       "      <td>volkswagen</td>\n",
       "      <td>NaN</td>\n",
       "      <td>20/03/2016 00:00</td>\n",
       "      <td>0</td>\n",
       "      <td>40764</td>\n",
       "      <td>24/03/2016 12:45</td>\n",
       "    </tr>\n",
       "  </tbody>\n",
       "</table>\n",
       "<p>354369 rows × 16 columns</p>\n",
       "</div>"
      ],
      "text/plain": [
       "             DateCrawled  Price  VehicleType  RegistrationYear Gearbox  Power  \\\n",
       "0       24/03/2016 11:52    480          NaN              1993  manual      0   \n",
       "1       24/03/2016 10:58  18300        coupe              2011  manual    190   \n",
       "2       14/03/2016 12:52   9800          suv              2004    auto    163   \n",
       "3       17/03/2016 16:54   1500        small              2001  manual     75   \n",
       "4       31/03/2016 17:25   3600        small              2008  manual     69   \n",
       "...                  ...    ...          ...               ...     ...    ...   \n",
       "354364  21/03/2016 09:50      0          NaN              2005  manual      0   \n",
       "354365  14/03/2016 17:48   2200          NaN              2005     NaN      0   \n",
       "354366  05/03/2016 19:56   1199  convertible              2000    auto    101   \n",
       "354367  19/03/2016 18:57   9200          bus              1996  manual    102   \n",
       "354368  20/03/2016 19:41   3400        wagon              2002  manual    100   \n",
       "\n",
       "              Model  Mileage  RegistrationMonth  FuelType           Brand  \\\n",
       "0              golf   150000                  0    petrol      volkswagen   \n",
       "1               NaN   125000                  5  gasoline            audi   \n",
       "2             grand   125000                  8  gasoline            jeep   \n",
       "3              golf   150000                  6    petrol      volkswagen   \n",
       "4             fabia    90000                  7  gasoline           skoda   \n",
       "...             ...      ...                ...       ...             ...   \n",
       "354364         colt   150000                  7    petrol      mitsubishi   \n",
       "354365          NaN    20000                  1       NaN  sonstige_autos   \n",
       "354366       fortwo   125000                  3    petrol           smart   \n",
       "354367  transporter   150000                  3  gasoline      volkswagen   \n",
       "354368         golf   150000                  6  gasoline      volkswagen   \n",
       "\n",
       "       NotRepaired       DateCreated  NumberOfPictures  PostalCode  \\\n",
       "0              NaN  24/03/2016 00:00                 0       70435   \n",
       "1              yes  24/03/2016 00:00                 0       66954   \n",
       "2              NaN  14/03/2016 00:00                 0       90480   \n",
       "3               no  17/03/2016 00:00                 0       91074   \n",
       "4               no  31/03/2016 00:00                 0       60437   \n",
       "...            ...               ...               ...         ...   \n",
       "354364         yes  21/03/2016 00:00                 0        2694   \n",
       "354365         NaN  14/03/2016 00:00                 0       39576   \n",
       "354366          no  05/03/2016 00:00                 0       26135   \n",
       "354367          no  19/03/2016 00:00                 0       87439   \n",
       "354368         NaN  20/03/2016 00:00                 0       40764   \n",
       "\n",
       "                LastSeen  \n",
       "0       07/04/2016 03:16  \n",
       "1       07/04/2016 01:46  \n",
       "2       05/04/2016 12:47  \n",
       "3       17/03/2016 17:40  \n",
       "4       06/04/2016 10:17  \n",
       "...                  ...  \n",
       "354364  21/03/2016 10:42  \n",
       "354365  06/04/2016 00:46  \n",
       "354366  11/03/2016 18:17  \n",
       "354367  07/04/2016 07:15  \n",
       "354368  24/03/2016 12:45  \n",
       "\n",
       "[354369 rows x 16 columns]"
      ]
     },
     "execution_count": 3,
     "metadata": {},
     "output_type": "execute_result"
    }
   ],
   "source": [
    "car_data"
   ]
  },
  {
   "cell_type": "code",
   "execution_count": 4,
   "metadata": {},
   "outputs": [
    {
     "data": {
      "text/plain": [
       "262"
      ]
     },
     "execution_count": 4,
     "metadata": {},
     "output_type": "execute_result"
    }
   ],
   "source": [
    "car_data.duplicated().sum()"
   ]
  },
  {
   "cell_type": "code",
   "execution_count": 5,
   "metadata": {},
   "outputs": [],
   "source": [
    "car_data.drop_duplicates(inplace=True)"
   ]
  },
  {
   "cell_type": "code",
   "execution_count": 6,
   "metadata": {
    "scrolled": false
   },
   "outputs": [
    {
     "name": "stdout",
     "output_type": "stream",
     "text": [
      "<class 'pandas.core.frame.DataFrame'>\n",
      "Int64Index: 354107 entries, 0 to 354368\n",
      "Data columns (total 16 columns):\n",
      " #   Column             Non-Null Count   Dtype \n",
      "---  ------             --------------   ----- \n",
      " 0   DateCrawled        354107 non-null  object\n",
      " 1   Price              354107 non-null  int64 \n",
      " 2   VehicleType        316623 non-null  object\n",
      " 3   RegistrationYear   354107 non-null  int64 \n",
      " 4   Gearbox            334277 non-null  object\n",
      " 5   Power              354107 non-null  int64 \n",
      " 6   Model              334406 non-null  object\n",
      " 7   Mileage            354107 non-null  int64 \n",
      " 8   RegistrationMonth  354107 non-null  int64 \n",
      " 9   FuelType           321218 non-null  object\n",
      " 10  Brand              354107 non-null  object\n",
      " 11  NotRepaired        282962 non-null  object\n",
      " 12  DateCreated        354107 non-null  object\n",
      " 13  NumberOfPictures   354107 non-null  int64 \n",
      " 14  PostalCode         354107 non-null  int64 \n",
      " 15  LastSeen           354107 non-null  object\n",
      "dtypes: int64(7), object(9)\n",
      "memory usage: 45.9+ MB\n"
     ]
    }
   ],
   "source": [
    "car_data.info()"
   ]
  },
  {
   "cell_type": "code",
   "execution_count": 7,
   "metadata": {
    "scrolled": true
   },
   "outputs": [
    {
     "data": {
      "text/plain": [
       "DateCrawled              0\n",
       "Price                    0\n",
       "VehicleType          37484\n",
       "RegistrationYear         0\n",
       "Gearbox              19830\n",
       "Power                    0\n",
       "Model                19701\n",
       "Mileage                  0\n",
       "RegistrationMonth        0\n",
       "FuelType             32889\n",
       "Brand                    0\n",
       "NotRepaired          71145\n",
       "DateCreated              0\n",
       "NumberOfPictures         0\n",
       "PostalCode               0\n",
       "LastSeen                 0\n",
       "dtype: int64"
      ]
     },
     "execution_count": 7,
     "metadata": {},
     "output_type": "execute_result"
    }
   ],
   "source": [
    "car_data.isnull().sum()"
   ]
  },
  {
   "cell_type": "code",
   "execution_count": 8,
   "metadata": {},
   "outputs": [],
   "source": [
    "car_data['DateCrawled'] = pd.to_datetime(car_data['DateCrawled'], format='%d/%m/%Y %H:%M')\n",
    "car_data['DateCreated'] = pd.to_datetime(car_data['DateCreated'], format='%d/%m/%Y %H:%M')\n",
    "car_data['LastSeen'] = pd.to_datetime(car_data['LastSeen'], format='%d/%m/%Y %H:%M')"
   ]
  },
  {
   "cell_type": "code",
   "execution_count": 9,
   "metadata": {
    "scrolled": true
   },
   "outputs": [],
   "source": [
    "car_data['VehicleType'].fillna(car_data['VehicleType'].mode()[0], inplace=True)\n",
    "car_data['Gearbox'].fillna(car_data['Gearbox'].mode()[0], inplace=True)\n",
    "car_data['Model'].fillna(car_data['Model'].mode()[0], inplace=True)\n",
    "car_data['FuelType'].fillna(car_data['FuelType'].mode()[0], inplace=True)\n",
    "car_data['NotRepaired'].fillna('unknown', inplace=True)"
   ]
  },
  {
   "cell_type": "code",
   "execution_count": 10,
   "metadata": {},
   "outputs": [
    {
     "name": "stdout",
     "output_type": "stream",
     "text": [
      "<class 'pandas.core.frame.DataFrame'>\n",
      "Int64Index: 354107 entries, 0 to 354368\n",
      "Data columns (total 16 columns):\n",
      " #   Column             Non-Null Count   Dtype         \n",
      "---  ------             --------------   -----         \n",
      " 0   DateCrawled        354107 non-null  datetime64[ns]\n",
      " 1   Price              354107 non-null  int64         \n",
      " 2   VehicleType        354107 non-null  object        \n",
      " 3   RegistrationYear   354107 non-null  int64         \n",
      " 4   Gearbox            354107 non-null  object        \n",
      " 5   Power              354107 non-null  int64         \n",
      " 6   Model              354107 non-null  object        \n",
      " 7   Mileage            354107 non-null  int64         \n",
      " 8   RegistrationMonth  354107 non-null  int64         \n",
      " 9   FuelType           354107 non-null  object        \n",
      " 10  Brand              354107 non-null  object        \n",
      " 11  NotRepaired        354107 non-null  object        \n",
      " 12  DateCreated        354107 non-null  datetime64[ns]\n",
      " 13  NumberOfPictures   354107 non-null  int64         \n",
      " 14  PostalCode         354107 non-null  int64         \n",
      " 15  LastSeen           354107 non-null  datetime64[ns]\n",
      "dtypes: datetime64[ns](3), int64(7), object(6)\n",
      "memory usage: 45.9+ MB\n"
     ]
    }
   ],
   "source": [
    "car_data.info()"
   ]
  },
  {
   "cell_type": "code",
   "execution_count": 11,
   "metadata": {},
   "outputs": [
    {
     "data": {
      "text/html": [
       "<div>\n",
       "<style scoped>\n",
       "    .dataframe tbody tr th:only-of-type {\n",
       "        vertical-align: middle;\n",
       "    }\n",
       "\n",
       "    .dataframe tbody tr th {\n",
       "        vertical-align: top;\n",
       "    }\n",
       "\n",
       "    .dataframe thead th {\n",
       "        text-align: right;\n",
       "    }\n",
       "</style>\n",
       "<table border=\"1\" class=\"dataframe\">\n",
       "  <thead>\n",
       "    <tr style=\"text-align: right;\">\n",
       "      <th></th>\n",
       "      <th>Price</th>\n",
       "      <th>RegistrationYear</th>\n",
       "      <th>Power</th>\n",
       "      <th>Mileage</th>\n",
       "      <th>RegistrationMonth</th>\n",
       "      <th>NumberOfPictures</th>\n",
       "      <th>PostalCode</th>\n",
       "    </tr>\n",
       "  </thead>\n",
       "  <tbody>\n",
       "    <tr>\n",
       "      <th>count</th>\n",
       "      <td>354107.000000</td>\n",
       "      <td>354107.000000</td>\n",
       "      <td>354107.000000</td>\n",
       "      <td>354107.000000</td>\n",
       "      <td>354107.000000</td>\n",
       "      <td>354107.0</td>\n",
       "      <td>354107.000000</td>\n",
       "    </tr>\n",
       "    <tr>\n",
       "      <th>mean</th>\n",
       "      <td>4416.433287</td>\n",
       "      <td>2004.235355</td>\n",
       "      <td>110.089651</td>\n",
       "      <td>128211.811684</td>\n",
       "      <td>5.714182</td>\n",
       "      <td>0.0</td>\n",
       "      <td>50507.145030</td>\n",
       "    </tr>\n",
       "    <tr>\n",
       "      <th>std</th>\n",
       "      <td>4514.338584</td>\n",
       "      <td>90.261168</td>\n",
       "      <td>189.914972</td>\n",
       "      <td>37906.590101</td>\n",
       "      <td>3.726682</td>\n",
       "      <td>0.0</td>\n",
       "      <td>25784.212094</td>\n",
       "    </tr>\n",
       "    <tr>\n",
       "      <th>min</th>\n",
       "      <td>0.000000</td>\n",
       "      <td>1000.000000</td>\n",
       "      <td>0.000000</td>\n",
       "      <td>5000.000000</td>\n",
       "      <td>0.000000</td>\n",
       "      <td>0.0</td>\n",
       "      <td>1067.000000</td>\n",
       "    </tr>\n",
       "    <tr>\n",
       "      <th>25%</th>\n",
       "      <td>1050.000000</td>\n",
       "      <td>1999.000000</td>\n",
       "      <td>69.000000</td>\n",
       "      <td>125000.000000</td>\n",
       "      <td>3.000000</td>\n",
       "      <td>0.0</td>\n",
       "      <td>30165.000000</td>\n",
       "    </tr>\n",
       "    <tr>\n",
       "      <th>50%</th>\n",
       "      <td>2700.000000</td>\n",
       "      <td>2003.000000</td>\n",
       "      <td>105.000000</td>\n",
       "      <td>150000.000000</td>\n",
       "      <td>6.000000</td>\n",
       "      <td>0.0</td>\n",
       "      <td>49406.000000</td>\n",
       "    </tr>\n",
       "    <tr>\n",
       "      <th>75%</th>\n",
       "      <td>6400.000000</td>\n",
       "      <td>2008.000000</td>\n",
       "      <td>143.000000</td>\n",
       "      <td>150000.000000</td>\n",
       "      <td>9.000000</td>\n",
       "      <td>0.0</td>\n",
       "      <td>71083.000000</td>\n",
       "    </tr>\n",
       "    <tr>\n",
       "      <th>max</th>\n",
       "      <td>20000.000000</td>\n",
       "      <td>9999.000000</td>\n",
       "      <td>20000.000000</td>\n",
       "      <td>150000.000000</td>\n",
       "      <td>12.000000</td>\n",
       "      <td>0.0</td>\n",
       "      <td>99998.000000</td>\n",
       "    </tr>\n",
       "  </tbody>\n",
       "</table>\n",
       "</div>"
      ],
      "text/plain": [
       "               Price  RegistrationYear          Power        Mileage  \\\n",
       "count  354107.000000     354107.000000  354107.000000  354107.000000   \n",
       "mean     4416.433287       2004.235355     110.089651  128211.811684   \n",
       "std      4514.338584         90.261168     189.914972   37906.590101   \n",
       "min         0.000000       1000.000000       0.000000    5000.000000   \n",
       "25%      1050.000000       1999.000000      69.000000  125000.000000   \n",
       "50%      2700.000000       2003.000000     105.000000  150000.000000   \n",
       "75%      6400.000000       2008.000000     143.000000  150000.000000   \n",
       "max     20000.000000       9999.000000   20000.000000  150000.000000   \n",
       "\n",
       "       RegistrationMonth  NumberOfPictures     PostalCode  \n",
       "count      354107.000000          354107.0  354107.000000  \n",
       "mean            5.714182               0.0   50507.145030  \n",
       "std             3.726682               0.0   25784.212094  \n",
       "min             0.000000               0.0    1067.000000  \n",
       "25%             3.000000               0.0   30165.000000  \n",
       "50%             6.000000               0.0   49406.000000  \n",
       "75%             9.000000               0.0   71083.000000  \n",
       "max            12.000000               0.0   99998.000000  "
      ]
     },
     "execution_count": 11,
     "metadata": {},
     "output_type": "execute_result"
    }
   ],
   "source": [
    "car_data.describe()"
   ]
  },
  {
   "cell_type": "code",
   "execution_count": 12,
   "metadata": {},
   "outputs": [],
   "source": [
    "import matplotlib.pyplot as plt\n",
    "import seaborn as sns"
   ]
  },
  {
   "cell_type": "code",
   "execution_count": 13,
   "metadata": {
    "scrolled": false
   },
   "outputs": [
    {
     "data": {
      "image/png": "[encoded data removed]",
      "text/plain": [
       "<Figure size 1000x600 with 1 Axes>"
      ]
     },
     "metadata": {},
     "output_type": "display_data"
    }
   ],
   "source": [
    "# Plot the distribution of the target variable 'Price'\n",
    "plt.figure(figsize=(10, 6))\n",
    "sns.histplot(car_data['Price'], bins=50, kde=True)\n",
    "plt.title('Distribution of Car Prices')\n",
    "plt.xlabel('Price (Euro)')\n",
    "plt.ylabel('Frequency')\n",
    "plt.show()"
   ]
  },
  {
   "cell_type": "markdown",
   "metadata": {},
   "source": [
    "The distribution is right-skewed, with a long tail towards higher prices.\n",
    "The peak of the distribution is at the lower end, between 0-2,500 euros.\n",
    "There's a steady decline in frequency as price increases."
   ]
  },
  {
   "cell_type": "code",
   "execution_count": 14,
   "metadata": {},
   "outputs": [
    {
     "data": {
      "image/png": "[encoded data removed]",
      "text/plain": [
       "<Figure size 1000x600 with 1 Axes>"
      ]
     },
     "metadata": {},
     "output_type": "display_data"
    }
   ],
   "source": [
    "# Plot the distribution of 'RegistrationYear'\n",
    "plt.figure(figsize=(10, 6))\n",
    "sns.histplot(car_data['Mileage'], bins=50, kde=True)\n",
    "plt.title('Distribution of Mileage')\n",
    "plt.xlabel('Mileage')\n",
    "plt.ylabel('Frequency')\n",
    "plt.show()"
   ]
  },
  {
   "cell_type": "markdown",
   "metadata": {},
   "source": [
    "There's a very strong peak at the highest mileage bin (around 150,000 km).\n",
    "Another smaller peak occurs around 120,000-130,000 km.\n",
    "The distribution is relatively flat for lower mileages, with a slight increase as mileage rises."
   ]
  },
  {
   "cell_type": "code",
   "execution_count": 15,
   "metadata": {},
   "outputs": [
    {
     "data": {
      "image/png": "[encoded data removed]",
      "text/plain": [
       "<Figure size 1000x600 with 1 Axes>"
      ]
     },
     "metadata": {},
     "output_type": "display_data"
    }
   ],
   "source": [
    "# Apply log transformation to 'Power'\n",
    "car_data['Log_Power'] = np.log1p(car_data['Power'])\n",
    "\n",
    "# Plot the distribution of 'Log_Power'\n",
    "plt.figure(figsize=(10, 6))\n",
    "sns.histplot(car_data['Log_Power'], bins=50, kde=True)\n",
    "plt.title('Distribution of Log Transformed Car Power (log1p(Power))')\n",
    "plt.xlabel('Log Power')\n",
    "plt.ylabel('Frequency')\n",
    "plt.show()"
   ]
  },
  {
   "cell_type": "markdown",
   "metadata": {},
   "source": [
    "The data appears to be roughly normally distributed after the log transformation.\n",
    "There's a small peak near zero, possibly representing very low-powered vehicles.\n",
    "The main peak is between 4 and 6 on the log scale.\n",
    "- The log transformation makes it easier to visualize and analyze the full range of car power, from low to high. On the original scale, the difference between high-powered cars might overshadow variations among lower-powered vehicles.\n",
    "- The small peak near zero could represent a distinct class of vehicles, possibly electric or very small cars, with fundamentally different power characteristics."
   ]
  },
  {
   "cell_type": "code",
   "execution_count": 16,
   "metadata": {
    "scrolled": false
   },
   "outputs": [
    {
     "data": {
      "image/png": "[encoded data removed]",
      "text/plain": [
       "<Figure size 1400x800 with 1 Axes>"
      ]
     },
     "metadata": {},
     "output_type": "display_data"
    }
   ],
   "source": [
    "plt.figure(figsize=(14, 8))\n",
    "sns.boxplot(x='VehicleType', y='Price', data=car_data)\n",
    "plt.title('Price Distribution by Vehicle Type')\n",
    "plt.xlabel('Vehicle Type')\n",
    "plt.ylabel('Price (Euro)')\n",
    "plt.xticks(rotation=45)\n",
    "plt.show()"
   ]
  },
  {
   "cell_type": "markdown",
   "metadata": {},
   "source": [
    "SUVs have the highest median price, followed by convertibles.\n",
    "Small cars and sedans tend to have lower prices.\n",
    "Most vehicle types show a wide range of prices, with many outliers on the higher end."
   ]
  },
  {
   "cell_type": "code",
   "execution_count": 17,
   "metadata": {},
   "outputs": [
    {
     "data": {
      "image/png": "[encoded data removed]",
      "text/plain": [
       "<Figure size 1000x600 with 1 Axes>"
      ]
     },
     "metadata": {},
     "output_type": "display_data"
    }
   ],
   "source": [
    "# Plot Power vs Price\n",
    "plt.figure(figsize=(10, 6))\n",
    "plt.scatter(car_data['Power'], car_data['Price'], alpha=0.5, c='blue')\n",
    "plt.title('Power vs Price')\n",
    "plt.xlabel('Power (HP)')\n",
    "plt.ylabel('Price (Euros)')\n",
    "plt.grid(True)\n",
    "plt.show()"
   ]
  },
  {
   "cell_type": "markdown",
   "metadata": {},
   "source": [
    "Power of the vehicle doesnt seem to have any effect on the price. "
   ]
  },
  {
   "cell_type": "markdown",
   "metadata": {},
   "source": [
    "## Model training"
   ]
  },
  {
   "cell_type": "markdown",
   "metadata": {},
   "source": [
    "<div class=\"alert alert-block alert-info\">\n",
    "<b>Student answer.</b> <a class=\"tocSkip\"></a>\n",
    "\n",
    "SGD Regressor from SKLearn has been imported above\n",
    "</div>"
   ]
  },
  {
   "cell_type": "code",
   "execution_count": 18,
   "metadata": {},
   "outputs": [],
   "source": [
    "# First lets drop the date columns\n",
    "car_data = car_data.drop(columns=['DateCrawled', 'DateCreated', 'LastSeen', 'NumberOfPictures', 'Power'])"
   ]
  },
  {
   "cell_type": "markdown",
   "metadata": {},
   "source": [
    "<div class=\"alert alert-block alert-info\">\n",
    "<b>Student answer.</b> <a class=\"tocSkip\"></a>\n",
    "\n",
    "NumberOfPictures added to columns to be dropped, missed it earlier.\n",
    "</div>"
   ]
  },
  {
   "cell_type": "code",
   "execution_count": 19,
   "metadata": {},
   "outputs": [],
   "source": [
    "# Split data into training, and test sets\n",
    "train_df, test_df = train_test_split(car_data, test_size=0.2, random_state=12345)"
   ]
  },
  {
   "cell_type": "code",
   "execution_count": 20,
   "metadata": {},
   "outputs": [],
   "source": [
    "# Define features and target\n",
    "target = 'Price'  # Assuming 'Price' is the target column\n",
    "features_train, target_train = train_df.drop(columns=[target]), train_df[target]\n",
    "features_test, target_test = test_df.drop(columns=[target]), test_df[target]"
   ]
  },
  {
   "cell_type": "code",
   "execution_count": 21,
   "metadata": {
    "scrolled": true
   },
   "outputs": [
    {
     "name": "stdout",
     "output_type": "stream",
     "text": [
      "features_train size: 119549627 bytes\n",
      "features_test size: 29886590 bytes\n",
      "target_train size: 4532576 bytes\n",
      "target_test size: 1133168 bytes\n",
      "df size: 160723241 bytes\n"
     ]
    }
   ],
   "source": [
    "# Checking size of variables\n",
    "import sys\n",
    "\n",
    "features_train_size = sys.getsizeof(features_train)\n",
    "features_test_size = sys.getsizeof(features_test)\n",
    "target_train_size = sys.getsizeof(target_train)\n",
    "target_test_size = sys.getsizeof(target_test)\n",
    "car_data_size = sys.getsizeof(car_data)\n",
    "# Print sizes of variables\n",
    "print(f\"features_train size: {features_train_size} bytes\")\n",
    "print(f\"features_test size: {features_test_size} bytes\")\n",
    "print(f\"target_train size: {target_train_size} bytes\")\n",
    "print(f\"target_test size: {target_test_size} bytes\")\n",
    "print(f\"df size: {car_data_size} bytes\")"
   ]
  },
  {
   "cell_type": "code",
   "execution_count": 22,
   "metadata": {},
   "outputs": [],
   "source": [
    "# Deleting variables to make space on memory for computation\n",
    "del car_data"
   ]
  },
  {
   "cell_type": "code",
   "execution_count": 23,
   "metadata": {},
   "outputs": [],
   "source": [
    "# Identify categorical features\n",
    "categorical_features = ['VehicleType', 'Gearbox', 'Model', 'FuelType', 'Brand', 'NotRepaired']\n",
    "# numerical features\n",
    "numerical_features = ['RegistrationYear', 'Mileage', 'RegistrationMonth', 'PostalCode']"
   ]
  },
  {
   "cell_type": "code",
   "execution_count": 24,
   "metadata": {},
   "outputs": [],
   "source": [
    "# Define the preprocessing steps for categorical and numerical features\n",
    "preprocessor = ColumnTransformer(\n",
    "    transformers=[\n",
    "        ('cat', OneHotEncoder(handle_unknown='ignore'), categorical_features),\n",
    "        ('num', StandardScaler(), numerical_features)\n",
    "    ])\n",
    "\n",
    "# Fit and transform the training data\n",
    "features_train_encoded = preprocessor.fit_transform(features_train)\n",
    "\n",
    "# Transform the test data\n",
    "features_test_encoded = preprocessor.transform(features_test)"
   ]
  },
  {
   "cell_type": "code",
   "execution_count": 25,
   "metadata": {},
   "outputs": [
    {
     "data": {
      "text/plain": [
       "(70822, 314)"
      ]
     },
     "execution_count": 25,
     "metadata": {},
     "output_type": "execute_result"
    }
   ],
   "source": [
    "features_test_encoded.shape"
   ]
  },
  {
   "cell_type": "code",
   "execution_count": 26,
   "metadata": {},
   "outputs": [],
   "source": [
    "del features_train"
   ]
  },
  {
   "cell_type": "markdown",
   "metadata": {},
   "source": [
    "### Linear Regression"
   ]
  },
  {
   "cell_type": "code",
   "execution_count": 27,
   "metadata": {},
   "outputs": [
    {
     "name": "stdout",
     "output_type": "stream",
     "text": [
      "Fitting 5 folds for each of 2 candidates, totalling 10 fits\n",
      "[CV] END .....................................normalize=True; total time=   1.8s\n",
      "[CV] END .....................................normalize=True; total time=   2.1s\n",
      "[CV] END .....................................normalize=True; total time=   2.1s\n",
      "[CV] END .....................................normalize=True; total time=   2.0s\n",
      "[CV] END .....................................normalize=True; total time=   2.0s\n",
      "[CV] END ....................................normalize=False; total time=  13.4s\n",
      "[CV] END ....................................normalize=False; total time=  12.5s\n",
      "[CV] END ....................................normalize=False; total time=  14.7s\n",
      "[CV] END ....................................normalize=False; total time=  14.0s\n",
      "[CV] END ....................................normalize=False; total time=  13.9s\n",
      "Linear Regression\n",
      "Best Parameters: {'normalize': False}\n",
      "Training Time: 96.63 seconds\n",
      "Prediction Time: 0.00 seconds\n",
      "RMSE: 3205.44\n"
     ]
    }
   ],
   "source": [
    "# Initialize Linear Regression\n",
    "lr = LinearRegression()\n",
    "\n",
    "# Define the parameter grid\n",
    "param_grid_lr = {\n",
    "    'normalize': [True, False]\n",
    "}\n",
    "\n",
    "# Setup GridSearchCV\n",
    "grid_search_lr = GridSearchCV(estimator=lr, param_grid=param_grid_lr, cv=5, scoring='neg_root_mean_squared_error', verbose=2, n_jobs=-1)\n",
    "start_time_train_lr = time.time()\n",
    "\n",
    "# Fit GridSearchCV\n",
    "grid_search_lr.fit(features_train_encoded, target_train)\n",
    "training_time_lr = time.time() - start_time_train_lr\n",
    "\n",
    "# Get the best estimator\n",
    "best_lr = grid_search_lr.best_estimator_\n",
    "\n",
    "# Start prediction time measurement\n",
    "start_time_predict_lr = time.time()\n",
    "predictions_lr = best_lr.predict(features_test_encoded)\n",
    "prediction_time_lr = time.time() - start_time_predict_lr\n",
    "\n",
    "# Calculate RMSE\n",
    "rmse_lr = mean_squared_error(target_test, predictions_lr, squared=False)\n",
    "\n",
    "# Print results\n",
    "print(\"Linear Regression\")\n",
    "print(f\"Best Parameters: {grid_search_lr.best_params_}\")\n",
    "print(f\"Training Time: {training_time_lr:.2f} seconds\")\n",
    "print(f\"Prediction Time: {prediction_time_lr:.2f} seconds\")\n",
    "print(f\"RMSE: {rmse_lr:.2f}\")"
   ]
  },
  {
   "cell_type": "markdown",
   "metadata": {},
   "source": [
    "### SDG Linear Regression"
   ]
  },
  {
   "cell_type": "code",
   "execution_count": 28,
   "metadata": {
    "scrolled": false
   },
   "outputs": [
    {
     "name": "stdout",
     "output_type": "stream",
     "text": [
      "Fitting 2 folds for each of 8 candidates, totalling 16 fits\n",
      "[CV] END ................alpha=0.01, eta0=0.01, max_iter=100; total time=   0.8s\n",
      "[CV] END ................alpha=0.01, eta0=0.01, max_iter=100; total time=   0.8s\n",
      "[CV] END ................alpha=0.01, eta0=0.01, max_iter=150; total time=   0.7s\n",
      "[CV] END ................alpha=0.01, eta0=0.01, max_iter=150; total time=   0.8s\n",
      "[CV] END .................alpha=0.01, eta0=0.1, max_iter=100; total time=   1.1s\n",
      "[CV] END .................alpha=0.01, eta0=0.1, max_iter=100; total time=   0.3s\n",
      "[CV] END .................alpha=0.01, eta0=0.1, max_iter=150; total time=   1.2s\n",
      "[CV] END .................alpha=0.01, eta0=0.1, max_iter=150; total time=   0.2s\n",
      "[CV] END .................alpha=0.1, eta0=0.01, max_iter=100; total time=   2.4s\n",
      "[CV] END .................alpha=0.1, eta0=0.01, max_iter=100; total time=   1.4s\n",
      "[CV] END .................alpha=0.1, eta0=0.01, max_iter=150; total time=   2.4s\n",
      "[CV] END .................alpha=0.1, eta0=0.01, max_iter=150; total time=   1.3s\n",
      "[CV] END ..................alpha=0.1, eta0=0.1, max_iter=100; total time=   0.3s\n",
      "[CV] END ..................alpha=0.1, eta0=0.1, max_iter=100; total time=   0.3s\n",
      "[CV] END ..................alpha=0.1, eta0=0.1, max_iter=150; total time=   0.3s\n",
      "[CV] END ..................alpha=0.1, eta0=0.1, max_iter=150; total time=   0.3s\n",
      "SGD Regression\n",
      "Best Parameters: {'alpha': 0.01, 'eta0': 0.01, 'max_iter': 100}\n",
      "Training Time: 16.25 seconds\n",
      "Prediction Time: 0.00 seconds\n",
      "RMSE: 3344.55\n"
     ]
    }
   ],
   "source": [
    "# Define the parameter grid\n",
    "param_grid_sgd = {\n",
    "    'alpha': [0.01, 0.1],\n",
    "    'eta0': [0.01, 0.1],\n",
    "    'max_iter': [100, 150]\n",
    "}\n",
    "\n",
    "# Initialize SGDRegressor\n",
    "sgd_linear = SGDRegressor(random_state=12345)\n",
    "\n",
    "# Setup GridSearchCV\n",
    "grid_search_sgd = GridSearchCV(estimator=sgd_linear, param_grid=param_grid_sgd, cv=2, scoring='neg_root_mean_squared_error', verbose=2, n_jobs=-1)\n",
    "\n",
    "# Start training time measurement\n",
    "start_time_train_sgd = time.time()\n",
    "\n",
    "# Fit GridSearchCV\n",
    "grid_search_sgd.fit(features_train_encoded, target_train)\n",
    "\n",
    "# Calculate training time\n",
    "training_time_sgd = time.time() - start_time_train_sgd\n",
    "\n",
    "# Get the best estimator\n",
    "best_sgd = grid_search_sgd.best_estimator_\n",
    "\n",
    "# Start prediction time measurement\n",
    "start_time_predict_sgd = time.time()\n",
    "\n",
    "# Predictions\n",
    "predictions_sgd = best_sgd.predict(features_test_encoded)\n",
    "\n",
    "# Calculate prediction time\n",
    "prediction_time_sgd = time.time() - start_time_predict_sgd\n",
    "\n",
    "# Calculate RMSE\n",
    "rmse_sgd = mean_squared_error(target_test, predictions_sgd, squared=False)\n",
    "\n",
    "# Print results\n",
    "print(\"SGD Regression\")\n",
    "print(f\"Best Parameters: {grid_search_sgd.best_params_}\")\n",
    "print(f\"Training Time: {training_time_sgd:.2f} seconds\")\n",
    "print(f\"Prediction Time: {prediction_time_sgd:.2f} seconds\")\n",
    "print(f\"RMSE: {rmse_sgd:.2f}\")"
   ]
  },
  {
   "cell_type": "markdown",
   "metadata": {},
   "source": [
    "### Random Forest"
   ]
  },
  {
   "cell_type": "code",
   "execution_count": 29,
   "metadata": {},
   "outputs": [
    {
     "name": "stdout",
     "output_type": "stream",
     "text": [
      "Fitting 2 folds for each of 4 candidates, totalling 8 fits\n",
      "[CV] END .......................max_depth=3, n_estimators=25; total time=   4.8s\n",
      "[CV] END .......................max_depth=3, n_estimators=25; total time=   5.0s\n",
      "[CV] END .......................max_depth=3, n_estimators=50; total time=   9.5s\n",
      "[CV] END .......................max_depth=3, n_estimators=50; total time=   9.9s\n",
      "[CV] END .......................max_depth=5, n_estimators=25; total time=  10.4s\n",
      "[CV] END .......................max_depth=5, n_estimators=25; total time=  10.8s\n",
      "[CV] END .......................max_depth=5, n_estimators=50; total time=  20.8s\n",
      "[CV] END .......................max_depth=5, n_estimators=50; total time=  21.6s\n",
      "Random Forest\n",
      "Best Parameters: {'max_depth': 5, 'n_estimators': 50}\n",
      "Training Time: 139.68 seconds\n",
      "Prediction Time: 0.24 seconds\n",
      "RMSE: 2845.62\n"
     ]
    }
   ],
   "source": [
    "param_grid_rf = {\n",
    "    'n_estimators': [25, 50],\n",
    "    'max_depth': [3, 5]\n",
    "}\n",
    "\n",
    "# Initialize Random Forest regressor\n",
    "rf = RandomForestRegressor(random_state=12345)\n",
    "\n",
    "# Setup GridSearchCV\n",
    "grid_search_rf = GridSearchCV(estimator=rf, param_grid=param_grid_rf, cv=2, scoring='neg_root_mean_squared_error', verbose=2, n_jobs=-1)\n",
    "\n",
    "# Start training time measurement\n",
    "start_time_train_rf = time.time()\n",
    "\n",
    "# Fit GridSearchCV\n",
    "grid_search_rf.fit(features_train_encoded, target_train)\n",
    "\n",
    "# Calculate training time\n",
    "training_time_rf = time.time() - start_time_train_rf\n",
    "\n",
    "# Get the best estimator\n",
    "best_rf = grid_search_rf.best_estimator_\n",
    "\n",
    "# Start prediction time measurement\n",
    "start_time_predict_rf = time.time()\n",
    "\n",
    "# Predictions\n",
    "predictions_rf = best_rf.predict(features_test_encoded)\n",
    "\n",
    "# Calculate prediction time\n",
    "prediction_time_rf = time.time() - start_time_predict_rf\n",
    "\n",
    "# Calculate RMSE\n",
    "rmse_rf = mean_squared_error(target_test, predictions_rf, squared=False)\n",
    "\n",
    "# Print results\n",
    "print(\"Random Forest\")\n",
    "print(f\"Best Parameters: {grid_search_rf.best_params_}\")\n",
    "print(f\"Training Time: {training_time_rf:.2f} seconds\")\n",
    "print(f\"Prediction Time: {prediction_time_rf:.2f} seconds\")\n",
    "print(f\"RMSE: {rmse_rf:.2f}\")"
   ]
  },
  {
   "cell_type": "markdown",
   "metadata": {},
   "source": [
    "### Catboost"
   ]
  },
  {
   "cell_type": "code",
   "execution_count": 30,
   "metadata": {},
   "outputs": [
    {
     "name": "stdout",
     "output_type": "stream",
     "text": [
      "Fitting 3 folds for each of 8 candidates, totalling 24 fits\n",
      "[CV] END .........depth=3, iterations=50, learning_rate=0.05; total time=   2.4s\n",
      "[CV] END .........depth=3, iterations=50, learning_rate=0.05; total time=   2.3s\n",
      "[CV] END .........depth=3, iterations=50, learning_rate=0.05; total time=   2.3s\n",
      "[CV] END ..........depth=3, iterations=50, learning_rate=0.1; total time=   2.2s\n",
      "[CV] END ..........depth=3, iterations=50, learning_rate=0.1; total time=   2.3s\n",
      "[CV] END ..........depth=3, iterations=50, learning_rate=0.1; total time=   2.3s\n",
      "[CV] END ........depth=3, iterations=100, learning_rate=0.05; total time=   3.6s\n",
      "[CV] END ........depth=3, iterations=100, learning_rate=0.05; total time=   3.7s\n",
      "[CV] END ........depth=3, iterations=100, learning_rate=0.05; total time=   3.7s\n",
      "[CV] END .........depth=3, iterations=100, learning_rate=0.1; total time=   3.5s\n",
      "[CV] END .........depth=3, iterations=100, learning_rate=0.1; total time=   3.6s\n",
      "[CV] END .........depth=3, iterations=100, learning_rate=0.1; total time=   3.6s\n",
      "[CV] END .........depth=5, iterations=50, learning_rate=0.05; total time=   2.6s\n",
      "[CV] END .........depth=5, iterations=50, learning_rate=0.05; total time=   2.6s\n",
      "[CV] END .........depth=5, iterations=50, learning_rate=0.05; total time=   2.7s\n",
      "[CV] END ..........depth=5, iterations=50, learning_rate=0.1; total time=   2.5s\n",
      "[CV] END ..........depth=5, iterations=50, learning_rate=0.1; total time=   2.6s\n",
      "[CV] END ..........depth=5, iterations=50, learning_rate=0.1; total time=   2.6s\n",
      "[CV] END ........depth=5, iterations=100, learning_rate=0.05; total time=   4.1s\n",
      "[CV] END ........depth=5, iterations=100, learning_rate=0.05; total time=   4.3s\n",
      "[CV] END ........depth=5, iterations=100, learning_rate=0.05; total time=   4.3s\n",
      "[CV] END .........depth=5, iterations=100, learning_rate=0.1; total time=   4.1s\n",
      "[CV] END .........depth=5, iterations=100, learning_rate=0.1; total time=   4.1s\n",
      "[CV] END .........depth=5, iterations=100, learning_rate=0.1; total time=   4.1s\n",
      "CatBoost\n",
      "Best Parameters: {'depth': 5, 'iterations': 100, 'learning_rate': 0.1}\n",
      "Training Time: 82.20 seconds\n",
      "Prediction Time: 0.08 seconds\n",
      "RMSE: 2290.31\n"
     ]
    }
   ],
   "source": [
    "# Initialize CatBoost\n",
    "catboost = CatBoostRegressor(random_state=12345, verbose=0)\n",
    "\n",
    "# Define the parameter grid\n",
    "param_grid_catboost = {\n",
    "    'iterations': [50, 100],\n",
    "    'learning_rate': [0.05, 0.1],\n",
    "    'depth': [3, 5]\n",
    "}\n",
    "\n",
    "# Setup GridSearchCV\n",
    "grid_search_catboost = GridSearchCV(estimator=catboost, param_grid=param_grid_catboost, cv=3, scoring='neg_root_mean_squared_error', verbose=2, n_jobs=-1)\n",
    "\n",
    "# Start training time measurement\n",
    "start_time_train_catboost = time.time()\n",
    "\n",
    "# Fit GridSearchCV\n",
    "grid_search_catboost.fit(features_train_encoded, target_train)\n",
    "\n",
    "# Calculate training time\n",
    "training_time_catboost = time.time() - start_time_train_catboost\n",
    "\n",
    "# Get the best estimator\n",
    "best_catboost = grid_search_catboost.best_estimator_\n",
    "\n",
    "# Start prediction time measurement\n",
    "start_time_predict_catboost = time.time()\n",
    "\n",
    "# Predictions\n",
    "predictions_catboost = best_catboost.predict(features_test_encoded)\n",
    "\n",
    "# Calculate prediction time\n",
    "prediction_time_catboost = time.time() - start_time_predict_catboost\n",
    "\n",
    "# Calculate RMSE\n",
    "rmse_catboost = mean_squared_error(target_test, predictions_catboost, squared=False)\n",
    "\n",
    "# Print results\n",
    "print(\"CatBoost\")\n",
    "print(f\"Best Parameters: {grid_search_catboost.best_params_}\")\n",
    "print(f\"Training Time: {training_time_catboost:.2f} seconds\")\n",
    "print(f\"Prediction Time: {prediction_time_catboost:.2f} seconds\")\n",
    "print(f\"RMSE: {rmse_catboost:.2f}\")"
   ]
  },
  {
   "cell_type": "markdown",
   "metadata": {},
   "source": [
    "### Light GBM"
   ]
  },
  {
   "cell_type": "code",
   "execution_count": 31,
   "metadata": {},
   "outputs": [
    {
     "name": "stdout",
     "output_type": "stream",
     "text": [
      "Fitting 2 folds for each of 8 candidates, totalling 16 fits\n",
      "[CV] END boosting_type=gbdt, learning_rate=0.05, num_leaves=20; total time=   3.6s\n",
      "[CV] END boosting_type=gbdt, learning_rate=0.05, num_leaves=20; total time=   4.2s\n",
      "[CV] END boosting_type=gbdt, learning_rate=0.05, num_leaves=30; total time=   4.0s\n",
      "[CV] END boosting_type=gbdt, learning_rate=0.05, num_leaves=30; total time=   4.3s\n",
      "[CV] END boosting_type=gbdt, learning_rate=0.1, num_leaves=20; total time=   3.4s\n",
      "[CV] END boosting_type=gbdt, learning_rate=0.1, num_leaves=20; total time=   3.4s\n",
      "[CV] END boosting_type=gbdt, learning_rate=0.1, num_leaves=30; total time=   4.6s\n",
      "[CV] END boosting_type=gbdt, learning_rate=0.1, num_leaves=30; total time=   4.2s\n",
      "[CV] END boosting_type=dart, learning_rate=0.05, num_leaves=20; total time=   9.8s\n",
      "[CV] END boosting_type=dart, learning_rate=0.05, num_leaves=20; total time=  13.6s\n",
      "[CV] END boosting_type=dart, learning_rate=0.05, num_leaves=30; total time=  11.4s\n",
      "[CV] END boosting_type=dart, learning_rate=0.05, num_leaves=30; total time=  11.2s\n",
      "[CV] END boosting_type=dart, learning_rate=0.1, num_leaves=20; total time=   9.7s\n",
      "[CV] END boosting_type=dart, learning_rate=0.1, num_leaves=20; total time=   9.7s\n",
      "[CV] END boosting_type=dart, learning_rate=0.1, num_leaves=30; total time=  11.4s\n",
      "[CV] END boosting_type=dart, learning_rate=0.1, num_leaves=30; total time=  11.3s\n",
      "LightGBM\n",
      "Best Parameters: {'boosting_type': 'gbdt', 'learning_rate': 0.1, 'num_leaves': 30}\n",
      "Training Time: 125.10 seconds\n",
      "Prediction Time: 0.71 seconds\n",
      "RMSE: 2076.11\n"
     ]
    }
   ],
   "source": [
    "# Define the parameter grid\n",
    "param_grid_lgbm = {\n",
    "    'boosting_type': ['gbdt', 'dart'],\n",
    "    'num_leaves': [20, 30],\n",
    "    'learning_rate': [0.05, 0.1],\n",
    "}\n",
    "\n",
    "# Initialize LightGBM\n",
    "lgbm = lgb.LGBMRegressor(random_state=12345)\n",
    "\n",
    "# Setup GridSearchCV\n",
    "grid_search_lgbm = GridSearchCV(estimator=lgbm, param_grid=param_grid_lgbm, cv=2, scoring='neg_root_mean_squared_error', verbose=2, n_jobs=-1)\n",
    "\n",
    "# Start training time measurement\n",
    "start_time_train_lgbm = time.time()\n",
    "\n",
    "# Fit GridSearchCV\n",
    "grid_search_lgbm.fit(features_train_encoded, target_train)\n",
    "\n",
    "# Calculate training time\n",
    "training_time_lgbm = time.time() - start_time_train_lgbm\n",
    "\n",
    "# Get the best estimator\n",
    "best_lgbm = grid_search_lgbm.best_estimator_\n",
    "\n",
    "# Start prediction time measurement\n",
    "start_time_predict_lgbm = time.time()\n",
    "\n",
    "# Predictions\n",
    "predictions_lgbm = best_lgbm.predict(features_test_encoded)\n",
    "\n",
    "# Calculate prediction time\n",
    "prediction_time_lgbm = time.time() - start_time_predict_lgbm\n",
    "\n",
    "# Calculate RMSE\n",
    "rmse_lgbm = mean_squared_error(target_test, predictions_lgbm, squared=False)\n",
    "\n",
    "# Print results\n",
    "print(\"LightGBM\")\n",
    "print(f\"Best Parameters: {grid_search_lgbm.best_params_}\")\n",
    "print(f\"Training Time: {training_time_lgbm:.2f} seconds\")\n",
    "print(f\"Prediction Time: {prediction_time_lgbm:.2f} seconds\")\n",
    "print(f\"RMSE: {rmse_lgbm:.2f}\")"
   ]
  },
  {
   "cell_type": "markdown",
   "metadata": {},
   "source": [
    "### XGBoost"
   ]
  },
  {
   "cell_type": "code",
   "execution_count": 32,
   "metadata": {},
   "outputs": [
    {
     "name": "stdout",
     "output_type": "stream",
     "text": [
      "Fitting 2 folds for each of 8 candidates, totalling 16 fits\n",
      "[CV] END .....learning_rate=0.05, max_depth=3, subsample=0.8; total time=  14.1s\n",
      "[CV] END .....learning_rate=0.05, max_depth=3, subsample=0.8; total time=  14.0s\n",
      "[CV] END .....learning_rate=0.05, max_depth=3, subsample=0.9; total time=  13.8s\n",
      "[CV] END .....learning_rate=0.05, max_depth=3, subsample=0.9; total time=  13.5s\n",
      "[CV] END .....learning_rate=0.05, max_depth=5, subsample=0.8; total time=  21.6s\n",
      "[CV] END .....learning_rate=0.05, max_depth=5, subsample=0.8; total time=  21.4s\n",
      "[CV] END .....learning_rate=0.05, max_depth=5, subsample=0.9; total time=  21.0s\n",
      "[CV] END .....learning_rate=0.05, max_depth=5, subsample=0.9; total time=  21.3s\n",
      "[CV] END ......learning_rate=0.1, max_depth=3, subsample=0.8; total time=  13.6s\n",
      "[CV] END ......learning_rate=0.1, max_depth=3, subsample=0.8; total time=  13.8s\n",
      "[CV] END ......learning_rate=0.1, max_depth=3, subsample=0.9; total time=  13.4s\n",
      "[CV] END ......learning_rate=0.1, max_depth=3, subsample=0.9; total time=  13.3s\n",
      "[CV] END ......learning_rate=0.1, max_depth=5, subsample=0.8; total time=  20.9s\n",
      "[CV] END ......learning_rate=0.1, max_depth=5, subsample=0.8; total time=  20.8s\n",
      "[CV] END ......learning_rate=0.1, max_depth=5, subsample=0.9; total time=  21.3s\n",
      "[CV] END ......learning_rate=0.1, max_depth=5, subsample=0.9; total time=  20.6s\n",
      "XGBoost\n",
      "Best Parameters: {'learning_rate': 0.1, 'max_depth': 5, 'subsample': 0.8}\n",
      "Training Time: 316.29 seconds\n",
      "Prediction Time: 0.48 seconds\n",
      "RMSE: 2164.63\n"
     ]
    }
   ],
   "source": [
    "# Initialize XGBoost\n",
    "xgb = XGBRegressor(random_state=12345)\n",
    "\n",
    "# Define the parameter grid\n",
    "param_grid_xgb = {\n",
    "    'learning_rate': [0.05, 0.1],\n",
    "    'max_depth': [3, 5],\n",
    "    'subsample': [0.8, 0.9]\n",
    "}\n",
    "\n",
    "# Setup GridSearchCV\n",
    "grid_search_xgb = GridSearchCV(estimator=xgb, param_grid=param_grid_xgb, cv=2, scoring='neg_root_mean_squared_error', verbose=2, n_jobs=-1)\n",
    "\n",
    "# Start training time measurement\n",
    "start_time_train_xgb = time.time()\n",
    "\n",
    "# Fit GridSearchCV\n",
    "grid_search_xgb.fit(features_train_encoded, target_train)\n",
    "\n",
    "# Calculate training time\n",
    "training_time_xgb = time.time() - start_time_train_xgb\n",
    "\n",
    "# Get the best estimator\n",
    "best_xgb = grid_search_xgb.best_estimator_\n",
    "\n",
    "# Start prediction time measurement\n",
    "start_time_predict_xgb = time.time()\n",
    "\n",
    "# Predictions\n",
    "predictions_xgb = best_xgb.predict(features_test_encoded)\n",
    "\n",
    "# Calculate prediction time\n",
    "prediction_time_xgb = time.time() - start_time_predict_xgb\n",
    "\n",
    "# Calculate RMSE\n",
    "rmse_xgb = mean_squared_error(target_test, predictions_xgb, squared=False)\n",
    "\n",
    "# Print results\n",
    "print(\"XGBoost\")\n",
    "print(f\"Best Parameters: {grid_search_xgb.best_params_}\")\n",
    "print(f\"Training Time: {training_time_xgb:.2f} seconds\")\n",
    "print(f\"Prediction Time: {prediction_time_xgb:.2f} seconds\")\n",
    "print(f\"RMSE: {rmse_xgb:.2f}\")"
   ]
  },
  {
   "cell_type": "markdown",
   "metadata": {},
   "source": [
    "## Model analysis"
   ]
  },
  {
   "cell_type": "markdown",
   "metadata": {},
   "source": [
    "### Conclusion\n",
    "#### Model Performance:\n",
    "\n",
    "- Linear Regression: RMSE: 3205.44 | Training Time: 94.39 seconds | Prediction Time: 0.00 seconds\n",
    "- SGD Linear Regression: RMSE: 3344.55 | Training Time: 16.40 seconds | Prediction Time: 0.00 seconds\n",
    "- Random Forest: RMSE: 2845.62 | Training Time: 141.27 seconds | Prediction Time: 0.24 seconds\n",
    "- CatBoost: RMSE: 2290.31 | Training Time: 81.59 seconds | Prediction Time: 0.07 seconds\n",
    "- LightGBM: RMSE: 2076.11 | Training Time: 123.03 seconds | Prediction Time: 0.73 seconds\n",
    "- XGBoost: RMSE: 2164.63 | Training Time: 312.06 seconds | Prediction Time: 0.47 seconds\n",
    "\n",
    "Among the models evaluated, LightGBM achieved the lowest RMSE, indicating superior predictive performance. CatBoost also performed well in terms of RMSE and had a shorter training time compared to LightGBM and XGBoost.\n",
    "\n",
    "\n",
    "#### Additional Insights:\n",
    "- Price Distribution:\n",
    "The distribution is right-skewed, with a long tail towards higher prices. The peak occurs at lower prices, particularly between 0-2,500 euros, with a decline in frequency as price increases.\n",
    "\n",
    "- Mileage Distribution:\n",
    "There's a strong peak at higher mileages around 150,000 km, with another smaller peak at 120,000-130,000 km. Lower mileages exhibit a flatter distribution, with a slight increase as mileage rises.\n",
    "\n",
    "- Power Distribution (Log Transformed):\n",
    "After log transformation, the data appears roughly normally distributed. A small peak near zero on the log scale may represent very low-powered vehicles, possibly electric or very small cars.\n",
    "\n",
    "- Vehicle Types and Prices:\n",
    "SUVs have the highest median prices, followed by convertibles. Small cars and sedans tend to have lower prices. Most vehicle types exhibit a wide price range, with numerous outliers at the higher end.\n",
    "\n",
    "#### Implications:\n",
    "- Model Selection: LightGBM demonstrated the best overall performance with the lowest RMSE, suggesting its suitability for predicting car prices in this dataset. CatBoost and XGBoost also performed competitively.\n",
    "- Data Transformation: Log transformation of power data facilitated easier visualization and analysis across a wide range of power values, highlighting distinctions among vehicle types and power classes.\n",
    "\n",
    "These insights and model evaluations provide a comprehensive understanding of car price prediction based on historical data, aiding in decision-making for Rusty Bargain's app development and attracting new customers interested in assessing their vehicle's market value."
   ]
  },
  {
   "cell_type": "code",
   "execution_count": null,
   "metadata": {},
   "outputs": [],
   "source": []
  }
 ],
 "metadata": {
  "ExecuteTimeLog": [
   {
    "duration": 455,
    "start_time": "2024-06-29T16:16:01.355Z"
   },
   {
    "duration": 925,
    "start_time": "2024-06-29T16:17:17.478Z"
   },
   {
    "duration": 39,
    "start_time": "2024-06-29T16:17:23.547Z"
   },
   {
    "duration": 157,
    "start_time": "2024-06-29T16:21:01.689Z"
   },
   {
    "duration": 153,
    "start_time": "2024-06-29T16:21:09.527Z"
   },
   {
    "duration": 32,
    "start_time": "2024-06-29T16:21:33.461Z"
   },
   {
    "duration": 138,
    "start_time": "2024-06-29T16:24:56.731Z"
   },
   {
    "duration": 403,
    "start_time": "2024-06-29T16:33:34.865Z"
   },
   {
    "duration": 399,
    "start_time": "2024-06-29T16:33:44.366Z"
   },
   {
    "duration": 420,
    "start_time": "2024-06-29T16:33:57.258Z"
   },
   {
    "duration": 400,
    "start_time": "2024-06-29T16:34:17.798Z"
   },
   {
    "duration": 489,
    "start_time": "2024-06-29T16:35:22.108Z"
   },
   {
    "duration": 22,
    "start_time": "2024-06-29T16:35:50.284Z"
   },
   {
    "duration": 144,
    "start_time": "2024-06-29T16:36:16.475Z"
   },
   {
    "duration": 37,
    "start_time": "2024-06-29T16:36:40.167Z"
   },
   {
    "duration": 437,
    "start_time": "2024-06-29T16:37:04.955Z"
   },
   {
    "duration": 738,
    "start_time": "2024-06-29T16:37:05.395Z"
   },
   {
    "duration": 38,
    "start_time": "2024-06-29T16:37:06.135Z"
   },
   {
    "duration": 439,
    "start_time": "2024-06-29T16:37:06.178Z"
   },
   {
    "duration": 470,
    "start_time": "2024-06-29T16:37:06.620Z"
   },
   {
    "duration": 154,
    "start_time": "2024-06-29T16:37:07.092Z"
   },
   {
    "duration": 147,
    "start_time": "2024-06-29T16:37:07.249Z"
   },
   {
    "duration": 467,
    "start_time": "2024-06-29T16:38:41.185Z"
   },
   {
    "duration": 142,
    "start_time": "2024-06-29T16:38:47.554Z"
   },
   {
    "duration": 144,
    "start_time": "2024-06-29T16:38:52.891Z"
   },
   {
    "duration": 420,
    "start_time": "2024-06-29T16:45:27.067Z"
   },
   {
    "duration": 720,
    "start_time": "2024-06-29T16:45:27.492Z"
   },
   {
    "duration": 43,
    "start_time": "2024-06-29T16:45:28.216Z"
   },
   {
    "duration": 425,
    "start_time": "2024-06-29T16:45:28.262Z"
   },
   {
    "duration": 462,
    "start_time": "2024-06-29T16:45:28.691Z"
   },
   {
    "duration": 150,
    "start_time": "2024-06-29T16:45:29.157Z"
   },
   {
    "duration": 151,
    "start_time": "2024-06-29T16:45:29.311Z"
   },
   {
    "duration": 140,
    "start_time": "2024-06-29T16:53:19.389Z"
   },
   {
    "duration": 363,
    "start_time": "2024-06-29T17:05:47.543Z"
   },
   {
    "duration": 272,
    "start_time": "2024-06-29T17:05:54.645Z"
   },
   {
    "duration": 2871,
    "start_time": "2024-06-29T17:07:32.789Z"
   },
   {
    "duration": 25,
    "start_time": "2024-06-29T17:07:53.629Z"
   },
   {
    "duration": 22,
    "start_time": "2024-06-29T17:07:57.962Z"
   },
   {
    "duration": 8,
    "start_time": "2024-06-29T17:08:33.117Z"
   },
   {
    "duration": 137,
    "start_time": "2024-06-29T18:00:43.268Z"
   },
   {
    "duration": 27,
    "start_time": "2024-06-29T18:00:55.349Z"
   },
   {
    "duration": 34,
    "start_time": "2024-06-29T18:01:10.718Z"
   },
   {
    "duration": 327,
    "start_time": "2024-06-29T19:39:40.802Z"
   },
   {
    "duration": 441,
    "start_time": "2024-06-29T19:39:56.578Z"
   },
   {
    "duration": 835,
    "start_time": "2024-06-29T19:39:57.025Z"
   },
   {
    "duration": 40,
    "start_time": "2024-06-29T19:39:57.863Z"
   },
   {
    "duration": 426,
    "start_time": "2024-06-29T19:39:57.924Z"
   },
   {
    "duration": 498,
    "start_time": "2024-06-29T19:39:58.352Z"
   },
   {
    "duration": 175,
    "start_time": "2024-06-29T19:39:58.853Z"
   },
   {
    "duration": 144,
    "start_time": "2024-06-29T19:39:59.032Z"
   },
   {
    "duration": 2875,
    "start_time": "2024-06-29T19:39:59.180Z"
   },
   {
    "duration": 178,
    "start_time": "2024-06-29T19:40:02.058Z"
   },
   {
    "duration": 36,
    "start_time": "2024-06-29T19:40:02.241Z"
   },
   {
    "duration": 41,
    "start_time": "2024-06-29T19:48:39.946Z"
   },
   {
    "duration": 572,
    "start_time": "2024-06-29T19:49:32.799Z"
   },
   {
    "duration": 1524,
    "start_time": "2024-06-29T19:49:53.273Z"
   },
   {
    "duration": 588,
    "start_time": "2024-06-29T19:50:02.487Z"
   },
   {
    "duration": 40,
    "start_time": "2024-06-29T19:57:36.953Z"
   },
   {
    "duration": 470,
    "start_time": "2024-06-30T03:41:40.921Z"
   },
   {
    "duration": 462,
    "start_time": "2024-06-30T03:41:51.294Z"
   },
   {
    "duration": 773,
    "start_time": "2024-06-30T03:41:51.760Z"
   },
   {
    "duration": 40,
    "start_time": "2024-06-30T03:41:52.536Z"
   },
   {
    "duration": 418,
    "start_time": "2024-06-30T03:41:52.580Z"
   },
   {
    "duration": 510,
    "start_time": "2024-06-30T03:41:53.003Z"
   },
   {
    "duration": 151,
    "start_time": "2024-06-30T03:41:53.516Z"
   },
   {
    "duration": 157,
    "start_time": "2024-06-30T03:41:53.670Z"
   },
   {
    "duration": 2813,
    "start_time": "2024-06-30T03:41:53.830Z"
   },
   {
    "duration": 195,
    "start_time": "2024-06-30T03:41:56.646Z"
   },
   {
    "duration": 634,
    "start_time": "2024-06-30T03:41:56.845Z"
   },
   {
    "duration": 105,
    "start_time": "2024-06-30T03:42:10.453Z"
   },
   {
    "duration": 5497,
    "start_time": "2024-06-30T03:44:41.280Z"
   },
   {
    "duration": 660,
    "start_time": "2024-06-30T03:47:39.800Z"
   },
   {
    "duration": 2626,
    "start_time": "2024-06-30T03:48:21.093Z"
   },
   {
    "duration": 2955,
    "start_time": "2024-06-30T03:51:10.971Z"
   },
   {
    "duration": 2634,
    "start_time": "2024-06-30T03:51:54.533Z"
   },
   {
    "duration": 2610,
    "start_time": "2024-06-30T03:52:03.655Z"
   },
   {
    "duration": 2903,
    "start_time": "2024-06-30T03:53:02.969Z"
   },
   {
    "duration": 626,
    "start_time": "2024-06-30T03:54:16.407Z"
   },
   {
    "duration": 129,
    "start_time": "2024-06-30T03:54:34.895Z"
   },
   {
    "duration": 490,
    "start_time": "2024-06-30T03:54:39.406Z"
   },
   {
    "duration": 731,
    "start_time": "2024-06-30T03:54:49.389Z"
   },
   {
    "duration": 2875,
    "start_time": "2024-06-30T03:55:49.598Z"
   },
   {
    "duration": 668,
    "start_time": "2024-06-30T03:59:46.319Z"
   },
   {
    "duration": 20032,
    "start_time": "2024-06-30T04:01:40.234Z"
   },
   {
    "duration": 2564,
    "start_time": "2024-06-30T04:05:06.262Z"
   },
   {
    "duration": 1240,
    "start_time": "2024-07-01T15:54:48.108Z"
   },
   {
    "duration": 811,
    "start_time": "2024-07-01T15:54:52.998Z"
   },
   {
    "duration": 49,
    "start_time": "2024-07-01T15:54:53.811Z"
   },
   {
    "duration": 442,
    "start_time": "2024-07-01T15:54:53.862Z"
   },
   {
    "duration": 472,
    "start_time": "2024-07-01T15:54:54.308Z"
   },
   {
    "duration": 154,
    "start_time": "2024-07-01T15:54:54.783Z"
   },
   {
    "duration": 142,
    "start_time": "2024-07-01T15:54:54.942Z"
   },
   {
    "duration": 2792,
    "start_time": "2024-07-01T15:54:55.087Z"
   },
   {
    "duration": 181,
    "start_time": "2024-07-01T15:54:57.882Z"
   },
   {
    "duration": 104,
    "start_time": "2024-07-01T15:54:58.066Z"
   },
   {
    "duration": 4344,
    "start_time": "2024-07-01T15:54:58.173Z"
   },
   {
    "duration": 2742,
    "start_time": "2024-07-01T15:55:02.521Z"
   },
   {
    "duration": 2731,
    "start_time": "2024-07-01T15:55:05.267Z"
   },
   {
    "duration": 2670,
    "start_time": "2024-07-01T15:55:08.001Z"
   },
   {
    "duration": 745,
    "start_time": "2024-07-01T15:55:10.676Z"
   },
   {
    "duration": 309,
    "start_time": "2024-07-01T18:09:16.103Z"
   },
   {
    "duration": 1187,
    "start_time": "2024-07-01T18:09:24.684Z"
   },
   {
    "duration": 784,
    "start_time": "2024-07-01T18:09:25.875Z"
   },
   {
    "duration": 38,
    "start_time": "2024-07-01T18:09:26.662Z"
   },
   {
    "duration": 430,
    "start_time": "2024-07-01T18:09:26.704Z"
   },
   {
    "duration": 487,
    "start_time": "2024-07-01T18:09:27.138Z"
   },
   {
    "duration": 147,
    "start_time": "2024-07-01T18:09:27.631Z"
   },
   {
    "duration": 152,
    "start_time": "2024-07-01T18:09:27.781Z"
   },
   {
    "duration": 2929,
    "start_time": "2024-07-01T18:09:27.936Z"
   },
   {
    "duration": 178,
    "start_time": "2024-07-01T18:09:30.868Z"
   },
   {
    "duration": 108,
    "start_time": "2024-07-01T18:09:31.052Z"
   },
   {
    "duration": 4140,
    "start_time": "2024-07-01T18:09:31.163Z"
   },
   {
    "duration": 2679,
    "start_time": "2024-07-01T18:09:35.306Z"
   },
   {
    "duration": 2638,
    "start_time": "2024-07-01T18:09:37.988Z"
   },
   {
    "duration": 2584,
    "start_time": "2024-07-01T18:09:40.632Z"
   },
   {
    "duration": 635,
    "start_time": "2024-07-01T18:09:43.221Z"
   },
   {
    "duration": 43,
    "start_time": "2024-07-01T18:09:43.859Z"
   },
   {
    "duration": 38,
    "start_time": "2024-07-01T18:10:53.788Z"
   },
   {
    "duration": 29,
    "start_time": "2024-07-01T18:11:01.143Z"
   },
   {
    "duration": 32,
    "start_time": "2024-07-01T18:35:56.581Z"
   },
   {
    "duration": 143,
    "start_time": "2024-07-01T19:25:57.523Z"
   },
   {
    "duration": 3,
    "start_time": "2024-07-01T19:26:09.919Z"
   },
   {
    "duration": 762,
    "start_time": "2024-07-01T19:26:10.144Z"
   },
   {
    "duration": 864,
    "start_time": "2024-07-01T19:27:33.320Z"
   },
   {
    "duration": 1197,
    "start_time": "2024-07-01T19:28:18.497Z"
   },
   {
    "duration": 745,
    "start_time": "2024-07-01T19:28:19.697Z"
   },
   {
    "duration": 40,
    "start_time": "2024-07-01T19:28:20.445Z"
   },
   {
    "duration": 432,
    "start_time": "2024-07-01T19:28:20.490Z"
   },
   {
    "duration": 479,
    "start_time": "2024-07-01T19:28:20.930Z"
   },
   {
    "duration": 173,
    "start_time": "2024-07-01T19:28:21.413Z"
   },
   {
    "duration": 166,
    "start_time": "2024-07-01T19:28:21.589Z"
   },
   {
    "duration": 3060,
    "start_time": "2024-07-01T19:28:21.758Z"
   },
   {
    "duration": 207,
    "start_time": "2024-07-01T19:28:24.822Z"
   },
   {
    "duration": 178,
    "start_time": "2024-07-01T19:28:25.038Z"
   },
   {
    "duration": 531,
    "start_time": "2024-07-01T19:28:25.219Z"
   },
   {
    "duration": 3232,
    "start_time": "2024-07-01T19:28:25.753Z"
   },
   {
    "duration": 3103,
    "start_time": "2024-07-01T19:28:28.989Z"
   },
   {
    "duration": 2690,
    "start_time": "2024-07-01T19:28:32.096Z"
   },
   {
    "duration": 682,
    "start_time": "2024-07-01T19:28:34.790Z"
   },
   {
    "duration": 81,
    "start_time": "2024-07-01T19:28:35.483Z"
   },
   {
    "duration": 5,
    "start_time": "2024-07-01T19:28:35.568Z"
   },
   {
    "duration": 749,
    "start_time": "2024-07-01T19:28:35.577Z"
   },
   {
    "duration": 56,
    "start_time": "2024-07-01T19:29:04.801Z"
   },
   {
    "duration": 8,
    "start_time": "2024-07-01T19:38:54.315Z"
   },
   {
    "duration": 1135,
    "start_time": "2024-07-01T19:39:07.246Z"
   },
   {
    "duration": 6,
    "start_time": "2024-07-01T19:39:26.170Z"
   },
   {
    "duration": 1125,
    "start_time": "2024-07-01T19:39:35.989Z"
   },
   {
    "duration": 5,
    "start_time": "2024-07-01T19:39:39.049Z"
   },
   {
    "duration": 1186,
    "start_time": "2024-07-01T19:39:50.502Z"
   },
   {
    "duration": 834,
    "start_time": "2024-07-01T19:39:51.693Z"
   },
   {
    "duration": 42,
    "start_time": "2024-07-01T19:39:52.529Z"
   },
   {
    "duration": 464,
    "start_time": "2024-07-01T19:39:52.574Z"
   },
   {
    "duration": 504,
    "start_time": "2024-07-01T19:39:53.044Z"
   },
   {
    "duration": 172,
    "start_time": "2024-07-01T19:39:53.550Z"
   },
   {
    "duration": 147,
    "start_time": "2024-07-01T19:39:53.734Z"
   },
   {
    "duration": 2891,
    "start_time": "2024-07-01T19:39:53.884Z"
   },
   {
    "duration": 241,
    "start_time": "2024-07-01T19:39:56.779Z"
   },
   {
    "duration": 110,
    "start_time": "2024-07-01T19:39:57.023Z"
   },
   {
    "duration": 411,
    "start_time": "2024-07-01T19:39:57.136Z"
   },
   {
    "duration": 2661,
    "start_time": "2024-07-01T19:39:57.551Z"
   },
   {
    "duration": 2822,
    "start_time": "2024-07-01T19:40:00.216Z"
   },
   {
    "duration": 2640,
    "start_time": "2024-07-01T19:40:03.047Z"
   },
   {
    "duration": 654,
    "start_time": "2024-07-01T19:40:05.693Z"
   },
   {
    "duration": 37,
    "start_time": "2024-07-01T19:40:06.350Z"
   },
   {
    "duration": 4,
    "start_time": "2024-07-01T19:40:06.390Z"
   },
   {
    "duration": 737,
    "start_time": "2024-07-01T19:40:06.397Z"
   },
   {
    "duration": 1111,
    "start_time": "2024-07-01T19:40:07.137Z"
   },
   {
    "duration": 6,
    "start_time": "2024-07-01T19:40:08.251Z"
   },
   {
    "duration": 6,
    "start_time": "2024-07-01T19:40:21.444Z"
   },
   {
    "duration": 430,
    "start_time": "2024-07-02T19:17:41.490Z"
   },
   {
    "duration": 1417,
    "start_time": "2024-07-02T19:17:46.262Z"
   },
   {
    "duration": 880,
    "start_time": "2024-07-02T19:17:47.683Z"
   },
   {
    "duration": 49,
    "start_time": "2024-07-02T19:17:48.567Z"
   },
   {
    "duration": 462,
    "start_time": "2024-07-02T19:17:48.622Z"
   },
   {
    "duration": 512,
    "start_time": "2024-07-02T19:17:49.087Z"
   },
   {
    "duration": 196,
    "start_time": "2024-07-02T19:17:49.602Z"
   },
   {
    "duration": 163,
    "start_time": "2024-07-02T19:17:49.804Z"
   },
   {
    "duration": 3471,
    "start_time": "2024-07-02T19:17:49.970Z"
   },
   {
    "duration": 275,
    "start_time": "2024-07-02T19:17:53.450Z"
   },
   {
    "duration": 157,
    "start_time": "2024-07-02T19:17:53.734Z"
   },
   {
    "duration": 5044,
    "start_time": "2024-07-02T19:17:53.899Z"
   },
   {
    "duration": 3129,
    "start_time": "2024-07-02T19:17:58.946Z"
   },
   {
    "duration": 3097,
    "start_time": "2024-07-02T19:18:02.078Z"
   },
   {
    "duration": 3054,
    "start_time": "2024-07-02T19:18:05.184Z"
   },
   {
    "duration": 839,
    "start_time": "2024-07-02T19:18:08.245Z"
   },
   {
    "duration": 54,
    "start_time": "2024-07-02T19:18:09.087Z"
   },
   {
    "duration": 5,
    "start_time": "2024-07-02T19:18:09.144Z"
   },
   {
    "duration": 727,
    "start_time": "2024-07-02T19:18:09.152Z"
   },
   {
    "duration": 1410,
    "start_time": "2024-07-02T19:18:09.890Z"
   },
   {
    "duration": 195,
    "start_time": "2024-07-02T19:18:15.603Z"
   },
   {
    "duration": 21095,
    "start_time": "2024-07-02T19:19:45.473Z"
   },
   {
    "duration": 35,
    "start_time": "2024-07-02T19:20:29.316Z"
   },
   {
    "duration": 8,
    "start_time": "2024-07-02T19:20:44.485Z"
   },
   {
    "duration": 1197,
    "start_time": "2024-07-02T21:02:19.772Z"
   },
   {
    "duration": 765,
    "start_time": "2024-07-02T21:02:20.972Z"
   },
   {
    "duration": 37,
    "start_time": "2024-07-02T21:02:21.740Z"
   },
   {
    "duration": 426,
    "start_time": "2024-07-02T21:02:21.781Z"
   },
   {
    "duration": 512,
    "start_time": "2024-07-02T21:02:22.210Z"
   },
   {
    "duration": 155,
    "start_time": "2024-07-02T21:02:22.725Z"
   },
   {
    "duration": 147,
    "start_time": "2024-07-02T21:02:22.883Z"
   },
   {
    "duration": 2818,
    "start_time": "2024-07-02T21:02:23.034Z"
   },
   {
    "duration": 186,
    "start_time": "2024-07-02T21:02:25.855Z"
   },
   {
    "duration": 110,
    "start_time": "2024-07-02T21:02:26.046Z"
   },
   {
    "duration": 3996,
    "start_time": "2024-07-02T21:02:26.158Z"
   },
   {
    "duration": 2652,
    "start_time": "2024-07-02T21:02:30.157Z"
   },
   {
    "duration": 2648,
    "start_time": "2024-07-02T21:02:32.812Z"
   },
   {
    "duration": 2680,
    "start_time": "2024-07-02T21:02:35.463Z"
   },
   {
    "duration": 648,
    "start_time": "2024-07-02T21:02:38.146Z"
   },
   {
    "duration": 44,
    "start_time": "2024-07-02T21:02:38.797Z"
   },
   {
    "duration": 3,
    "start_time": "2024-07-02T21:02:38.844Z"
   },
   {
    "duration": 729,
    "start_time": "2024-07-02T21:02:38.850Z"
   },
   {
    "duration": 1134,
    "start_time": "2024-07-02T21:02:39.582Z"
   },
   {
    "duration": 20425,
    "start_time": "2024-07-02T21:02:40.719Z"
   },
   {
    "duration": 61,
    "start_time": "2024-07-02T21:03:01.147Z"
   },
   {
    "duration": 434,
    "start_time": "2024-07-02T21:42:32.303Z"
   },
   {
    "duration": 28,
    "start_time": "2024-07-02T21:43:01.805Z"
   },
   {
    "duration": 30,
    "start_time": "2024-07-02T21:43:07.068Z"
   },
   {
    "duration": 5,
    "start_time": "2024-07-02T21:43:44.211Z"
   },
   {
    "duration": 29,
    "start_time": "2024-07-02T21:43:51.863Z"
   },
   {
    "duration": 319,
    "start_time": "2024-07-02T21:44:04.599Z"
   },
   {
    "duration": 1258,
    "start_time": "2024-07-02T21:44:31.710Z"
   },
   {
    "duration": 776,
    "start_time": "2024-07-02T21:44:32.971Z"
   },
   {
    "duration": 40,
    "start_time": "2024-07-02T21:44:33.750Z"
   },
   {
    "duration": 414,
    "start_time": "2024-07-02T21:44:33.807Z"
   },
   {
    "duration": 467,
    "start_time": "2024-07-02T21:44:34.223Z"
   },
   {
    "duration": 160,
    "start_time": "2024-07-02T21:44:34.693Z"
   },
   {
    "duration": 157,
    "start_time": "2024-07-02T21:44:34.858Z"
   },
   {
    "duration": 2862,
    "start_time": "2024-07-02T21:44:35.019Z"
   },
   {
    "duration": 193,
    "start_time": "2024-07-02T21:44:37.884Z"
   },
   {
    "duration": 124,
    "start_time": "2024-07-02T21:44:38.083Z"
   },
   {
    "duration": 417,
    "start_time": "2024-07-02T21:44:38.211Z"
   },
   {
    "duration": 2663,
    "start_time": "2024-07-02T21:44:38.631Z"
   },
   {
    "duration": 2644,
    "start_time": "2024-07-02T21:44:41.297Z"
   },
   {
    "duration": 2585,
    "start_time": "2024-07-02T21:44:43.944Z"
   },
   {
    "duration": 648,
    "start_time": "2024-07-02T21:44:46.532Z"
   },
   {
    "duration": 50,
    "start_time": "2024-07-02T21:44:47.183Z"
   },
   {
    "duration": 4,
    "start_time": "2024-07-02T21:44:47.235Z"
   },
   {
    "duration": 719,
    "start_time": "2024-07-02T21:44:47.242Z"
   },
   {
    "duration": 1176,
    "start_time": "2024-07-02T21:44:47.964Z"
   },
   {
    "duration": 1192,
    "start_time": "2024-07-02T21:45:48.656Z"
   },
   {
    "duration": 803,
    "start_time": "2024-07-02T21:45:49.852Z"
   },
   {
    "duration": 51,
    "start_time": "2024-07-02T21:45:50.659Z"
   },
   {
    "duration": 417,
    "start_time": "2024-07-02T21:45:50.716Z"
   },
   {
    "duration": 466,
    "start_time": "2024-07-02T21:45:51.136Z"
   },
   {
    "duration": 152,
    "start_time": "2024-07-02T21:45:51.607Z"
   },
   {
    "duration": 162,
    "start_time": "2024-07-02T21:45:51.762Z"
   },
   {
    "duration": 2764,
    "start_time": "2024-07-02T21:45:51.927Z"
   },
   {
    "duration": 179,
    "start_time": "2024-07-02T21:45:54.694Z"
   },
   {
    "duration": 104,
    "start_time": "2024-07-02T21:45:54.878Z"
   },
   {
    "duration": 423,
    "start_time": "2024-07-02T21:45:54.985Z"
   },
   {
    "duration": 2679,
    "start_time": "2024-07-02T21:45:55.411Z"
   },
   {
    "duration": 2682,
    "start_time": "2024-07-02T21:45:58.092Z"
   },
   {
    "duration": 2628,
    "start_time": "2024-07-02T21:46:00.778Z"
   },
   {
    "duration": 643,
    "start_time": "2024-07-02T21:46:03.409Z"
   },
   {
    "duration": 52,
    "start_time": "2024-07-02T21:46:04.056Z"
   },
   {
    "duration": 5,
    "start_time": "2024-07-02T21:46:04.111Z"
   },
   {
    "duration": 705,
    "start_time": "2024-07-02T21:46:04.118Z"
   },
   {
    "duration": 1137,
    "start_time": "2024-07-02T21:46:04.826Z"
   },
   {
    "duration": 1167,
    "start_time": "2024-07-02T21:46:41.541Z"
   },
   {
    "duration": 776,
    "start_time": "2024-07-02T21:46:42.712Z"
   },
   {
    "duration": 42,
    "start_time": "2024-07-02T21:46:43.491Z"
   },
   {
    "duration": 417,
    "start_time": "2024-07-02T21:46:43.537Z"
   },
   {
    "duration": 498,
    "start_time": "2024-07-02T21:46:43.959Z"
   },
   {
    "duration": 164,
    "start_time": "2024-07-02T21:46:44.461Z"
   },
   {
    "duration": 152,
    "start_time": "2024-07-02T21:46:44.628Z"
   },
   {
    "duration": 2782,
    "start_time": "2024-07-02T21:46:44.783Z"
   },
   {
    "duration": 178,
    "start_time": "2024-07-02T21:46:47.568Z"
   },
   {
    "duration": 121,
    "start_time": "2024-07-02T21:46:47.749Z"
   },
   {
    "duration": 429,
    "start_time": "2024-07-02T21:46:47.873Z"
   },
   {
    "duration": 2653,
    "start_time": "2024-07-02T21:46:48.304Z"
   },
   {
    "duration": 2639,
    "start_time": "2024-07-02T21:46:50.960Z"
   },
   {
    "duration": 2513,
    "start_time": "2024-07-02T21:46:53.609Z"
   },
   {
    "duration": 657,
    "start_time": "2024-07-02T21:46:56.125Z"
   },
   {
    "duration": 49,
    "start_time": "2024-07-02T21:46:56.785Z"
   },
   {
    "duration": 4,
    "start_time": "2024-07-02T21:46:56.838Z"
   },
   {
    "duration": 716,
    "start_time": "2024-07-02T21:46:56.845Z"
   },
   {
    "duration": 1143,
    "start_time": "2024-07-02T21:46:57.564Z"
   },
   {
    "duration": 1234,
    "start_time": "2024-07-02T21:47:08.590Z"
   },
   {
    "duration": 791,
    "start_time": "2024-07-02T21:47:09.828Z"
   },
   {
    "duration": 36,
    "start_time": "2024-07-02T21:47:10.622Z"
   },
   {
    "duration": 452,
    "start_time": "2024-07-02T21:47:10.662Z"
   },
   {
    "duration": 479,
    "start_time": "2024-07-02T21:47:11.116Z"
   },
   {
    "duration": 148,
    "start_time": "2024-07-02T21:47:11.598Z"
   },
   {
    "duration": 161,
    "start_time": "2024-07-02T21:47:11.749Z"
   },
   {
    "duration": 2827,
    "start_time": "2024-07-02T21:47:11.913Z"
   },
   {
    "duration": 178,
    "start_time": "2024-07-02T21:47:14.743Z"
   },
   {
    "duration": 107,
    "start_time": "2024-07-02T21:47:14.926Z"
   },
   {
    "duration": 404,
    "start_time": "2024-07-02T21:47:15.036Z"
   },
   {
    "duration": 2689,
    "start_time": "2024-07-02T21:47:15.443Z"
   },
   {
    "duration": 2636,
    "start_time": "2024-07-02T21:47:18.135Z"
   },
   {
    "duration": 2526,
    "start_time": "2024-07-02T21:47:20.774Z"
   },
   {
    "duration": 642,
    "start_time": "2024-07-02T21:47:23.303Z"
   },
   {
    "duration": 37,
    "start_time": "2024-07-02T21:47:23.948Z"
   },
   {
    "duration": 21,
    "start_time": "2024-07-02T21:47:23.987Z"
   },
   {
    "duration": 713,
    "start_time": "2024-07-02T21:47:24.010Z"
   },
   {
    "duration": 1122,
    "start_time": "2024-07-02T21:47:24.726Z"
   },
   {
    "duration": 320,
    "start_time": "2024-07-02T21:47:56.443Z"
   },
   {
    "duration": 27,
    "start_time": "2024-07-02T21:48:48.807Z"
   },
   {
    "duration": 327,
    "start_time": "2024-07-02T21:49:06.951Z"
   },
   {
    "duration": 1232,
    "start_time": "2024-07-02T21:49:12.325Z"
   },
   {
    "duration": 789,
    "start_time": "2024-07-02T21:49:13.561Z"
   },
   {
    "duration": 57,
    "start_time": "2024-07-02T21:49:14.353Z"
   },
   {
    "duration": 442,
    "start_time": "2024-07-02T21:49:14.414Z"
   },
   {
    "duration": 477,
    "start_time": "2024-07-02T21:49:14.860Z"
   },
   {
    "duration": 149,
    "start_time": "2024-07-02T21:49:15.339Z"
   },
   {
    "duration": 154,
    "start_time": "2024-07-02T21:49:15.492Z"
   },
   {
    "duration": 2926,
    "start_time": "2024-07-02T21:49:15.649Z"
   },
   {
    "duration": 185,
    "start_time": "2024-07-02T21:49:18.577Z"
   },
   {
    "duration": 110,
    "start_time": "2024-07-02T21:49:18.768Z"
   },
   {
    "duration": 415,
    "start_time": "2024-07-02T21:49:18.880Z"
   },
   {
    "duration": 2688,
    "start_time": "2024-07-02T21:49:19.298Z"
   },
   {
    "duration": 2563,
    "start_time": "2024-07-02T21:49:21.989Z"
   },
   {
    "duration": 2564,
    "start_time": "2024-07-02T21:49:24.555Z"
   },
   {
    "duration": 634,
    "start_time": "2024-07-02T21:49:27.122Z"
   },
   {
    "duration": 49,
    "start_time": "2024-07-02T21:49:27.759Z"
   },
   {
    "duration": 5,
    "start_time": "2024-07-02T21:49:27.811Z"
   },
   {
    "duration": 738,
    "start_time": "2024-07-02T21:49:27.819Z"
   },
   {
    "duration": 1146,
    "start_time": "2024-07-02T21:49:28.560Z"
   },
   {
    "duration": 1199,
    "start_time": "2024-07-03T00:45:34.462Z"
   },
   {
    "duration": 806,
    "start_time": "2024-07-03T00:45:35.665Z"
   },
   {
    "duration": 51,
    "start_time": "2024-07-03T00:45:36.474Z"
   },
   {
    "duration": 447,
    "start_time": "2024-07-03T00:45:36.528Z"
   },
   {
    "duration": 497,
    "start_time": "2024-07-03T00:45:36.980Z"
   },
   {
    "duration": 147,
    "start_time": "2024-07-03T00:45:37.480Z"
   },
   {
    "duration": 146,
    "start_time": "2024-07-03T00:45:37.629Z"
   },
   {
    "duration": 2899,
    "start_time": "2024-07-03T00:45:37.778Z"
   },
   {
    "duration": 189,
    "start_time": "2024-07-03T00:45:40.680Z"
   },
   {
    "duration": 103,
    "start_time": "2024-07-03T00:45:40.872Z"
   },
   {
    "duration": 4088,
    "start_time": "2024-07-03T00:45:40.978Z"
   },
   {
    "duration": 2716,
    "start_time": "2024-07-03T00:45:45.070Z"
   },
   {
    "duration": 2570,
    "start_time": "2024-07-03T00:45:47.789Z"
   },
   {
    "duration": 2574,
    "start_time": "2024-07-03T00:45:50.366Z"
   },
   {
    "duration": 718,
    "start_time": "2024-07-03T00:45:52.944Z"
   },
   {
    "duration": 53,
    "start_time": "2024-07-03T00:45:53.665Z"
   },
   {
    "duration": 3,
    "start_time": "2024-07-03T00:45:53.721Z"
   },
   {
    "duration": 710,
    "start_time": "2024-07-03T00:45:53.727Z"
   },
   {
    "duration": 1115,
    "start_time": "2024-07-03T00:45:54.440Z"
   },
   {
    "duration": 20847,
    "start_time": "2024-07-03T00:45:55.558Z"
   },
   {
    "duration": 5,
    "start_time": "2024-07-03T00:46:16.408Z"
   },
   {
    "duration": 311,
    "start_time": "2024-07-03T00:46:28.813Z"
   },
   {
    "duration": 1295,
    "start_time": "2024-07-03T00:47:11.479Z"
   },
   {
    "duration": 778,
    "start_time": "2024-07-03T00:47:12.777Z"
   },
   {
    "duration": 50,
    "start_time": "2024-07-03T00:47:13.557Z"
   },
   {
    "duration": 427,
    "start_time": "2024-07-03T00:47:13.611Z"
   },
   {
    "duration": 488,
    "start_time": "2024-07-03T00:47:14.041Z"
   },
   {
    "duration": 150,
    "start_time": "2024-07-03T00:47:14.531Z"
   },
   {
    "duration": 157,
    "start_time": "2024-07-03T00:47:14.683Z"
   },
   {
    "duration": 2884,
    "start_time": "2024-07-03T00:47:14.843Z"
   },
   {
    "duration": 181,
    "start_time": "2024-07-03T00:47:17.730Z"
   },
   {
    "duration": 106,
    "start_time": "2024-07-03T00:47:17.916Z"
   },
   {
    "duration": 451,
    "start_time": "2024-07-03T00:47:18.025Z"
   },
   {
    "duration": 2684,
    "start_time": "2024-07-03T00:47:18.479Z"
   },
   {
    "duration": 2611,
    "start_time": "2024-07-03T00:47:21.166Z"
   },
   {
    "duration": 2565,
    "start_time": "2024-07-03T00:47:23.780Z"
   },
   {
    "duration": 671,
    "start_time": "2024-07-03T00:47:26.349Z"
   },
   {
    "duration": 38,
    "start_time": "2024-07-03T00:47:27.023Z"
   },
   {
    "duration": 4,
    "start_time": "2024-07-03T00:47:27.063Z"
   },
   {
    "duration": 719,
    "start_time": "2024-07-03T00:47:27.071Z"
   },
   {
    "duration": 1146,
    "start_time": "2024-07-03T00:47:27.792Z"
   },
   {
    "duration": 20664,
    "start_time": "2024-07-03T00:47:28.941Z"
   },
   {
    "duration": 324,
    "start_time": "2024-07-03T00:48:40.984Z"
   },
   {
    "duration": 1207,
    "start_time": "2024-07-03T00:48:46.749Z"
   },
   {
    "duration": 782,
    "start_time": "2024-07-03T00:48:47.960Z"
   },
   {
    "duration": 39,
    "start_time": "2024-07-03T00:48:48.744Z"
   },
   {
    "duration": 417,
    "start_time": "2024-07-03T00:48:48.803Z"
   },
   {
    "duration": 478,
    "start_time": "2024-07-03T00:48:49.223Z"
   },
   {
    "duration": 150,
    "start_time": "2024-07-03T00:48:49.704Z"
   },
   {
    "duration": 158,
    "start_time": "2024-07-03T00:48:49.857Z"
   },
   {
    "duration": 2789,
    "start_time": "2024-07-03T00:48:50.018Z"
   },
   {
    "duration": 175,
    "start_time": "2024-07-03T00:48:52.810Z"
   },
   {
    "duration": 112,
    "start_time": "2024-07-03T00:48:52.990Z"
   },
   {
    "duration": 413,
    "start_time": "2024-07-03T00:48:53.105Z"
   },
   {
    "duration": 2728,
    "start_time": "2024-07-03T00:48:53.520Z"
   },
   {
    "duration": 2713,
    "start_time": "2024-07-03T00:48:56.251Z"
   },
   {
    "duration": 2637,
    "start_time": "2024-07-03T00:48:58.967Z"
   },
   {
    "duration": 650,
    "start_time": "2024-07-03T00:49:01.607Z"
   },
   {
    "duration": 54,
    "start_time": "2024-07-03T00:49:02.260Z"
   },
   {
    "duration": 5,
    "start_time": "2024-07-03T00:49:02.316Z"
   },
   {
    "duration": 697,
    "start_time": "2024-07-03T00:49:02.324Z"
   },
   {
    "duration": 1190,
    "start_time": "2024-07-03T02:17:44.560Z"
   },
   {
    "duration": 789,
    "start_time": "2024-07-03T02:17:45.754Z"
   },
   {
    "duration": 37,
    "start_time": "2024-07-03T02:17:46.546Z"
   },
   {
    "duration": 451,
    "start_time": "2024-07-03T02:17:46.588Z"
   },
   {
    "duration": 472,
    "start_time": "2024-07-03T02:17:47.042Z"
   },
   {
    "duration": 155,
    "start_time": "2024-07-03T02:17:47.517Z"
   },
   {
    "duration": 151,
    "start_time": "2024-07-03T02:17:47.675Z"
   },
   {
    "duration": 2810,
    "start_time": "2024-07-03T02:17:47.829Z"
   },
   {
    "duration": 179,
    "start_time": "2024-07-03T02:17:50.643Z"
   },
   {
    "duration": 108,
    "start_time": "2024-07-03T02:17:50.826Z"
   },
   {
    "duration": 4055,
    "start_time": "2024-07-03T02:17:50.938Z"
   },
   {
    "duration": 2671,
    "start_time": "2024-07-03T02:17:54.997Z"
   },
   {
    "duration": 2712,
    "start_time": "2024-07-03T02:17:57.671Z"
   },
   {
    "duration": 2569,
    "start_time": "2024-07-03T02:18:00.386Z"
   },
   {
    "duration": 688,
    "start_time": "2024-07-03T02:18:02.961Z"
   },
   {
    "duration": 54,
    "start_time": "2024-07-03T02:18:03.653Z"
   },
   {
    "duration": 4,
    "start_time": "2024-07-03T02:18:03.710Z"
   },
   {
    "duration": 715,
    "start_time": "2024-07-03T02:18:03.717Z"
   },
   {
    "duration": 1163,
    "start_time": "2024-07-03T02:18:04.436Z"
   },
   {
    "duration": 337,
    "start_time": "2024-07-03T02:18:12.747Z"
   },
   {
    "duration": 1200,
    "start_time": "2024-07-03T02:18:21.987Z"
   },
   {
    "duration": 788,
    "start_time": "2024-07-03T02:18:23.190Z"
   },
   {
    "duration": 46,
    "start_time": "2024-07-03T02:18:23.981Z"
   },
   {
    "duration": 420,
    "start_time": "2024-07-03T02:18:24.031Z"
   },
   {
    "duration": 506,
    "start_time": "2024-07-03T02:18:24.454Z"
   },
   {
    "duration": 158,
    "start_time": "2024-07-03T02:18:24.963Z"
   },
   {
    "duration": 146,
    "start_time": "2024-07-03T02:18:25.124Z"
   },
   {
    "duration": 2829,
    "start_time": "2024-07-03T02:18:25.274Z"
   },
   {
    "duration": 190,
    "start_time": "2024-07-03T02:18:28.106Z"
   },
   {
    "duration": 119,
    "start_time": "2024-07-03T02:18:28.300Z"
   },
   {
    "duration": 433,
    "start_time": "2024-07-03T02:18:28.422Z"
   },
   {
    "duration": 2643,
    "start_time": "2024-07-03T02:18:28.858Z"
   },
   {
    "duration": 2628,
    "start_time": "2024-07-03T02:18:31.507Z"
   },
   {
    "duration": 2579,
    "start_time": "2024-07-03T02:18:34.138Z"
   },
   {
    "duration": 649,
    "start_time": "2024-07-03T02:18:36.720Z"
   },
   {
    "duration": 54,
    "start_time": "2024-07-03T02:18:37.373Z"
   },
   {
    "duration": 5,
    "start_time": "2024-07-03T02:18:37.429Z"
   },
   {
    "duration": 718,
    "start_time": "2024-07-03T02:18:37.437Z"
   },
   {
    "duration": 1137,
    "start_time": "2024-07-03T02:18:38.158Z"
   },
   {
    "duration": 311,
    "start_time": "2024-07-03T02:19:16.590Z"
   },
   {
    "duration": 1193,
    "start_time": "2024-07-03T02:19:25.174Z"
   },
   {
    "duration": 805,
    "start_time": "2024-07-03T02:19:26.370Z"
   },
   {
    "duration": 45,
    "start_time": "2024-07-03T02:19:27.178Z"
   },
   {
    "duration": 433,
    "start_time": "2024-07-03T02:19:27.228Z"
   },
   {
    "duration": 496,
    "start_time": "2024-07-03T02:19:27.664Z"
   },
   {
    "duration": 163,
    "start_time": "2024-07-03T02:19:28.162Z"
   },
   {
    "duration": 154,
    "start_time": "2024-07-03T02:19:28.328Z"
   },
   {
    "duration": 2821,
    "start_time": "2024-07-03T02:19:28.485Z"
   },
   {
    "duration": 185,
    "start_time": "2024-07-03T02:19:31.308Z"
   },
   {
    "duration": 117,
    "start_time": "2024-07-03T02:19:31.506Z"
   },
   {
    "duration": 433,
    "start_time": "2024-07-03T02:19:31.626Z"
   },
   {
    "duration": 2622,
    "start_time": "2024-07-03T02:19:32.062Z"
   },
   {
    "duration": 2677,
    "start_time": "2024-07-03T02:19:34.687Z"
   },
   {
    "duration": 1270,
    "start_time": "2024-07-03T02:21:26.036Z"
   },
   {
    "duration": 786,
    "start_time": "2024-07-03T02:21:27.311Z"
   },
   {
    "duration": 49,
    "start_time": "2024-07-03T02:21:28.101Z"
   },
   {
    "duration": 454,
    "start_time": "2024-07-03T02:21:28.155Z"
   },
   {
    "duration": 490,
    "start_time": "2024-07-03T02:21:28.612Z"
   },
   {
    "duration": 153,
    "start_time": "2024-07-03T02:21:29.107Z"
   },
   {
    "duration": 164,
    "start_time": "2024-07-03T02:21:29.263Z"
   },
   {
    "duration": 2997,
    "start_time": "2024-07-03T02:21:29.431Z"
   },
   {
    "duration": 179,
    "start_time": "2024-07-03T02:21:32.431Z"
   },
   {
    "duration": 103,
    "start_time": "2024-07-03T02:21:32.616Z"
   },
   {
    "duration": 436,
    "start_time": "2024-07-03T02:21:32.722Z"
   },
   {
    "duration": 2835,
    "start_time": "2024-07-03T02:21:33.161Z"
   },
   {
    "duration": 2615,
    "start_time": "2024-07-03T02:21:35.999Z"
   },
   {
    "duration": 2591,
    "start_time": "2024-07-03T02:21:38.621Z"
   },
   {
    "duration": 647,
    "start_time": "2024-07-03T02:21:41.215Z"
   },
   {
    "duration": 52,
    "start_time": "2024-07-03T02:21:41.866Z"
   },
   {
    "duration": 4,
    "start_time": "2024-07-03T02:21:41.921Z"
   },
   {
    "duration": 719,
    "start_time": "2024-07-03T02:21:41.928Z"
   },
   {
    "duration": 1142,
    "start_time": "2024-07-03T02:21:47.838Z"
   },
   {
    "duration": 325,
    "start_time": "2024-07-03T02:23:21.462Z"
   },
   {
    "duration": 1213,
    "start_time": "2024-07-03T02:23:31.947Z"
   },
   {
    "duration": 821,
    "start_time": "2024-07-03T02:23:33.163Z"
   },
   {
    "duration": 43,
    "start_time": "2024-07-03T02:23:33.986Z"
   },
   {
    "duration": 443,
    "start_time": "2024-07-03T02:23:34.034Z"
   },
   {
    "duration": 479,
    "start_time": "2024-07-03T02:23:34.480Z"
   },
   {
    "duration": 154,
    "start_time": "2024-07-03T02:23:34.962Z"
   },
   {
    "duration": 152,
    "start_time": "2024-07-03T02:23:35.119Z"
   },
   {
    "duration": 2963,
    "start_time": "2024-07-03T02:23:35.274Z"
   },
   {
    "duration": 180,
    "start_time": "2024-07-03T02:23:38.240Z"
   },
   {
    "duration": 104,
    "start_time": "2024-07-03T02:23:38.425Z"
   },
   {
    "duration": 436,
    "start_time": "2024-07-03T02:23:38.532Z"
   },
   {
    "duration": 2665,
    "start_time": "2024-07-03T02:23:38.972Z"
   },
   {
    "duration": 2642,
    "start_time": "2024-07-03T02:23:41.642Z"
   },
   {
    "duration": 2636,
    "start_time": "2024-07-03T02:23:44.287Z"
   },
   {
    "duration": 647,
    "start_time": "2024-07-03T02:23:46.926Z"
   },
   {
    "duration": 53,
    "start_time": "2024-07-03T02:23:47.576Z"
   },
   {
    "duration": 4,
    "start_time": "2024-07-03T02:23:47.632Z"
   },
   {
    "duration": 734,
    "start_time": "2024-07-03T02:23:47.638Z"
   },
   {
    "duration": 1132,
    "start_time": "2024-07-03T02:23:48.374Z"
   },
   {
    "duration": 317,
    "start_time": "2024-07-03T02:24:09.100Z"
   },
   {
    "duration": 1223,
    "start_time": "2024-07-03T02:24:19.578Z"
   },
   {
    "duration": 812,
    "start_time": "2024-07-03T02:24:20.805Z"
   },
   {
    "duration": 38,
    "start_time": "2024-07-03T02:24:21.619Z"
   },
   {
    "duration": 435,
    "start_time": "2024-07-03T02:24:21.661Z"
   },
   {
    "duration": 472,
    "start_time": "2024-07-03T02:24:22.099Z"
   },
   {
    "duration": 152,
    "start_time": "2024-07-03T02:24:22.573Z"
   },
   {
    "duration": 151,
    "start_time": "2024-07-03T02:24:22.728Z"
   },
   {
    "duration": 2907,
    "start_time": "2024-07-03T02:24:22.882Z"
   },
   {
    "duration": 182,
    "start_time": "2024-07-03T02:24:25.792Z"
   },
   {
    "duration": 101,
    "start_time": "2024-07-03T02:24:25.979Z"
   },
   {
    "duration": 426,
    "start_time": "2024-07-03T02:24:26.083Z"
   },
   {
    "duration": 2668,
    "start_time": "2024-07-03T02:24:26.512Z"
   },
   {
    "duration": 2600,
    "start_time": "2024-07-03T02:24:29.183Z"
   },
   {
    "duration": 2629,
    "start_time": "2024-07-03T02:24:31.786Z"
   },
   {
    "duration": 641,
    "start_time": "2024-07-03T02:24:34.418Z"
   },
   {
    "duration": 56,
    "start_time": "2024-07-03T02:24:35.062Z"
   },
   {
    "duration": 4,
    "start_time": "2024-07-03T02:24:35.121Z"
   },
   {
    "duration": 706,
    "start_time": "2024-07-03T02:24:35.129Z"
   },
   {
    "duration": 1113,
    "start_time": "2024-07-03T02:24:35.838Z"
   },
   {
    "duration": 319,
    "start_time": "2024-07-03T02:25:03.418Z"
   },
   {
    "duration": 31,
    "start_time": "2024-07-03T02:25:05.615Z"
   },
   {
    "duration": 10,
    "start_time": "2024-07-03T03:00:37.325Z"
   },
   {
    "duration": 6,
    "start_time": "2024-07-03T03:00:44.569Z"
   },
   {
    "duration": 27,
    "start_time": "2024-07-03T03:00:53.877Z"
   },
   {
    "duration": 1226,
    "start_time": "2024-07-03T03:01:01.355Z"
   },
   {
    "duration": 776,
    "start_time": "2024-07-03T03:01:02.584Z"
   },
   {
    "duration": 43,
    "start_time": "2024-07-03T03:01:03.363Z"
   },
   {
    "duration": 436,
    "start_time": "2024-07-03T03:01:03.410Z"
   },
   {
    "duration": 470,
    "start_time": "2024-07-03T03:01:03.850Z"
   },
   {
    "duration": 148,
    "start_time": "2024-07-03T03:01:04.322Z"
   },
   {
    "duration": 152,
    "start_time": "2024-07-03T03:01:04.473Z"
   },
   {
    "duration": 2832,
    "start_time": "2024-07-03T03:01:04.627Z"
   },
   {
    "duration": 149,
    "start_time": "2024-07-03T03:01:07.463Z"
   },
   {
    "duration": 7,
    "start_time": "2024-07-03T03:02:22.843Z"
   },
   {
    "duration": 701,
    "start_time": "2024-07-03T03:02:22.854Z"
   },
   {
    "duration": 48,
    "start_time": "2024-07-03T03:02:23.558Z"
   },
   {
    "duration": 383,
    "start_time": "2024-07-03T03:02:23.609Z"
   },
   {
    "duration": 437,
    "start_time": "2024-07-03T03:02:24.005Z"
   },
   {
    "duration": 174,
    "start_time": "2024-07-03T03:02:24.444Z"
   },
   {
    "duration": 173,
    "start_time": "2024-07-03T03:02:24.626Z"
   },
   {
    "duration": 2785,
    "start_time": "2024-07-03T03:02:24.807Z"
   },
   {
    "duration": 137,
    "start_time": "2024-07-03T03:02:27.605Z"
   },
   {
    "duration": 80,
    "start_time": "2024-07-03T03:02:27.745Z"
   },
   {
    "duration": 437,
    "start_time": "2024-07-03T03:02:27.828Z"
   },
   {
    "duration": 1912,
    "start_time": "2024-07-03T03:02:28.268Z"
   },
   {
    "duration": 1961,
    "start_time": "2024-07-03T03:02:30.183Z"
   },
   {
    "duration": 2057,
    "start_time": "2024-07-03T03:02:32.149Z"
   },
   {
    "duration": 587,
    "start_time": "2024-07-03T03:02:34.209Z"
   },
   {
    "duration": 19,
    "start_time": "2024-07-03T03:02:34.807Z"
   },
   {
    "duration": 4,
    "start_time": "2024-07-03T03:02:34.829Z"
   },
   {
    "duration": 511,
    "start_time": "2024-07-03T03:02:34.836Z"
   },
   {
    "duration": 769,
    "start_time": "2024-07-03T03:02:35.350Z"
   },
   {
    "duration": 14301,
    "start_time": "2024-07-03T03:02:36.124Z"
   },
   {
    "duration": 1221,
    "start_time": "2024-07-03T03:41:45.785Z"
   },
   {
    "duration": 715,
    "start_time": "2024-07-03T03:41:47.009Z"
   },
   {
    "duration": 40,
    "start_time": "2024-07-03T03:41:47.727Z"
   },
   {
    "duration": 491,
    "start_time": "2024-07-03T03:41:47.769Z"
   },
   {
    "duration": 504,
    "start_time": "2024-07-03T03:41:48.265Z"
   },
   {
    "duration": 155,
    "start_time": "2024-07-03T03:41:48.772Z"
   },
   {
    "duration": 161,
    "start_time": "2024-07-03T03:41:48.930Z"
   },
   {
    "duration": 2867,
    "start_time": "2024-07-03T03:41:49.106Z"
   },
   {
    "duration": 152,
    "start_time": "2024-07-03T03:41:51.976Z"
   },
   {
    "duration": 85,
    "start_time": "2024-07-03T03:41:52.135Z"
   },
   {
    "duration": 441,
    "start_time": "2024-07-03T03:41:52.224Z"
   },
   {
    "duration": 2008,
    "start_time": "2024-07-03T03:41:52.668Z"
   },
   {
    "duration": 1977,
    "start_time": "2024-07-03T03:41:54.679Z"
   },
   {
    "duration": 2104,
    "start_time": "2024-07-03T03:41:56.662Z"
   },
   {
    "duration": 579,
    "start_time": "2024-07-03T03:41:58.769Z"
   },
   {
    "duration": 24,
    "start_time": "2024-07-03T03:41:59.351Z"
   },
   {
    "duration": 5,
    "start_time": "2024-07-03T03:41:59.379Z"
   },
   {
    "duration": 489,
    "start_time": "2024-07-03T03:41:59.407Z"
   },
   {
    "duration": 759,
    "start_time": "2024-07-03T03:41:59.899Z"
   },
   {
    "duration": 14057,
    "start_time": "2024-07-03T03:42:00.661Z"
   },
   {
    "duration": 85,
    "start_time": "2024-07-03T03:42:14.721Z"
   },
   {
    "duration": 212833,
    "start_time": "2024-07-03T03:43:12.738Z"
   },
   {
    "duration": 1248,
    "start_time": "2024-07-03T04:03:43.006Z"
   },
   {
    "duration": 792,
    "start_time": "2024-07-03T04:03:44.259Z"
   },
   {
    "duration": 59,
    "start_time": "2024-07-03T04:03:45.058Z"
   },
   {
    "duration": 469,
    "start_time": "2024-07-03T04:03:45.121Z"
   },
   {
    "duration": 525,
    "start_time": "2024-07-03T04:03:45.594Z"
   },
   {
    "duration": 158,
    "start_time": "2024-07-03T04:03:46.122Z"
   },
   {
    "duration": 157,
    "start_time": "2024-07-03T04:03:46.284Z"
   },
   {
    "duration": 2835,
    "start_time": "2024-07-03T04:03:46.447Z"
   },
   {
    "duration": 164,
    "start_time": "2024-07-03T04:03:49.284Z"
   },
   {
    "duration": 86,
    "start_time": "2024-07-03T04:03:49.454Z"
   },
   {
    "duration": 401,
    "start_time": "2024-07-03T04:03:49.543Z"
   },
   {
    "duration": 1991,
    "start_time": "2024-07-03T04:03:49.946Z"
   },
   {
    "duration": 1966,
    "start_time": "2024-07-03T04:03:51.940Z"
   },
   {
    "duration": 2104,
    "start_time": "2024-07-03T04:03:53.908Z"
   },
   {
    "duration": 568,
    "start_time": "2024-07-03T04:03:56.016Z"
   },
   {
    "duration": 37,
    "start_time": "2024-07-03T04:03:56.587Z"
   },
   {
    "duration": 8,
    "start_time": "2024-07-03T04:03:56.626Z"
   },
   {
    "duration": 509,
    "start_time": "2024-07-03T04:03:56.638Z"
   },
   {
    "duration": 744,
    "start_time": "2024-07-03T04:03:57.150Z"
   },
   {
    "duration": 15527,
    "start_time": "2024-07-03T04:03:57.898Z"
   },
   {
    "duration": 1341,
    "start_time": "2024-07-03T04:04:13.428Z"
   },
   {
    "duration": 1249,
    "start_time": "2024-07-03T04:05:29.093Z"
   },
   {
    "duration": 798,
    "start_time": "2024-07-03T04:05:30.345Z"
   },
   {
    "duration": 41,
    "start_time": "2024-07-03T04:05:31.147Z"
   },
   {
    "duration": 421,
    "start_time": "2024-07-03T04:05:31.207Z"
   },
   {
    "duration": 562,
    "start_time": "2024-07-03T04:05:31.631Z"
   },
   {
    "duration": 198,
    "start_time": "2024-07-03T04:05:32.196Z"
   },
   {
    "duration": 146,
    "start_time": "2024-07-03T04:05:32.398Z"
   },
   {
    "duration": 3050,
    "start_time": "2024-07-03T04:05:32.549Z"
   },
   {
    "duration": 148,
    "start_time": "2024-07-03T04:05:35.602Z"
   },
   {
    "duration": 92,
    "start_time": "2024-07-03T04:05:35.757Z"
   },
   {
    "duration": 404,
    "start_time": "2024-07-03T04:05:35.851Z"
   },
   {
    "duration": 1935,
    "start_time": "2024-07-03T04:05:36.258Z"
   },
   {
    "duration": 1979,
    "start_time": "2024-07-03T04:05:38.196Z"
   },
   {
    "duration": 2179,
    "start_time": "2024-07-03T04:05:40.178Z"
   },
   {
    "duration": 564,
    "start_time": "2024-07-03T04:05:42.360Z"
   },
   {
    "duration": 25,
    "start_time": "2024-07-03T04:05:42.927Z"
   },
   {
    "duration": 5,
    "start_time": "2024-07-03T04:05:42.955Z"
   },
   {
    "duration": 517,
    "start_time": "2024-07-03T04:05:42.963Z"
   },
   {
    "duration": 743,
    "start_time": "2024-07-03T04:05:43.482Z"
   },
   {
    "duration": 14205,
    "start_time": "2024-07-03T04:05:44.228Z"
   },
   {
    "duration": 1321,
    "start_time": "2024-07-03T04:05:58.435Z"
   },
   {
    "duration": 10,
    "start_time": "2024-07-03T04:05:59.759Z"
   },
   {
    "duration": 207219,
    "start_time": "2024-07-03T04:07:25.700Z"
   },
   {
    "duration": 207860,
    "start_time": "2024-07-03T04:17:08.904Z"
   },
   {
    "duration": 6,
    "start_time": "2024-07-03T04:23:04.915Z"
   },
   {
    "duration": 1194,
    "start_time": "2024-07-03T04:42:41.622Z"
   },
   {
    "duration": 710,
    "start_time": "2024-07-03T04:42:42.819Z"
   },
   {
    "duration": 46,
    "start_time": "2024-07-03T04:42:43.533Z"
   },
   {
    "duration": 414,
    "start_time": "2024-07-03T04:42:43.605Z"
   },
   {
    "duration": 475,
    "start_time": "2024-07-03T04:42:44.022Z"
   },
   {
    "duration": 154,
    "start_time": "2024-07-03T04:42:44.500Z"
   },
   {
    "duration": 162,
    "start_time": "2024-07-03T04:42:44.657Z"
   },
   {
    "duration": 2793,
    "start_time": "2024-07-03T04:42:44.822Z"
   },
   {
    "duration": 138,
    "start_time": "2024-07-03T04:42:47.618Z"
   },
   {
    "duration": 83,
    "start_time": "2024-07-03T04:42:47.761Z"
   },
   {
    "duration": 433,
    "start_time": "2024-07-03T04:42:47.847Z"
   },
   {
    "duration": 1893,
    "start_time": "2024-07-03T04:42:48.283Z"
   },
   {
    "duration": 1969,
    "start_time": "2024-07-03T04:42:50.207Z"
   },
   {
    "duration": 2120,
    "start_time": "2024-07-03T04:42:52.181Z"
   },
   {
    "duration": 586,
    "start_time": "2024-07-03T04:42:54.306Z"
   },
   {
    "duration": 33,
    "start_time": "2024-07-03T04:42:54.895Z"
   },
   {
    "duration": 5,
    "start_time": "2024-07-03T04:42:54.931Z"
   },
   {
    "duration": 512,
    "start_time": "2024-07-03T04:42:54.940Z"
   },
   {
    "duration": 755,
    "start_time": "2024-07-03T04:42:55.455Z"
   },
   {
    "duration": 14119,
    "start_time": "2024-07-03T04:42:56.213Z"
   },
   {
    "duration": 1313,
    "start_time": "2024-07-03T04:43:10.335Z"
   },
   {
    "duration": 1421,
    "start_time": "2024-07-03T12:51:39.878Z"
   },
   {
    "duration": 833,
    "start_time": "2024-07-03T12:51:41.311Z"
   },
   {
    "duration": 38,
    "start_time": "2024-07-03T12:51:42.147Z"
   },
   {
    "duration": 426,
    "start_time": "2024-07-03T12:51:42.189Z"
   },
   {
    "duration": 511,
    "start_time": "2024-07-03T12:51:42.618Z"
   },
   {
    "duration": 156,
    "start_time": "2024-07-03T12:51:43.136Z"
   },
   {
    "duration": 172,
    "start_time": "2024-07-03T12:51:43.296Z"
   },
   {
    "duration": 3109,
    "start_time": "2024-07-03T12:51:43.471Z"
   },
   {
    "duration": 152,
    "start_time": "2024-07-03T12:51:46.583Z"
   },
   {
    "duration": 81,
    "start_time": "2024-07-03T12:51:46.740Z"
   },
   {
    "duration": 3992,
    "start_time": "2024-07-03T12:51:46.824Z"
   },
   {
    "duration": 1936,
    "start_time": "2024-07-03T12:51:50.819Z"
   },
   {
    "duration": 1941,
    "start_time": "2024-07-03T12:51:52.759Z"
   },
   {
    "duration": 2186,
    "start_time": "2024-07-03T12:51:54.703Z"
   },
   {
    "duration": 570,
    "start_time": "2024-07-03T12:51:56.892Z"
   },
   {
    "duration": 23,
    "start_time": "2024-07-03T12:51:57.466Z"
   },
   {
    "duration": 3,
    "start_time": "2024-07-03T12:51:57.512Z"
   },
   {
    "duration": 507,
    "start_time": "2024-07-03T12:51:57.518Z"
   },
   {
    "duration": 730,
    "start_time": "2024-07-03T12:51:58.027Z"
   },
   {
    "duration": 14381,
    "start_time": "2024-07-03T12:51:58.759Z"
   },
   {
    "duration": 1463,
    "start_time": "2024-07-03T12:52:13.147Z"
   },
   {
    "duration": 9,
    "start_time": "2024-07-03T12:52:14.613Z"
   },
   {
    "duration": 2176,
    "start_time": "2024-07-03T12:52:14.626Z"
   },
   {
    "duration": 203,
    "start_time": "2024-07-03T12:56:17.195Z"
   },
   {
    "duration": 7269,
    "start_time": "2024-07-03T13:04:10.728Z"
   },
   {
    "duration": 1293,
    "start_time": "2024-07-03T13:04:38.557Z"
   },
   {
    "duration": 746,
    "start_time": "2024-07-03T13:04:39.855Z"
   },
   {
    "duration": 39,
    "start_time": "2024-07-03T13:04:40.603Z"
   },
   {
    "duration": 435,
    "start_time": "2024-07-03T13:04:40.646Z"
   },
   {
    "duration": 471,
    "start_time": "2024-07-03T13:04:41.085Z"
   },
   {
    "duration": 158,
    "start_time": "2024-07-03T13:04:41.559Z"
   },
   {
    "duration": 144,
    "start_time": "2024-07-03T13:04:41.720Z"
   },
   {
    "duration": 3047,
    "start_time": "2024-07-03T13:04:41.868Z"
   },
   {
    "duration": 154,
    "start_time": "2024-07-03T13:04:44.918Z"
   },
   {
    "duration": 87,
    "start_time": "2024-07-03T13:04:45.077Z"
   },
   {
    "duration": 344,
    "start_time": "2024-07-03T13:04:45.168Z"
   },
   {
    "duration": 1938,
    "start_time": "2024-07-03T13:04:45.515Z"
   },
   {
    "duration": 2019,
    "start_time": "2024-07-03T13:04:47.456Z"
   },
   {
    "duration": 2139,
    "start_time": "2024-07-03T13:04:49.478Z"
   },
   {
    "duration": 581,
    "start_time": "2024-07-03T13:04:51.620Z"
   },
   {
    "duration": 24,
    "start_time": "2024-07-03T13:04:52.211Z"
   },
   {
    "duration": 4,
    "start_time": "2024-07-03T13:04:52.239Z"
   },
   {
    "duration": 530,
    "start_time": "2024-07-03T13:04:52.246Z"
   },
   {
    "duration": 754,
    "start_time": "2024-07-03T13:04:52.780Z"
   },
   {
    "duration": 14207,
    "start_time": "2024-07-03T13:04:53.538Z"
   },
   {
    "duration": 1250,
    "start_time": "2024-07-03T13:05:07.813Z"
   },
   {
    "duration": 6,
    "start_time": "2024-07-03T13:05:09.065Z"
   },
   {
    "duration": 7638,
    "start_time": "2024-07-03T13:05:09.075Z"
   },
   {
    "duration": 9,
    "start_time": "2024-07-03T13:07:05.058Z"
   },
   {
    "duration": 6,
    "start_time": "2024-07-03T13:07:26.228Z"
   },
   {
    "duration": 7170,
    "start_time": "2024-07-03T13:07:28.810Z"
   },
   {
    "duration": 7134,
    "start_time": "2024-07-03T13:10:14.103Z"
   },
   {
    "duration": 29,
    "start_time": "2024-07-03T13:22:47.253Z"
   },
   {
    "duration": 38,
    "start_time": "2024-07-03T13:23:13.169Z"
   },
   {
    "duration": 337,
    "start_time": "2024-07-03T13:23:42.753Z"
   },
   {
    "duration": 1396,
    "start_time": "2024-07-03T13:23:47.743Z"
   },
   {
    "duration": 767,
    "start_time": "2024-07-03T13:23:49.144Z"
   },
   {
    "duration": 38,
    "start_time": "2024-07-03T13:23:49.915Z"
   },
   {
    "duration": 419,
    "start_time": "2024-07-03T13:23:49.959Z"
   },
   {
    "duration": 470,
    "start_time": "2024-07-03T13:23:50.381Z"
   },
   {
    "duration": 165,
    "start_time": "2024-07-03T13:23:50.855Z"
   },
   {
    "duration": 150,
    "start_time": "2024-07-03T13:23:51.023Z"
   },
   {
    "duration": 2881,
    "start_time": "2024-07-03T13:23:51.176Z"
   },
   {
    "duration": 165,
    "start_time": "2024-07-03T13:23:54.060Z"
   },
   {
    "duration": 81,
    "start_time": "2024-07-03T13:23:54.231Z"
   },
   {
    "duration": 284,
    "start_time": "2024-07-03T13:23:54.315Z"
   },
   {
    "duration": 1985,
    "start_time": "2024-07-03T13:23:54.602Z"
   },
   {
    "duration": 1900,
    "start_time": "2024-07-03T13:23:56.593Z"
   },
   {
    "duration": 2132,
    "start_time": "2024-07-03T13:23:58.497Z"
   },
   {
    "duration": 571,
    "start_time": "2024-07-03T13:24:00.632Z"
   },
   {
    "duration": 25,
    "start_time": "2024-07-03T13:24:01.213Z"
   },
   {
    "duration": 4,
    "start_time": "2024-07-03T13:24:01.241Z"
   },
   {
    "duration": 508,
    "start_time": "2024-07-03T13:24:01.248Z"
   },
   {
    "duration": 731,
    "start_time": "2024-07-03T13:24:01.758Z"
   },
   {
    "duration": 14441,
    "start_time": "2024-07-03T13:24:02.491Z"
   },
   {
    "duration": 1321,
    "start_time": "2024-07-03T13:24:16.942Z"
   },
   {
    "duration": 5,
    "start_time": "2024-07-03T13:24:18.266Z"
   },
   {
    "duration": 7241,
    "start_time": "2024-07-03T13:24:18.274Z"
   },
   {
    "duration": 458,
    "start_time": "2024-07-03T13:56:06.032Z"
   },
   {
    "duration": 1410,
    "start_time": "2024-07-03T13:56:18.785Z"
   },
   {
    "duration": 888,
    "start_time": "2024-07-03T13:56:20.199Z"
   },
   {
    "duration": 128,
    "start_time": "2024-07-03T13:56:21.091Z"
   },
   {
    "duration": 454,
    "start_time": "2024-07-03T13:56:21.223Z"
   },
   {
    "duration": 518,
    "start_time": "2024-07-03T13:56:21.682Z"
   },
   {
    "duration": 211,
    "start_time": "2024-07-03T13:56:22.203Z"
   },
   {
    "duration": 153,
    "start_time": "2024-07-03T13:56:22.418Z"
   },
   {
    "duration": 3440,
    "start_time": "2024-07-03T13:56:22.575Z"
   },
   {
    "duration": 219,
    "start_time": "2024-07-03T13:56:26.019Z"
   },
   {
    "duration": 126,
    "start_time": "2024-07-03T13:56:26.242Z"
   },
   {
    "duration": 227,
    "start_time": "2024-07-03T13:56:26.371Z"
   },
   {
    "duration": 1997,
    "start_time": "2024-07-03T13:56:26.602Z"
   },
   {
    "duration": 2056,
    "start_time": "2024-07-03T13:56:28.602Z"
   },
   {
    "duration": 2192,
    "start_time": "2024-07-03T13:56:30.666Z"
   },
   {
    "duration": 590,
    "start_time": "2024-07-03T13:56:32.862Z"
   },
   {
    "duration": 27,
    "start_time": "2024-07-03T13:56:33.456Z"
   },
   {
    "duration": 4,
    "start_time": "2024-07-03T13:56:33.487Z"
   },
   {
    "duration": 544,
    "start_time": "2024-07-03T13:56:33.516Z"
   },
   {
    "duration": 771,
    "start_time": "2024-07-03T13:56:34.063Z"
   },
   {
    "duration": 15839,
    "start_time": "2024-07-03T13:56:34.838Z"
   },
   {
    "duration": 1553,
    "start_time": "2024-07-03T13:56:50.719Z"
   },
   {
    "duration": 358,
    "start_time": "2024-07-03T13:57:05.562Z"
   },
   {
    "duration": 1497,
    "start_time": "2024-07-03T15:39:13.713Z"
   },
   {
    "duration": 807,
    "start_time": "2024-07-03T15:39:15.214Z"
   },
   {
    "duration": 38,
    "start_time": "2024-07-03T15:39:16.024Z"
   },
   {
    "duration": 439,
    "start_time": "2024-07-03T15:39:16.065Z"
   },
   {
    "duration": 464,
    "start_time": "2024-07-03T15:39:16.511Z"
   },
   {
    "duration": 149,
    "start_time": "2024-07-03T15:39:16.979Z"
   },
   {
    "duration": 146,
    "start_time": "2024-07-03T15:39:17.132Z"
   },
   {
    "duration": 2839,
    "start_time": "2024-07-03T15:39:17.281Z"
   },
   {
    "duration": 136,
    "start_time": "2024-07-03T15:39:20.123Z"
   },
   {
    "duration": 90,
    "start_time": "2024-07-03T15:39:20.261Z"
   },
   {
    "duration": 3931,
    "start_time": "2024-07-03T15:39:20.354Z"
   },
   {
    "duration": 2137,
    "start_time": "2024-07-03T15:39:24.288Z"
   },
   {
    "duration": 1993,
    "start_time": "2024-07-03T15:39:26.429Z"
   },
   {
    "duration": 2126,
    "start_time": "2024-07-03T15:39:28.430Z"
   },
   {
    "duration": 568,
    "start_time": "2024-07-03T15:39:30.559Z"
   },
   {
    "duration": 25,
    "start_time": "2024-07-03T15:39:31.131Z"
   },
   {
    "duration": 5,
    "start_time": "2024-07-03T15:39:31.158Z"
   },
   {
    "duration": 557,
    "start_time": "2024-07-03T15:39:31.166Z"
   },
   {
    "duration": 761,
    "start_time": "2024-07-03T15:39:31.726Z"
   },
   {
    "duration": 14539,
    "start_time": "2024-07-03T15:39:32.491Z"
   },
   {
    "duration": 616,
    "start_time": "2024-07-03T15:42:52.524Z"
   },
   {
    "duration": 14,
    "start_time": "2024-07-03T15:56:17.506Z"
   },
   {
    "duration": 1416,
    "start_time": "2024-07-03T15:57:20.930Z"
   },
   {
    "duration": 741,
    "start_time": "2024-07-03T15:57:22.350Z"
   },
   {
    "duration": 46,
    "start_time": "2024-07-03T15:57:23.094Z"
   },
   {
    "duration": 427,
    "start_time": "2024-07-03T15:57:23.145Z"
   },
   {
    "duration": 482,
    "start_time": "2024-07-03T15:57:23.575Z"
   },
   {
    "duration": 155,
    "start_time": "2024-07-03T15:57:24.060Z"
   },
   {
    "duration": 138,
    "start_time": "2024-07-03T15:57:24.218Z"
   },
   {
    "duration": 2922,
    "start_time": "2024-07-03T15:57:24.359Z"
   },
   {
    "duration": 157,
    "start_time": "2024-07-03T15:57:27.284Z"
   },
   {
    "duration": 83,
    "start_time": "2024-07-03T15:57:27.447Z"
   },
   {
    "duration": 283,
    "start_time": "2024-07-03T15:57:27.534Z"
   },
   {
    "duration": 1953,
    "start_time": "2024-07-03T15:57:27.820Z"
   },
   {
    "duration": 1984,
    "start_time": "2024-07-03T15:57:29.776Z"
   },
   {
    "duration": 2055,
    "start_time": "2024-07-03T15:57:31.764Z"
   },
   {
    "duration": 588,
    "start_time": "2024-07-03T15:57:33.823Z"
   },
   {
    "duration": 6,
    "start_time": "2024-07-03T16:00:59.443Z"
   },
   {
    "duration": 728,
    "start_time": "2024-07-03T16:00:59.454Z"
   },
   {
    "duration": 40,
    "start_time": "2024-07-03T16:01:00.185Z"
   },
   {
    "duration": 396,
    "start_time": "2024-07-03T16:01:00.230Z"
   },
   {
    "duration": 459,
    "start_time": "2024-07-03T16:01:00.632Z"
   },
   {
    "duration": 155,
    "start_time": "2024-07-03T16:01:01.094Z"
   },
   {
    "duration": 158,
    "start_time": "2024-07-03T16:01:01.253Z"
   },
   {
    "duration": 2881,
    "start_time": "2024-07-03T16:01:01.415Z"
   },
   {
    "duration": 147,
    "start_time": "2024-07-03T16:01:04.300Z"
   },
   {
    "duration": 84,
    "start_time": "2024-07-03T16:01:04.450Z"
   },
   {
    "duration": 5,
    "start_time": "2024-07-03T16:01:04.538Z"
   },
   {
    "duration": 2065,
    "start_time": "2024-07-03T16:01:04.549Z"
   },
   {
    "duration": 1992,
    "start_time": "2024-07-03T16:01:06.619Z"
   },
   {
    "duration": 2119,
    "start_time": "2024-07-03T16:01:08.616Z"
   },
   {
    "duration": 577,
    "start_time": "2024-07-03T16:01:10.739Z"
   },
   {
    "duration": 20,
    "start_time": "2024-07-03T16:01:11.319Z"
   },
   {
    "duration": 5,
    "start_time": "2024-07-03T16:01:11.342Z"
   },
   {
    "duration": 165,
    "start_time": "2024-07-03T16:01:11.350Z"
   },
   {
    "duration": 1880,
    "start_time": "2024-07-03T16:01:20.621Z"
   },
   {
    "duration": 1455,
    "start_time": "2024-07-03T16:01:58.693Z"
   },
   {
    "duration": 730,
    "start_time": "2024-07-03T16:02:00.152Z"
   },
   {
    "duration": 50,
    "start_time": "2024-07-03T16:02:00.885Z"
   },
   {
    "duration": 444,
    "start_time": "2024-07-03T16:02:00.940Z"
   },
   {
    "duration": 469,
    "start_time": "2024-07-03T16:02:01.388Z"
   },
   {
    "duration": 164,
    "start_time": "2024-07-03T16:02:01.860Z"
   },
   {
    "duration": 145,
    "start_time": "2024-07-03T16:02:02.027Z"
   },
   {
    "duration": 2823,
    "start_time": "2024-07-03T16:02:02.175Z"
   },
   {
    "duration": 146,
    "start_time": "2024-07-03T16:02:05.000Z"
   },
   {
    "duration": 89,
    "start_time": "2024-07-03T16:02:05.153Z"
   },
   {
    "duration": 295,
    "start_time": "2024-07-03T16:02:05.245Z"
   },
   {
    "duration": 1938,
    "start_time": "2024-07-03T16:02:05.544Z"
   },
   {
    "duration": 1993,
    "start_time": "2024-07-03T16:02:07.485Z"
   },
   {
    "duration": 2139,
    "start_time": "2024-07-03T16:02:09.481Z"
   },
   {
    "duration": 586,
    "start_time": "2024-07-03T16:02:11.623Z"
   },
   {
    "duration": 24,
    "start_time": "2024-07-03T16:02:12.212Z"
   },
   {
    "duration": 5,
    "start_time": "2024-07-03T16:02:12.239Z"
   },
   {
    "duration": 111,
    "start_time": "2024-07-03T16:02:23.506Z"
   },
   {
    "duration": 535,
    "start_time": "2024-07-03T16:02:25.184Z"
   },
   {
    "duration": 188,
    "start_time": "2024-07-03T16:03:54.381Z"
   },
   {
    "duration": 372,
    "start_time": "2024-07-03T16:07:08.910Z"
   },
   {
    "duration": 6,
    "start_time": "2024-07-03T16:10:46.343Z"
   },
   {
    "duration": 23,
    "start_time": "2024-07-03T16:11:00.510Z"
   },
   {
    "duration": 126,
    "start_time": "2024-07-03T16:11:38.359Z"
   },
   {
    "duration": 110,
    "start_time": "2024-07-03T16:11:56.035Z"
   },
   {
    "duration": 1409,
    "start_time": "2024-07-03T16:12:14.379Z"
   },
   {
    "duration": 735,
    "start_time": "2024-07-03T16:12:15.792Z"
   },
   {
    "duration": 41,
    "start_time": "2024-07-03T16:12:16.530Z"
   },
   {
    "duration": 465,
    "start_time": "2024-07-03T16:12:16.574Z"
   },
   {
    "duration": 488,
    "start_time": "2024-07-03T16:12:17.044Z"
   },
   {
    "duration": 146,
    "start_time": "2024-07-03T16:12:17.536Z"
   },
   {
    "duration": 156,
    "start_time": "2024-07-03T16:12:17.685Z"
   },
   {
    "duration": 3037,
    "start_time": "2024-07-03T16:12:17.844Z"
   },
   {
    "duration": 150,
    "start_time": "2024-07-03T16:12:20.884Z"
   },
   {
    "duration": 86,
    "start_time": "2024-07-03T16:12:21.037Z"
   },
   {
    "duration": 276,
    "start_time": "2024-07-03T16:12:21.126Z"
   },
   {
    "duration": 1961,
    "start_time": "2024-07-03T16:12:21.404Z"
   },
   {
    "duration": 1989,
    "start_time": "2024-07-03T16:12:23.369Z"
   },
   {
    "duration": 2153,
    "start_time": "2024-07-03T16:12:25.364Z"
   },
   {
    "duration": 590,
    "start_time": "2024-07-03T16:12:27.521Z"
   },
   {
    "duration": 22,
    "start_time": "2024-07-03T16:12:28.114Z"
   },
   {
    "duration": 4,
    "start_time": "2024-07-03T16:12:28.139Z"
   },
   {
    "duration": 152,
    "start_time": "2024-07-03T16:12:28.148Z"
   },
   {
    "duration": 363,
    "start_time": "2024-07-03T16:12:28.307Z"
   },
   {
    "duration": 6,
    "start_time": "2024-07-03T16:12:28.673Z"
   },
   {
    "duration": 338,
    "start_time": "2024-07-03T16:12:28.682Z"
   },
   {
    "duration": 0,
    "start_time": "2024-07-03T16:12:29.024Z"
   },
   {
    "duration": 0,
    "start_time": "2024-07-03T16:12:29.025Z"
   },
   {
    "duration": 463,
    "start_time": "2024-07-03T16:15:13.745Z"
   },
   {
    "duration": 352,
    "start_time": "2024-07-03T16:15:39.277Z"
   },
   {
    "duration": 26,
    "start_time": "2024-07-03T16:32:06.508Z"
   },
   {
    "duration": 805,
    "start_time": "2024-07-03T16:43:58.475Z"
   },
   {
    "duration": 1432,
    "start_time": "2024-07-03T16:44:18.922Z"
   },
   {
    "duration": 731,
    "start_time": "2024-07-03T16:44:20.361Z"
   },
   {
    "duration": 47,
    "start_time": "2024-07-03T16:44:21.095Z"
   },
   {
    "duration": 452,
    "start_time": "2024-07-03T16:44:21.147Z"
   },
   {
    "duration": 467,
    "start_time": "2024-07-03T16:44:21.603Z"
   },
   {
    "duration": 150,
    "start_time": "2024-07-03T16:44:22.073Z"
   },
   {
    "duration": 146,
    "start_time": "2024-07-03T16:44:22.227Z"
   },
   {
    "duration": 2862,
    "start_time": "2024-07-03T16:44:22.376Z"
   },
   {
    "duration": 134,
    "start_time": "2024-07-03T16:44:25.241Z"
   },
   {
    "duration": 92,
    "start_time": "2024-07-03T16:44:25.380Z"
   },
   {
    "duration": 303,
    "start_time": "2024-07-03T16:44:25.475Z"
   },
   {
    "duration": 1977,
    "start_time": "2024-07-03T16:44:25.782Z"
   },
   {
    "duration": 2007,
    "start_time": "2024-07-03T16:44:27.762Z"
   },
   {
    "duration": 2138,
    "start_time": "2024-07-03T16:44:29.772Z"
   },
   {
    "duration": 582,
    "start_time": "2024-07-03T16:44:31.913Z"
   },
   {
    "duration": 32,
    "start_time": "2024-07-03T16:44:32.498Z"
   },
   {
    "duration": 121,
    "start_time": "2024-07-03T16:44:32.534Z"
   },
   {
    "duration": 356,
    "start_time": "2024-07-03T16:44:32.658Z"
   },
   {
    "duration": 492,
    "start_time": "2024-07-03T16:44:33.018Z"
   },
   {
    "duration": 5,
    "start_time": "2024-07-03T17:33:49.244Z"
   },
   {
    "duration": 505,
    "start_time": "2024-07-03T17:33:56.256Z"
   },
   {
    "duration": 1474,
    "start_time": "2024-07-03T17:34:26.763Z"
   },
   {
    "duration": 24,
    "start_time": "2024-07-03T17:35:47.727Z"
   },
   {
    "duration": 1448,
    "start_time": "2024-07-03T17:36:04.890Z"
   },
   {
    "duration": 734,
    "start_time": "2024-07-03T17:36:06.342Z"
   },
   {
    "duration": 50,
    "start_time": "2024-07-03T17:36:07.079Z"
   },
   {
    "duration": 433,
    "start_time": "2024-07-03T17:36:07.135Z"
   },
   {
    "duration": 478,
    "start_time": "2024-07-03T17:36:07.571Z"
   },
   {
    "duration": 144,
    "start_time": "2024-07-03T17:36:08.052Z"
   },
   {
    "duration": 148,
    "start_time": "2024-07-03T17:36:08.199Z"
   },
   {
    "duration": 2738,
    "start_time": "2024-07-03T17:36:08.350Z"
   },
   {
    "duration": 143,
    "start_time": "2024-07-03T17:36:11.091Z"
   },
   {
    "duration": 79,
    "start_time": "2024-07-03T17:36:11.239Z"
   },
   {
    "duration": 274,
    "start_time": "2024-07-03T17:36:11.322Z"
   },
   {
    "duration": 1912,
    "start_time": "2024-07-03T17:36:11.599Z"
   },
   {
    "duration": 1986,
    "start_time": "2024-07-03T17:36:13.517Z"
   },
   {
    "duration": 2102,
    "start_time": "2024-07-03T17:36:15.505Z"
   },
   {
    "duration": 574,
    "start_time": "2024-07-03T17:36:17.610Z"
   },
   {
    "duration": 32,
    "start_time": "2024-07-03T17:36:18.188Z"
   },
   {
    "duration": 129,
    "start_time": "2024-07-03T17:36:18.222Z"
   },
   {
    "duration": 355,
    "start_time": "2024-07-03T17:36:18.353Z"
   },
   {
    "duration": 473,
    "start_time": "2024-07-03T17:36:18.712Z"
   },
   {
    "duration": 1945,
    "start_time": "2024-07-03T17:36:19.188Z"
   },
   {
    "duration": 0,
    "start_time": "2024-07-03T17:36:21.136Z"
   },
   {
    "duration": 6,
    "start_time": "2024-07-03T17:38:22.755Z"
   },
   {
    "duration": 5,
    "start_time": "2024-07-03T17:38:30.895Z"
   },
   {
    "duration": 38,
    "start_time": "2024-07-03T17:39:45.017Z"
   },
   {
    "duration": 5,
    "start_time": "2024-07-03T17:40:04.670Z"
   },
   {
    "duration": 8,
    "start_time": "2024-07-03T17:40:52.032Z"
   },
   {
    "duration": 6,
    "start_time": "2024-07-03T17:41:04.826Z"
   },
   {
    "duration": 216,
    "start_time": "2024-07-03T17:41:10.136Z"
   },
   {
    "duration": 813,
    "start_time": "2024-07-03T17:41:14.265Z"
   },
   {
    "duration": 1478,
    "start_time": "2024-07-03T17:41:24.010Z"
   },
   {
    "duration": 755,
    "start_time": "2024-07-03T17:41:25.493Z"
   },
   {
    "duration": 58,
    "start_time": "2024-07-03T17:41:26.251Z"
   },
   {
    "duration": 437,
    "start_time": "2024-07-03T17:41:26.314Z"
   },
   {
    "duration": 477,
    "start_time": "2024-07-03T17:41:26.755Z"
   },
   {
    "duration": 174,
    "start_time": "2024-07-03T17:41:27.235Z"
   },
   {
    "duration": 148,
    "start_time": "2024-07-03T17:41:27.413Z"
   },
   {
    "duration": 2826,
    "start_time": "2024-07-03T17:41:27.564Z"
   },
   {
    "duration": 152,
    "start_time": "2024-07-03T17:41:30.393Z"
   },
   {
    "duration": 80,
    "start_time": "2024-07-03T17:41:30.550Z"
   },
   {
    "duration": 285,
    "start_time": "2024-07-03T17:41:30.633Z"
   },
   {
    "duration": 1904,
    "start_time": "2024-07-03T17:41:30.920Z"
   },
   {
    "duration": 2007,
    "start_time": "2024-07-03T17:41:32.827Z"
   },
   {
    "duration": 2078,
    "start_time": "2024-07-03T17:41:34.838Z"
   },
   {
    "duration": 580,
    "start_time": "2024-07-03T17:41:36.919Z"
   },
   {
    "duration": 26,
    "start_time": "2024-07-03T17:41:37.511Z"
   },
   {
    "duration": 135,
    "start_time": "2024-07-03T17:41:37.540Z"
   },
   {
    "duration": 6,
    "start_time": "2024-07-03T17:41:37.678Z"
   },
   {
    "duration": 22,
    "start_time": "2024-07-03T17:41:37.689Z"
   },
   {
    "duration": 6,
    "start_time": "2024-07-03T17:41:37.715Z"
   },
   {
    "duration": 8,
    "start_time": "2024-07-03T17:41:37.725Z"
   },
   {
    "duration": 394,
    "start_time": "2024-07-03T17:41:37.736Z"
   },
   {
    "duration": 490,
    "start_time": "2024-07-03T17:41:38.133Z"
   },
   {
    "duration": 1973,
    "start_time": "2024-07-03T17:41:38.626Z"
   },
   {
    "duration": 0,
    "start_time": "2024-07-03T17:41:40.610Z"
   },
   {
    "duration": 6,
    "start_time": "2024-07-03T17:43:22.841Z"
   },
   {
    "duration": 4,
    "start_time": "2024-07-03T17:45:14.376Z"
   },
   {
    "duration": 1389,
    "start_time": "2024-07-03T17:45:38.841Z"
   },
   {
    "duration": 724,
    "start_time": "2024-07-03T17:45:40.234Z"
   },
   {
    "duration": 50,
    "start_time": "2024-07-03T17:45:40.961Z"
   },
   {
    "duration": 417,
    "start_time": "2024-07-03T17:45:41.016Z"
   },
   {
    "duration": 475,
    "start_time": "2024-07-03T17:45:41.437Z"
   },
   {
    "duration": 153,
    "start_time": "2024-07-03T17:45:41.917Z"
   },
   {
    "duration": 147,
    "start_time": "2024-07-03T17:45:42.073Z"
   },
   {
    "duration": 2891,
    "start_time": "2024-07-03T17:45:42.223Z"
   },
   {
    "duration": 143,
    "start_time": "2024-07-03T17:45:45.117Z"
   },
   {
    "duration": 92,
    "start_time": "2024-07-03T17:45:45.265Z"
   },
   {
    "duration": 286,
    "start_time": "2024-07-03T17:45:45.360Z"
   },
   {
    "duration": 1935,
    "start_time": "2024-07-03T17:45:45.649Z"
   },
   {
    "duration": 1964,
    "start_time": "2024-07-03T17:45:47.587Z"
   },
   {
    "duration": 2069,
    "start_time": "2024-07-03T17:45:49.554Z"
   },
   {
    "duration": 565,
    "start_time": "2024-07-03T17:45:51.626Z"
   },
   {
    "duration": 33,
    "start_time": "2024-07-03T17:45:52.194Z"
   },
   {
    "duration": 128,
    "start_time": "2024-07-03T17:45:52.230Z"
   },
   {
    "duration": 353,
    "start_time": "2024-07-03T17:45:52.361Z"
   },
   {
    "duration": 491,
    "start_time": "2024-07-03T17:45:52.717Z"
   },
   {
    "duration": 6,
    "start_time": "2024-07-03T17:45:53.211Z"
   },
   {
    "duration": 1422,
    "start_time": "2024-07-03T17:47:17.534Z"
   },
   {
    "duration": 730,
    "start_time": "2024-07-03T17:47:18.961Z"
   },
   {
    "duration": 45,
    "start_time": "2024-07-03T17:47:19.694Z"
   },
   {
    "duration": 428,
    "start_time": "2024-07-03T17:47:19.742Z"
   },
   {
    "duration": 481,
    "start_time": "2024-07-03T17:47:20.175Z"
   },
   {
    "duration": 154,
    "start_time": "2024-07-03T17:47:20.659Z"
   },
   {
    "duration": 143,
    "start_time": "2024-07-03T17:47:20.816Z"
   },
   {
    "duration": 2915,
    "start_time": "2024-07-03T17:47:20.962Z"
   },
   {
    "duration": 146,
    "start_time": "2024-07-03T17:47:23.880Z"
   },
   {
    "duration": 80,
    "start_time": "2024-07-03T17:47:24.029Z"
   },
   {
    "duration": 283,
    "start_time": "2024-07-03T17:47:24.112Z"
   },
   {
    "duration": 1958,
    "start_time": "2024-07-03T17:47:24.398Z"
   },
   {
    "duration": 1929,
    "start_time": "2024-07-03T17:47:26.360Z"
   },
   {
    "duration": 2117,
    "start_time": "2024-07-03T17:47:28.295Z"
   },
   {
    "duration": 567,
    "start_time": "2024-07-03T17:47:30.415Z"
   },
   {
    "duration": 34,
    "start_time": "2024-07-03T17:47:30.985Z"
   },
   {
    "duration": 129,
    "start_time": "2024-07-03T17:47:31.023Z"
   },
   {
    "duration": 470,
    "start_time": "2024-07-03T17:50:22.693Z"
   },
   {
    "duration": 6,
    "start_time": "2024-07-03T17:50:31.487Z"
   },
   {
    "duration": 99,
    "start_time": "2024-07-03T17:51:01.823Z"
   },
   {
    "duration": 461,
    "start_time": "2024-07-03T17:51:07.947Z"
   },
   {
    "duration": 5,
    "start_time": "2024-07-03T17:51:09.151Z"
   },
   {
    "duration": 92,
    "start_time": "2024-07-03T17:51:42.578Z"
   },
   {
    "duration": 481,
    "start_time": "2024-07-03T17:51:45.378Z"
   },
   {
    "duration": 4,
    "start_time": "2024-07-03T17:51:46.810Z"
   },
   {
    "duration": 98,
    "start_time": "2024-07-03T17:51:55.323Z"
   },
   {
    "duration": 440,
    "start_time": "2024-07-03T17:51:58.012Z"
   },
   {
    "duration": 5,
    "start_time": "2024-07-03T17:51:58.999Z"
   },
   {
    "duration": 94,
    "start_time": "2024-07-03T17:52:07.420Z"
   },
   {
    "duration": 465,
    "start_time": "2024-07-03T17:52:09.848Z"
   },
   {
    "duration": 4,
    "start_time": "2024-07-03T17:52:10.947Z"
   },
   {
    "duration": 1432,
    "start_time": "2024-07-03T17:52:37.552Z"
   },
   {
    "duration": 759,
    "start_time": "2024-07-03T17:52:38.987Z"
   },
   {
    "duration": 38,
    "start_time": "2024-07-03T17:52:39.749Z"
   },
   {
    "duration": 441,
    "start_time": "2024-07-03T17:52:39.808Z"
   },
   {
    "duration": 508,
    "start_time": "2024-07-03T17:52:40.253Z"
   },
   {
    "duration": 153,
    "start_time": "2024-07-03T17:52:40.764Z"
   },
   {
    "duration": 148,
    "start_time": "2024-07-03T17:52:40.920Z"
   },
   {
    "duration": 2821,
    "start_time": "2024-07-03T17:52:41.071Z"
   },
   {
    "duration": 152,
    "start_time": "2024-07-03T17:52:43.895Z"
   },
   {
    "duration": 83,
    "start_time": "2024-07-03T17:52:44.052Z"
   },
   {
    "duration": 275,
    "start_time": "2024-07-03T17:52:44.139Z"
   },
   {
    "duration": 2033,
    "start_time": "2024-07-03T17:52:44.417Z"
   },
   {
    "duration": 1943,
    "start_time": "2024-07-03T17:52:46.452Z"
   },
   {
    "duration": 2131,
    "start_time": "2024-07-03T17:52:48.398Z"
   },
   {
    "duration": 565,
    "start_time": "2024-07-03T17:52:50.532Z"
   },
   {
    "duration": 25,
    "start_time": "2024-07-03T17:52:51.108Z"
   },
   {
    "duration": 136,
    "start_time": "2024-07-03T17:52:51.136Z"
   },
   {
    "duration": 357,
    "start_time": "2024-07-03T17:52:51.274Z"
   },
   {
    "duration": 489,
    "start_time": "2024-07-03T17:52:51.635Z"
   },
   {
    "duration": 1275,
    "start_time": "2024-07-03T17:52:56.684Z"
   },
   {
    "duration": 5,
    "start_time": "2024-07-03T17:53:07.066Z"
   },
   {
    "duration": 1448,
    "start_time": "2024-07-03T17:53:30.493Z"
   },
   {
    "duration": 736,
    "start_time": "2024-07-03T17:53:31.945Z"
   },
   {
    "duration": 45,
    "start_time": "2024-07-03T17:53:32.684Z"
   },
   {
    "duration": 433,
    "start_time": "2024-07-03T17:53:32.733Z"
   },
   {
    "duration": 497,
    "start_time": "2024-07-03T17:53:33.170Z"
   },
   {
    "duration": 161,
    "start_time": "2024-07-03T17:53:33.670Z"
   },
   {
    "duration": 146,
    "start_time": "2024-07-03T17:53:33.835Z"
   },
   {
    "duration": 2883,
    "start_time": "2024-07-03T17:53:33.984Z"
   },
   {
    "duration": 141,
    "start_time": "2024-07-03T17:53:36.870Z"
   },
   {
    "duration": 72,
    "start_time": "2024-07-03T17:53:37.016Z"
   },
   {
    "duration": 302,
    "start_time": "2024-07-03T17:53:37.092Z"
   },
   {
    "duration": 1916,
    "start_time": "2024-07-03T17:53:37.397Z"
   },
   {
    "duration": 1966,
    "start_time": "2024-07-03T17:53:39.316Z"
   },
   {
    "duration": 2129,
    "start_time": "2024-07-03T17:53:41.285Z"
   },
   {
    "duration": 586,
    "start_time": "2024-07-03T17:53:43.417Z"
   },
   {
    "duration": 25,
    "start_time": "2024-07-03T17:53:44.010Z"
   },
   {
    "duration": 122,
    "start_time": "2024-07-03T17:53:44.038Z"
   },
   {
    "duration": 468,
    "start_time": "2024-07-03T17:53:50.129Z"
   },
   {
    "duration": 4,
    "start_time": "2024-07-03T17:53:52.192Z"
   },
   {
    "duration": 6,
    "start_time": "2024-07-03T17:53:54.364Z"
   },
   {
    "duration": 1244,
    "start_time": "2024-07-03T17:53:58.926Z"
   },
   {
    "duration": 6,
    "start_time": "2024-07-03T17:54:25.298Z"
   },
   {
    "duration": 249,
    "start_time": "2024-07-03T17:59:55.877Z"
   },
   {
    "duration": 53,
    "start_time": "2024-07-03T18:04:27.765Z"
   },
   {
    "duration": 42,
    "start_time": "2024-07-03T18:04:38.915Z"
   },
   {
    "duration": 14695,
    "start_time": "2024-07-03T18:05:09.834Z"
   },
   {
    "duration": 1428,
    "start_time": "2024-07-03T18:52:45.538Z"
   },
   {
    "duration": 788,
    "start_time": "2024-07-03T18:52:46.971Z"
   },
   {
    "duration": 51,
    "start_time": "2024-07-03T18:52:47.763Z"
   },
   {
    "duration": 424,
    "start_time": "2024-07-03T18:52:47.819Z"
   },
   {
    "duration": 497,
    "start_time": "2024-07-03T18:52:48.247Z"
   },
   {
    "duration": 153,
    "start_time": "2024-07-03T18:52:48.747Z"
   },
   {
    "duration": 144,
    "start_time": "2024-07-03T18:52:48.910Z"
   },
   {
    "duration": 3022,
    "start_time": "2024-07-03T18:52:49.056Z"
   },
   {
    "duration": 148,
    "start_time": "2024-07-03T18:52:52.082Z"
   },
   {
    "duration": 84,
    "start_time": "2024-07-03T18:52:52.236Z"
   },
   {
    "duration": 287,
    "start_time": "2024-07-03T18:52:52.323Z"
   },
   {
    "duration": 1967,
    "start_time": "2024-07-03T18:52:52.613Z"
   },
   {
    "duration": 2121,
    "start_time": "2024-07-03T18:52:54.587Z"
   },
   {
    "duration": 2104,
    "start_time": "2024-07-03T18:52:56.712Z"
   },
   {
    "duration": 572,
    "start_time": "2024-07-03T18:52:58.820Z"
   },
   {
    "duration": 31,
    "start_time": "2024-07-03T18:52:59.395Z"
   },
   {
    "duration": 124,
    "start_time": "2024-07-03T18:52:59.430Z"
   },
   {
    "duration": 351,
    "start_time": "2024-07-03T18:52:59.557Z"
   },
   {
    "duration": 482,
    "start_time": "2024-07-03T18:52:59.912Z"
   },
   {
    "duration": 12,
    "start_time": "2024-07-03T18:53:00.397Z"
   },
   {
    "duration": 7,
    "start_time": "2024-07-03T18:53:00.412Z"
   },
   {
    "duration": 321,
    "start_time": "2024-07-03T18:53:00.422Z"
   },
   {
    "duration": 7,
    "start_time": "2024-07-03T18:53:00.746Z"
   },
   {
    "duration": 14758,
    "start_time": "2024-07-03T18:53:00.756Z"
   },
   {
    "duration": 232106,
    "start_time": "2024-07-03T18:53:15.517Z"
   },
   {
    "duration": 4955,
    "start_time": "2024-07-03T19:11:23.379Z"
   },
   {
    "duration": 1005,
    "start_time": "2024-07-03T19:16:52.126Z"
   },
   {
    "duration": 10,
    "start_time": "2024-07-03T19:19:30.517Z"
   },
   {
    "duration": 1658,
    "start_time": "2024-07-03T19:20:18.180Z"
   },
   {
    "duration": 833,
    "start_time": "2024-07-03T19:20:19.842Z"
   },
   {
    "duration": 45,
    "start_time": "2024-07-03T19:20:20.680Z"
   },
   {
    "duration": 447,
    "start_time": "2024-07-03T19:20:20.731Z"
   },
   {
    "duration": 532,
    "start_time": "2024-07-03T19:20:21.182Z"
   },
   {
    "duration": 158,
    "start_time": "2024-07-03T19:20:21.717Z"
   },
   {
    "duration": 157,
    "start_time": "2024-07-03T19:20:21.879Z"
   },
   {
    "duration": 2921,
    "start_time": "2024-07-03T19:20:22.040Z"
   },
   {
    "duration": 154,
    "start_time": "2024-07-03T19:20:24.964Z"
   },
   {
    "duration": 89,
    "start_time": "2024-07-03T19:20:25.126Z"
   },
   {
    "duration": 322,
    "start_time": "2024-07-03T19:20:25.219Z"
   },
   {
    "duration": 2019,
    "start_time": "2024-07-03T19:20:25.545Z"
   },
   {
    "duration": 2073,
    "start_time": "2024-07-03T19:20:27.567Z"
   },
   {
    "duration": 2183,
    "start_time": "2024-07-03T19:20:29.643Z"
   },
   {
    "duration": 623,
    "start_time": "2024-07-03T19:20:31.830Z"
   },
   {
    "duration": 11,
    "start_time": "2024-07-03T19:20:32.457Z"
   },
   {
    "duration": 53,
    "start_time": "2024-07-03T19:20:32.474Z"
   },
   {
    "duration": 129,
    "start_time": "2024-07-03T19:20:32.530Z"
   },
   {
    "duration": 369,
    "start_time": "2024-07-03T19:20:32.662Z"
   },
   {
    "duration": 497,
    "start_time": "2024-07-03T19:20:33.034Z"
   },
   {
    "duration": 4,
    "start_time": "2024-07-03T19:20:33.534Z"
   },
   {
    "duration": 7,
    "start_time": "2024-07-03T19:20:33.542Z"
   },
   {
    "duration": 321,
    "start_time": "2024-07-03T19:20:33.553Z"
   },
   {
    "duration": 7,
    "start_time": "2024-07-03T19:20:33.877Z"
   },
   {
    "duration": 16820,
    "start_time": "2024-07-03T19:20:33.889Z"
   },
   {
    "duration": 238598,
    "start_time": "2024-07-03T19:20:50.714Z"
   },
   {
    "duration": 4904,
    "start_time": "2024-07-03T19:24:49.315Z"
   },
   {
    "duration": 138183,
    "start_time": "2024-07-03T19:24:54.226Z"
   },
   {
    "duration": 138942,
    "start_time": "2024-07-03T19:34:21.882Z"
   },
   {
    "duration": 1454,
    "start_time": "2024-07-04T02:25:59.681Z"
   },
   {
    "duration": 802,
    "start_time": "2024-07-04T02:26:01.139Z"
   },
   {
    "duration": 37,
    "start_time": "2024-07-04T02:26:01.945Z"
   },
   {
    "duration": 447,
    "start_time": "2024-07-04T02:26:01.986Z"
   },
   {
    "duration": 472,
    "start_time": "2024-07-04T02:26:02.436Z"
   },
   {
    "duration": 150,
    "start_time": "2024-07-04T02:26:02.912Z"
   },
   {
    "duration": 155,
    "start_time": "2024-07-04T02:26:03.065Z"
   },
   {
    "duration": 2865,
    "start_time": "2024-07-04T02:26:03.223Z"
   },
   {
    "duration": 147,
    "start_time": "2024-07-04T02:26:06.091Z"
   },
   {
    "duration": 85,
    "start_time": "2024-07-04T02:26:06.243Z"
   },
   {
    "duration": 4032,
    "start_time": "2024-07-04T02:26:06.331Z"
   },
   {
    "duration": 1978,
    "start_time": "2024-07-04T02:26:10.366Z"
   },
   {
    "duration": 1947,
    "start_time": "2024-07-04T02:26:12.348Z"
   },
   {
    "duration": 2145,
    "start_time": "2024-07-04T02:26:14.300Z"
   },
   {
    "duration": 587,
    "start_time": "2024-07-04T02:26:16.448Z"
   },
   {
    "duration": 99,
    "start_time": "2024-07-04T02:26:17.039Z"
   },
   {
    "duration": 23,
    "start_time": "2024-07-04T02:26:17.142Z"
   },
   {
    "duration": 148,
    "start_time": "2024-07-04T02:26:17.169Z"
   },
   {
    "duration": 366,
    "start_time": "2024-07-04T02:26:17.319Z"
   },
   {
    "duration": 498,
    "start_time": "2024-07-04T02:26:17.689Z"
   },
   {
    "duration": 5,
    "start_time": "2024-07-04T02:26:18.189Z"
   },
   {
    "duration": 7,
    "start_time": "2024-07-04T02:26:18.210Z"
   },
   {
    "duration": 309,
    "start_time": "2024-07-04T02:26:18.220Z"
   },
   {
    "duration": 8,
    "start_time": "2024-07-04T02:26:18.532Z"
   },
   {
    "duration": 14564,
    "start_time": "2024-07-04T02:26:18.543Z"
   },
   {
    "duration": 236476,
    "start_time": "2024-07-04T02:26:33.111Z"
   },
   {
    "duration": 5446,
    "start_time": "2024-07-04T02:30:29.590Z"
   },
   {
    "duration": 141115,
    "start_time": "2024-07-04T02:30:35.043Z"
   },
   {
    "duration": 6,
    "start_time": "2024-07-04T02:34:31.359Z"
   },
   {
    "duration": 1528,
    "start_time": "2024-07-04T02:34:40.583Z"
   },
   {
    "duration": 234,
    "start_time": "2024-07-04T02:36:32.661Z"
   },
   {
    "duration": 1404,
    "start_time": "2024-07-04T02:41:22.357Z"
   },
   {
    "duration": 737,
    "start_time": "2024-07-04T02:41:23.765Z"
   },
   {
    "duration": 44,
    "start_time": "2024-07-04T02:41:24.505Z"
   },
   {
    "duration": 484,
    "start_time": "2024-07-04T02:41:24.553Z"
   },
   {
    "duration": 474,
    "start_time": "2024-07-04T02:41:25.042Z"
   },
   {
    "duration": 155,
    "start_time": "2024-07-04T02:41:25.519Z"
   },
   {
    "duration": 163,
    "start_time": "2024-07-04T02:41:25.677Z"
   },
   {
    "duration": 2863,
    "start_time": "2024-07-04T02:41:25.843Z"
   },
   {
    "duration": 139,
    "start_time": "2024-07-04T02:41:28.710Z"
   },
   {
    "duration": 82,
    "start_time": "2024-07-04T02:41:28.851Z"
   },
   {
    "duration": 305,
    "start_time": "2024-07-04T02:41:28.936Z"
   },
   {
    "duration": 1917,
    "start_time": "2024-07-04T02:41:29.244Z"
   },
   {
    "duration": 1924,
    "start_time": "2024-07-04T02:41:31.165Z"
   },
   {
    "duration": 2163,
    "start_time": "2024-07-04T02:41:33.095Z"
   },
   {
    "duration": 578,
    "start_time": "2024-07-04T02:41:35.261Z"
   },
   {
    "duration": 11,
    "start_time": "2024-07-04T02:41:35.843Z"
   },
   {
    "duration": 22,
    "start_time": "2024-07-04T02:41:35.858Z"
   },
   {
    "duration": 120,
    "start_time": "2024-07-04T02:41:35.910Z"
   },
   {
    "duration": 355,
    "start_time": "2024-07-04T02:41:36.033Z"
   },
   {
    "duration": 544,
    "start_time": "2024-07-04T02:41:36.391Z"
   },
   {
    "duration": 0,
    "start_time": "2024-07-04T02:41:36.940Z"
   },
   {
    "duration": 0,
    "start_time": "2024-07-04T02:41:36.943Z"
   },
   {
    "duration": 0,
    "start_time": "2024-07-04T02:41:36.945Z"
   },
   {
    "duration": 0,
    "start_time": "2024-07-04T02:41:36.948Z"
   },
   {
    "duration": 0,
    "start_time": "2024-07-04T02:41:36.952Z"
   },
   {
    "duration": 1,
    "start_time": "2024-07-04T02:41:36.954Z"
   },
   {
    "duration": 0,
    "start_time": "2024-07-04T02:41:36.956Z"
   },
   {
    "duration": 0,
    "start_time": "2024-07-04T02:41:36.960Z"
   },
   {
    "duration": 0,
    "start_time": "2024-07-04T02:41:36.962Z"
   },
   {
    "duration": 0,
    "start_time": "2024-07-04T02:41:36.964Z"
   },
   {
    "duration": 3,
    "start_time": "2024-07-04T02:42:15.050Z"
   },
   {
    "duration": 0,
    "start_time": "2024-07-04T02:45:16.643Z"
   },
   {
    "duration": 1471,
    "start_time": "2024-07-04T02:45:36.913Z"
   },
   {
    "duration": 744,
    "start_time": "2024-07-04T02:45:38.388Z"
   },
   {
    "duration": 39,
    "start_time": "2024-07-04T02:45:39.135Z"
   },
   {
    "duration": 434,
    "start_time": "2024-07-04T02:45:39.178Z"
   },
   {
    "duration": 460,
    "start_time": "2024-07-04T02:45:39.617Z"
   },
   {
    "duration": 155,
    "start_time": "2024-07-04T02:45:40.080Z"
   },
   {
    "duration": 146,
    "start_time": "2024-07-04T02:45:40.238Z"
   },
   {
    "duration": 2878,
    "start_time": "2024-07-04T02:45:40.388Z"
   },
   {
    "duration": 147,
    "start_time": "2024-07-04T02:45:43.268Z"
   },
   {
    "duration": 72,
    "start_time": "2024-07-04T02:45:43.418Z"
   },
   {
    "duration": 302,
    "start_time": "2024-07-04T02:45:43.509Z"
   },
   {
    "duration": 1966,
    "start_time": "2024-07-04T02:45:43.814Z"
   },
   {
    "duration": 1940,
    "start_time": "2024-07-04T02:45:45.784Z"
   },
   {
    "duration": 2108,
    "start_time": "2024-07-04T02:45:47.733Z"
   },
   {
    "duration": 572,
    "start_time": "2024-07-04T02:45:49.844Z"
   },
   {
    "duration": 12,
    "start_time": "2024-07-04T02:45:50.420Z"
   },
   {
    "duration": 23,
    "start_time": "2024-07-04T02:45:50.437Z"
   },
   {
    "duration": 152,
    "start_time": "2024-07-04T02:45:50.462Z"
   },
   {
    "duration": 368,
    "start_time": "2024-07-04T02:45:50.616Z"
   },
   {
    "duration": 4,
    "start_time": "2024-07-04T02:45:50.987Z"
   },
   {
    "duration": 19090,
    "start_time": "2024-07-04T02:45:51.009Z"
   },
   {
    "duration": 466,
    "start_time": "2024-07-04T02:46:10.111Z"
   },
   {
    "duration": 6,
    "start_time": "2024-07-04T02:46:10.580Z"
   },
   {
    "duration": 24,
    "start_time": "2024-07-04T02:46:10.590Z"
   },
   {
    "duration": 317,
    "start_time": "2024-07-04T02:46:10.617Z"
   },
   {
    "duration": 7,
    "start_time": "2024-07-04T02:46:10.937Z"
   },
   {
    "duration": 14693,
    "start_time": "2024-07-04T02:46:10.947Z"
   },
   {
    "duration": 236815,
    "start_time": "2024-07-04T02:46:25.643Z"
   },
   {
    "duration": 1468,
    "start_time": "2024-07-04T02:51:53.729Z"
   },
   {
    "duration": 837,
    "start_time": "2024-07-04T02:51:55.201Z"
   },
   {
    "duration": 40,
    "start_time": "2024-07-04T02:51:56.042Z"
   },
   {
    "duration": 530,
    "start_time": "2024-07-04T02:51:56.086Z"
   },
   {
    "duration": 467,
    "start_time": "2024-07-04T02:51:56.619Z"
   },
   {
    "duration": 153,
    "start_time": "2024-07-04T02:51:57.088Z"
   },
   {
    "duration": 166,
    "start_time": "2024-07-04T02:51:57.245Z"
   },
   {
    "duration": 2839,
    "start_time": "2024-07-04T02:51:57.416Z"
   },
   {
    "duration": 147,
    "start_time": "2024-07-04T02:52:00.258Z"
   },
   {
    "duration": 73,
    "start_time": "2024-07-04T02:52:00.412Z"
   },
   {
    "duration": 293,
    "start_time": "2024-07-04T02:52:00.487Z"
   },
   {
    "duration": 1934,
    "start_time": "2024-07-04T02:52:00.785Z"
   },
   {
    "duration": 1986,
    "start_time": "2024-07-04T02:52:02.723Z"
   },
   {
    "duration": 2199,
    "start_time": "2024-07-04T02:52:04.713Z"
   },
   {
    "duration": 583,
    "start_time": "2024-07-04T02:52:06.915Z"
   },
   {
    "duration": 11,
    "start_time": "2024-07-04T02:52:07.508Z"
   },
   {
    "duration": 25,
    "start_time": "2024-07-04T02:52:07.522Z"
   },
   {
    "duration": 152,
    "start_time": "2024-07-04T02:52:07.551Z"
   },
   {
    "duration": 357,
    "start_time": "2024-07-04T02:52:07.708Z"
   },
   {
    "duration": 7,
    "start_time": "2024-07-04T02:52:08.067Z"
   },
   {
    "duration": 4,
    "start_time": "2024-07-04T02:52:08.078Z"
   },
   {
    "duration": 488,
    "start_time": "2024-07-04T02:52:08.085Z"
   },
   {
    "duration": 5,
    "start_time": "2024-07-04T02:52:08.576Z"
   },
   {
    "duration": 26,
    "start_time": "2024-07-04T02:52:08.584Z"
   },
   {
    "duration": 301,
    "start_time": "2024-07-04T02:52:08.613Z"
   },
   {
    "duration": 334,
    "start_time": "2024-07-04T02:52:08.917Z"
   },
   {
    "duration": 0,
    "start_time": "2024-07-04T02:52:09.254Z"
   },
   {
    "duration": 0,
    "start_time": "2024-07-04T02:52:09.256Z"
   },
   {
    "duration": 1,
    "start_time": "2024-07-04T02:52:09.259Z"
   },
   {
    "duration": 0,
    "start_time": "2024-07-04T02:52:09.262Z"
   },
   {
    "duration": 329,
    "start_time": "2024-07-04T02:52:45.499Z"
   },
   {
    "duration": 14805,
    "start_time": "2024-07-04T02:53:02.222Z"
   },
   {
    "duration": 15384,
    "start_time": "2024-07-04T02:53:27.463Z"
   },
   {
    "duration": 237103,
    "start_time": "2024-07-04T02:54:02.455Z"
   },
   {
    "duration": 31026,
    "start_time": "2024-07-04T02:58:25.246Z"
   },
   {
    "duration": 26907,
    "start_time": "2024-07-04T02:59:08.208Z"
   },
   {
    "duration": 243,
    "start_time": "2024-07-04T02:59:43.170Z"
   },
   {
    "duration": 92,
    "start_time": "2024-07-04T03:26:28.298Z"
   },
   {
    "duration": 580,
    "start_time": "2024-07-04T03:26:47.303Z"
   },
   {
    "duration": 721549,
    "start_time": "2024-07-04T03:28:01.518Z"
   },
   {
    "duration": 698,
    "start_time": "2024-07-04T03:40:03.071Z"
   },
   {
    "duration": 0,
    "start_time": "2024-07-04T03:40:03.774Z"
   },
   {
    "duration": 139,
    "start_time": "2024-07-04T03:41:14.032Z"
   },
   {
    "duration": 336,
    "start_time": "2024-07-04T03:42:20.817Z"
   },
   {
    "duration": 1446,
    "start_time": "2024-07-04T03:42:35.121Z"
   },
   {
    "duration": 784,
    "start_time": "2024-07-04T03:42:36.570Z"
   },
   {
    "duration": 54,
    "start_time": "2024-07-04T03:42:37.357Z"
   },
   {
    "duration": 431,
    "start_time": "2024-07-04T03:42:37.417Z"
   },
   {
    "duration": 480,
    "start_time": "2024-07-04T03:42:37.851Z"
   },
   {
    "duration": 147,
    "start_time": "2024-07-04T03:42:38.334Z"
   },
   {
    "duration": 161,
    "start_time": "2024-07-04T03:42:38.485Z"
   },
   {
    "duration": 2788,
    "start_time": "2024-07-04T03:42:38.653Z"
   },
   {
    "duration": 140,
    "start_time": "2024-07-04T03:42:41.444Z"
   },
   {
    "duration": 84,
    "start_time": "2024-07-04T03:42:41.590Z"
   },
   {
    "duration": 279,
    "start_time": "2024-07-04T03:42:41.677Z"
   },
   {
    "duration": 1921,
    "start_time": "2024-07-04T03:42:41.959Z"
   },
   {
    "duration": 2007,
    "start_time": "2024-07-04T03:42:43.883Z"
   },
   {
    "duration": 2156,
    "start_time": "2024-07-04T03:42:45.894Z"
   },
   {
    "duration": 570,
    "start_time": "2024-07-04T03:42:48.055Z"
   },
   {
    "duration": 12,
    "start_time": "2024-07-04T03:42:48.629Z"
   },
   {
    "duration": 27,
    "start_time": "2024-07-04T03:42:48.645Z"
   },
   {
    "duration": 145,
    "start_time": "2024-07-04T03:42:48.675Z"
   },
   {
    "duration": 356,
    "start_time": "2024-07-04T03:42:48.823Z"
   },
   {
    "duration": 7,
    "start_time": "2024-07-04T03:42:49.182Z"
   },
   {
    "duration": 18,
    "start_time": "2024-07-04T03:42:49.192Z"
   },
   {
    "duration": 469,
    "start_time": "2024-07-04T03:42:49.213Z"
   },
   {
    "duration": 5,
    "start_time": "2024-07-04T03:42:49.685Z"
   },
   {
    "duration": 7,
    "start_time": "2024-07-04T03:42:49.708Z"
   },
   {
    "duration": 312,
    "start_time": "2024-07-04T03:42:49.718Z"
   },
   {
    "duration": 98,
    "start_time": "2024-07-04T03:42:50.033Z"
   },
   {
    "duration": 39541,
    "start_time": "2024-07-04T03:42:50.133Z"
   },
   {
    "duration": 14853,
    "start_time": "2024-07-04T03:43:29.682Z"
   },
   {
    "duration": 233472,
    "start_time": "2024-07-04T03:43:44.538Z"
   },
   {
    "duration": 339,
    "start_time": "2024-07-04T04:06:12.625Z"
   },
   {
    "duration": 1441,
    "start_time": "2024-07-04T04:06:27.140Z"
   },
   {
    "duration": 831,
    "start_time": "2024-07-04T04:06:28.584Z"
   },
   {
    "duration": 40,
    "start_time": "2024-07-04T04:06:29.418Z"
   },
   {
    "duration": 458,
    "start_time": "2024-07-04T04:06:29.462Z"
   },
   {
    "duration": 473,
    "start_time": "2024-07-04T04:06:29.924Z"
   },
   {
    "duration": 145,
    "start_time": "2024-07-04T04:06:30.401Z"
   },
   {
    "duration": 161,
    "start_time": "2024-07-04T04:06:30.549Z"
   },
   {
    "duration": 2918,
    "start_time": "2024-07-04T04:06:30.714Z"
   },
   {
    "duration": 136,
    "start_time": "2024-07-04T04:06:33.634Z"
   },
   {
    "duration": 96,
    "start_time": "2024-07-04T04:06:33.777Z"
   },
   {
    "duration": 288,
    "start_time": "2024-07-04T04:06:33.876Z"
   },
   {
    "duration": 2000,
    "start_time": "2024-07-04T04:06:34.167Z"
   },
   {
    "duration": 1966,
    "start_time": "2024-07-04T04:06:36.169Z"
   },
   {
    "duration": 2176,
    "start_time": "2024-07-04T04:06:38.138Z"
   },
   {
    "duration": 582,
    "start_time": "2024-07-04T04:06:40.318Z"
   },
   {
    "duration": 12,
    "start_time": "2024-07-04T04:06:40.903Z"
   },
   {
    "duration": 26,
    "start_time": "2024-07-04T04:06:40.919Z"
   },
   {
    "duration": 146,
    "start_time": "2024-07-04T04:06:40.949Z"
   },
   {
    "duration": 386,
    "start_time": "2024-07-04T04:06:41.098Z"
   },
   {
    "duration": 6,
    "start_time": "2024-07-04T04:06:41.487Z"
   },
   {
    "duration": 5,
    "start_time": "2024-07-04T04:06:41.508Z"
   },
   {
    "duration": 493,
    "start_time": "2024-07-04T04:06:41.517Z"
   },
   {
    "duration": 5,
    "start_time": "2024-07-04T04:06:42.012Z"
   },
   {
    "duration": 7,
    "start_time": "2024-07-04T04:06:42.021Z"
   },
   {
    "duration": 312,
    "start_time": "2024-07-04T04:06:42.031Z"
   },
   {
    "duration": 96,
    "start_time": "2024-07-04T04:06:42.346Z"
   },
   {
    "duration": 15098,
    "start_time": "2024-07-04T04:06:42.445Z"
   },
   {
    "duration": 473457,
    "start_time": "2024-07-04T04:07:05.180Z"
   },
   {
    "duration": 8,
    "start_time": "2024-07-04T04:20:40.071Z"
   },
   {
    "duration": 8,
    "start_time": "2024-07-04T04:21:12.780Z"
   },
   {
    "duration": 521,
    "start_time": "2024-07-04T04:21:13.288Z"
   },
   {
    "duration": 79,
    "start_time": "2024-07-04T04:22:05.544Z"
   },
   {
    "duration": 7,
    "start_time": "2024-07-04T04:24:12.224Z"
   },
   {
    "duration": 1520,
    "start_time": "2024-07-04T04:24:34.467Z"
   },
   {
    "duration": 826,
    "start_time": "2024-07-04T04:24:35.993Z"
   },
   {
    "duration": 37,
    "start_time": "2024-07-04T04:24:36.822Z"
   },
   {
    "duration": 436,
    "start_time": "2024-07-04T04:24:36.862Z"
   },
   {
    "duration": 488,
    "start_time": "2024-07-04T04:24:37.308Z"
   },
   {
    "duration": 164,
    "start_time": "2024-07-04T04:24:37.799Z"
   },
   {
    "duration": 152,
    "start_time": "2024-07-04T04:24:37.966Z"
   },
   {
    "duration": 3007,
    "start_time": "2024-07-04T04:24:38.123Z"
   },
   {
    "duration": 144,
    "start_time": "2024-07-04T04:24:41.134Z"
   },
   {
    "duration": 85,
    "start_time": "2024-07-04T04:24:41.281Z"
   },
   {
    "duration": 344,
    "start_time": "2024-07-04T04:24:41.370Z"
   },
   {
    "duration": 2044,
    "start_time": "2024-07-04T04:24:41.720Z"
   },
   {
    "duration": 2048,
    "start_time": "2024-07-04T04:24:43.766Z"
   },
   {
    "duration": 2136,
    "start_time": "2024-07-04T04:24:45.821Z"
   },
   {
    "duration": 596,
    "start_time": "2024-07-04T04:24:47.960Z"
   },
   {
    "duration": 12,
    "start_time": "2024-07-04T04:24:48.559Z"
   },
   {
    "duration": 45,
    "start_time": "2024-07-04T04:24:48.574Z"
   },
   {
    "duration": 119,
    "start_time": "2024-07-04T04:24:48.622Z"
   },
   {
    "duration": 363,
    "start_time": "2024-07-04T04:24:48.743Z"
   },
   {
    "duration": 7,
    "start_time": "2024-07-04T04:24:49.110Z"
   },
   {
    "duration": 4,
    "start_time": "2024-07-04T04:24:49.120Z"
   },
   {
    "duration": 478,
    "start_time": "2024-07-04T04:24:49.128Z"
   },
   {
    "duration": 5,
    "start_time": "2024-07-04T04:24:49.612Z"
   },
   {
    "duration": 8,
    "start_time": "2024-07-04T04:24:49.621Z"
   },
   {
    "duration": 330,
    "start_time": "2024-07-04T04:24:49.633Z"
   },
   {
    "duration": 107,
    "start_time": "2024-07-04T04:24:49.966Z"
   },
   {
    "duration": 15035,
    "start_time": "2024-07-04T04:24:50.076Z"
   },
   {
    "duration": 262294,
    "start_time": "2024-07-04T04:25:05.114Z"
   },
   {
    "duration": 20,
    "start_time": "2024-07-04T04:29:27.413Z"
   },
   {
    "duration": 1,
    "start_time": "2024-07-04T04:29:27.440Z"
   },
   {
    "duration": 0,
    "start_time": "2024-07-04T04:29:27.442Z"
   },
   {
    "duration": 39404,
    "start_time": "2024-07-04T04:31:39.278Z"
   },
   {
    "duration": 360606,
    "start_time": "2024-07-04T04:36:09.704Z"
   },
   {
    "duration": 528925,
    "start_time": "2024-07-04T04:42:17.104Z"
   },
   {
    "duration": 8,
    "start_time": "2024-07-04T04:53:09.729Z"
   },
   {
    "duration": 30,
    "start_time": "2024-07-04T04:54:12.339Z"
   },
   {
    "duration": 5,
    "start_time": "2024-07-04T04:55:05.436Z"
   },
   {
    "duration": 4878,
    "start_time": "2024-07-04T04:55:16.551Z"
   },
   {
    "duration": 341791,
    "start_time": "2024-07-04T04:55:28.351Z"
   },
   {
    "duration": 1461,
    "start_time": "2024-07-04T05:42:26.260Z"
   },
   {
    "duration": 737,
    "start_time": "2024-07-04T05:42:27.724Z"
   },
   {
    "duration": 49,
    "start_time": "2024-07-04T05:42:28.464Z"
   },
   {
    "duration": 430,
    "start_time": "2024-07-04T05:42:28.519Z"
   },
   {
    "duration": 479,
    "start_time": "2024-07-04T05:42:28.952Z"
   },
   {
    "duration": 150,
    "start_time": "2024-07-04T05:42:29.434Z"
   },
   {
    "duration": 155,
    "start_time": "2024-07-04T05:42:29.587Z"
   },
   {
    "duration": 2773,
    "start_time": "2024-07-04T05:42:29.745Z"
   },
   {
    "duration": 137,
    "start_time": "2024-07-04T05:42:32.521Z"
   },
   {
    "duration": 87,
    "start_time": "2024-07-04T05:42:32.664Z"
   },
   {
    "duration": 287,
    "start_time": "2024-07-04T05:42:32.754Z"
   },
   {
    "duration": 1938,
    "start_time": "2024-07-04T05:42:33.044Z"
   },
   {
    "duration": 1986,
    "start_time": "2024-07-04T05:42:34.986Z"
   },
   {
    "duration": 2139,
    "start_time": "2024-07-04T05:42:36.974Z"
   },
   {
    "duration": 573,
    "start_time": "2024-07-04T05:42:39.116Z"
   },
   {
    "duration": 20,
    "start_time": "2024-07-04T05:42:39.692Z"
   },
   {
    "duration": 28,
    "start_time": "2024-07-04T05:42:39.716Z"
   },
   {
    "duration": 129,
    "start_time": "2024-07-04T05:42:39.747Z"
   },
   {
    "duration": 354,
    "start_time": "2024-07-04T05:42:39.879Z"
   },
   {
    "duration": 4,
    "start_time": "2024-07-04T05:42:40.236Z"
   },
   {
    "duration": 478,
    "start_time": "2024-07-04T05:42:40.243Z"
   },
   {
    "duration": 8,
    "start_time": "2024-07-04T05:42:40.723Z"
   },
   {
    "duration": 5,
    "start_time": "2024-07-04T05:42:40.734Z"
   },
   {
    "duration": 8,
    "start_time": "2024-07-04T05:42:40.742Z"
   },
   {
    "duration": 325,
    "start_time": "2024-07-04T05:42:40.753Z"
   },
   {
    "duration": 14528,
    "start_time": "2024-07-04T05:42:41.081Z"
   },
   {
    "duration": 499894,
    "start_time": "2024-07-04T05:42:55.613Z"
   },
   {
    "duration": 258621,
    "start_time": "2024-07-04T05:51:15.516Z"
   },
   {
    "duration": 38353,
    "start_time": "2024-07-04T05:55:34.140Z"
   },
   {
    "duration": 5323,
    "start_time": "2024-07-04T05:56:12.495Z"
   },
   {
    "duration": 196718,
    "start_time": "2024-07-04T05:56:17.821Z"
   },
   {
    "duration": 14,
    "start_time": "2024-07-04T10:36:39.134Z"
   },
   {
    "duration": 7,
    "start_time": "2024-07-04T11:01:11.631Z"
   },
   {
    "duration": 310,
    "start_time": "2024-07-04T17:08:00.181Z"
   },
   {
    "duration": 1586,
    "start_time": "2024-07-04T17:08:04.945Z"
   },
   {
    "duration": 777,
    "start_time": "2024-07-04T17:08:06.534Z"
   },
   {
    "duration": 42,
    "start_time": "2024-07-04T17:08:07.314Z"
   },
   {
    "duration": 414,
    "start_time": "2024-07-04T17:08:07.362Z"
   },
   {
    "duration": 482,
    "start_time": "2024-07-04T17:08:07.780Z"
   },
   {
    "duration": 150,
    "start_time": "2024-07-04T17:08:08.266Z"
   },
   {
    "duration": 150,
    "start_time": "2024-07-04T17:08:08.418Z"
   },
   {
    "duration": 2803,
    "start_time": "2024-07-04T17:08:08.571Z"
   },
   {
    "duration": 139,
    "start_time": "2024-07-04T17:08:11.376Z"
   },
   {
    "duration": 81,
    "start_time": "2024-07-04T17:08:11.518Z"
   },
   {
    "duration": 101,
    "start_time": "2024-07-04T17:08:11.602Z"
   },
   {
    "duration": 113,
    "start_time": "2024-07-04T17:09:09.918Z"
   },
   {
    "duration": 73,
    "start_time": "2024-07-04T17:09:10.579Z"
   },
   {
    "duration": 96,
    "start_time": "2024-07-04T17:09:11.965Z"
   },
   {
    "duration": 5,
    "start_time": "2024-07-04T17:09:16.009Z"
   },
   {
    "duration": 705,
    "start_time": "2024-07-04T17:09:16.021Z"
   },
   {
    "duration": 32,
    "start_time": "2024-07-04T17:09:16.730Z"
   },
   {
    "duration": 395,
    "start_time": "2024-07-04T17:09:16.766Z"
   },
   {
    "duration": 445,
    "start_time": "2024-07-04T17:09:17.165Z"
   },
   {
    "duration": 154,
    "start_time": "2024-07-04T17:09:17.613Z"
   },
   {
    "duration": 221,
    "start_time": "2024-07-04T17:09:17.770Z"
   },
   {
    "duration": 2784,
    "start_time": "2024-07-04T17:09:17.994Z"
   },
   {
    "duration": 181,
    "start_time": "2024-07-04T17:09:20.781Z"
   },
   {
    "duration": 101,
    "start_time": "2024-07-04T17:09:20.964Z"
   },
   {
    "duration": 127,
    "start_time": "2024-07-04T17:09:21.070Z"
   },
   {
    "duration": 105,
    "start_time": "2024-07-04T17:09:37.962Z"
   },
   {
    "duration": 3847,
    "start_time": "2024-07-04T17:09:38.825Z"
   },
   {
    "duration": 2785,
    "start_time": "2024-07-04T17:09:42.676Z"
   },
   {
    "duration": 2604,
    "start_time": "2024-07-04T17:09:49.826Z"
   },
   {
    "duration": 2695,
    "start_time": "2024-07-04T17:10:02.174Z"
   },
   {
    "duration": 637,
    "start_time": "2024-07-04T17:10:09.729Z"
   },
   {
    "duration": 5,
    "start_time": "2024-07-04T17:16:52.792Z"
   },
   {
    "duration": 7,
    "start_time": "2024-07-04T17:17:25.724Z"
   },
   {
    "duration": 32,
    "start_time": "2024-07-04T17:19:31.084Z"
   },
   {
    "duration": 159,
    "start_time": "2024-07-04T17:19:33.545Z"
   },
   {
    "duration": 502,
    "start_time": "2024-07-04T17:19:38.384Z"
   },
   {
    "duration": 525,
    "start_time": "2024-07-04T17:19:52.439Z"
   },
   {
    "duration": 4,
    "start_time": "2024-07-04T17:20:01.930Z"
   },
   {
    "duration": 143,
    "start_time": "2024-07-04T17:26:45.556Z"
   },
   {
    "duration": 5,
    "start_time": "2024-07-04T17:27:25.579Z"
   },
   {
    "duration": 793,
    "start_time": "2024-07-04T17:27:35.005Z"
   },
   {
    "duration": 11,
    "start_time": "2024-07-04T17:29:01.600Z"
   },
   {
    "duration": 5,
    "start_time": "2024-07-04T17:29:29.242Z"
   },
   {
    "duration": 114,
    "start_time": "2024-07-04T17:29:47.079Z"
   },
   {
    "duration": 7,
    "start_time": "2024-07-04T17:30:25.930Z"
   },
   {
    "duration": 29,
    "start_time": "2024-07-04T17:30:48.891Z"
   },
   {
    "duration": 162,
    "start_time": "2024-07-04T17:31:24.776Z"
   },
   {
    "duration": 11104,
    "start_time": "2024-07-04T17:32:44.228Z"
   },
   {
    "duration": 11137,
    "start_time": "2024-07-04T17:47:05.004Z"
   },
   {
    "duration": 10994,
    "start_time": "2024-07-04T17:54:37.239Z"
   },
   {
    "duration": 31,
    "start_time": "2024-07-04T17:56:27.736Z"
   },
   {
    "duration": 31,
    "start_time": "2024-07-04T17:56:37.947Z"
   },
   {
    "duration": 30,
    "start_time": "2024-07-04T17:58:08.837Z"
   },
   {
    "duration": 207,
    "start_time": "2024-07-04T17:58:48.209Z"
   },
   {
    "duration": 32,
    "start_time": "2024-07-04T18:05:04.711Z"
   },
   {
    "duration": 638,
    "start_time": "2024-07-04T18:05:28.042Z"
   },
   {
    "duration": 29,
    "start_time": "2024-07-04T18:15:50.513Z"
   },
   {
    "duration": 91261,
    "start_time": "2024-07-04T18:16:15.159Z"
   },
   {
    "duration": 37,
    "start_time": "2024-07-04T18:19:18.418Z"
   },
   {
    "duration": 42604,
    "start_time": "2024-07-04T18:19:44.601Z"
   },
   {
    "duration": 37,
    "start_time": "2024-07-04T18:21:41.505Z"
   },
   {
    "duration": 3013,
    "start_time": "2024-07-04T18:22:28.527Z"
   },
   {
    "duration": 31,
    "start_time": "2024-07-04T18:23:25.087Z"
   },
   {
    "duration": 15018,
    "start_time": "2024-07-04T18:23:44.724Z"
   },
   {
    "duration": 15120,
    "start_time": "2024-07-04T18:24:18.424Z"
   },
   {
    "duration": 640,
    "start_time": "2024-07-04T18:27:58.759Z"
   },
   {
    "duration": 14,
    "start_time": "2024-07-04T19:20:42.268Z"
   },
   {
    "duration": 5,
    "start_time": "2024-07-04T19:24:49.012Z"
   },
   {
    "duration": 311,
    "start_time": "2024-07-04T20:04:39.331Z"
   },
   {
    "duration": 1406,
    "start_time": "2024-07-04T20:04:49.582Z"
   },
   {
    "duration": 786,
    "start_time": "2024-07-04T20:04:50.991Z"
   },
   {
    "duration": 53,
    "start_time": "2024-07-04T20:04:51.781Z"
   },
   {
    "duration": 416,
    "start_time": "2024-07-04T20:04:51.838Z"
   },
   {
    "duration": 475,
    "start_time": "2024-07-04T20:04:52.256Z"
   },
   {
    "duration": 154,
    "start_time": "2024-07-04T20:04:52.734Z"
   },
   {
    "duration": 152,
    "start_time": "2024-07-04T20:04:52.891Z"
   },
   {
    "duration": 2865,
    "start_time": "2024-07-04T20:04:53.046Z"
   },
   {
    "duration": 182,
    "start_time": "2024-07-04T20:04:55.917Z"
   },
   {
    "duration": 107,
    "start_time": "2024-07-04T20:04:56.105Z"
   },
   {
    "duration": 130,
    "start_time": "2024-07-04T20:04:56.215Z"
   },
   {
    "duration": 3884,
    "start_time": "2024-07-04T20:04:56.348Z"
   },
   {
    "duration": 2757,
    "start_time": "2024-07-04T20:05:00.235Z"
   },
   {
    "duration": 2597,
    "start_time": "2024-07-04T20:05:02.996Z"
   },
   {
    "duration": 2672,
    "start_time": "2024-07-04T20:05:05.596Z"
   },
   {
    "duration": 648,
    "start_time": "2024-07-04T20:05:08.271Z"
   },
   {
    "duration": 474,
    "start_time": "2024-07-04T20:05:10.399Z"
   },
   {
    "duration": 3,
    "start_time": "2024-07-04T23:10:20.661Z"
   },
   {
    "duration": 160,
    "start_time": "2024-07-04T23:10:56.308Z"
   },
   {
    "duration": 27,
    "start_time": "2024-07-04T23:11:53.307Z"
   },
   {
    "duration": 1457,
    "start_time": "2024-07-04T23:12:39.003Z"
   },
   {
    "duration": 715,
    "start_time": "2024-07-04T23:12:40.464Z"
   },
   {
    "duration": 50,
    "start_time": "2024-07-04T23:12:41.182Z"
   },
   {
    "duration": 408,
    "start_time": "2024-07-04T23:12:41.239Z"
   },
   {
    "duration": 486,
    "start_time": "2024-07-04T23:12:41.650Z"
   },
   {
    "duration": 152,
    "start_time": "2024-07-04T23:12:42.140Z"
   },
   {
    "duration": 165,
    "start_time": "2024-07-04T23:12:42.297Z"
   },
   {
    "duration": 2836,
    "start_time": "2024-07-04T23:12:42.475Z"
   },
   {
    "duration": 186,
    "start_time": "2024-07-04T23:12:45.316Z"
   },
   {
    "duration": 109,
    "start_time": "2024-07-04T23:12:45.508Z"
   },
   {
    "duration": 145,
    "start_time": "2024-07-04T23:12:45.621Z"
   },
   {
    "duration": 326,
    "start_time": "2024-07-04T23:12:45.769Z"
   },
   {
    "duration": 2651,
    "start_time": "2024-07-04T23:12:46.098Z"
   },
   {
    "duration": 2654,
    "start_time": "2024-07-04T23:12:48.752Z"
   },
   {
    "duration": 2528,
    "start_time": "2024-07-04T23:12:51.409Z"
   },
   {
    "duration": 651,
    "start_time": "2024-07-04T23:12:53.940Z"
   },
   {
    "duration": 6,
    "start_time": "2024-07-04T23:12:54.594Z"
   },
   {
    "duration": 42,
    "start_time": "2024-07-04T23:12:54.603Z"
   },
   {
    "duration": 168,
    "start_time": "2024-07-04T23:12:54.648Z"
   },
   {
    "duration": 496,
    "start_time": "2024-07-04T23:12:54.819Z"
   },
   {
    "duration": 13,
    "start_time": "2024-07-04T23:12:55.318Z"
   },
   {
    "duration": 829,
    "start_time": "2024-07-04T23:12:55.334Z"
   },
   {
    "duration": 4,
    "start_time": "2024-07-04T23:12:56.166Z"
   },
   {
    "duration": 1084,
    "start_time": "2024-07-04T23:12:56.173Z"
   },
   {
    "duration": 2011,
    "start_time": "2024-07-04T23:15:22.812Z"
   },
   {
    "duration": 6,
    "start_time": "2024-07-04T23:22:23.428Z"
   },
   {
    "duration": 703,
    "start_time": "2024-07-04T23:22:23.438Z"
   },
   {
    "duration": 30,
    "start_time": "2024-07-04T23:22:24.144Z"
   },
   {
    "duration": 392,
    "start_time": "2024-07-04T23:22:24.178Z"
   },
   {
    "duration": 414,
    "start_time": "2024-07-04T23:22:24.573Z"
   },
   {
    "duration": 154,
    "start_time": "2024-07-04T23:22:24.990Z"
   },
   {
    "duration": 146,
    "start_time": "2024-07-04T23:22:25.147Z"
   },
   {
    "duration": 2900,
    "start_time": "2024-07-04T23:22:25.296Z"
   },
   {
    "duration": 175,
    "start_time": "2024-07-04T23:22:28.199Z"
   },
   {
    "duration": 104,
    "start_time": "2024-07-04T23:22:28.379Z"
   },
   {
    "duration": 230,
    "start_time": "2024-07-04T23:22:28.485Z"
   },
   {
    "duration": 3,
    "start_time": "2024-07-04T23:22:28.730Z"
   },
   {
    "duration": 2555,
    "start_time": "2024-07-04T23:22:28.737Z"
   },
   {
    "duration": 2585,
    "start_time": "2024-07-04T23:22:31.295Z"
   },
   {
    "duration": 2554,
    "start_time": "2024-07-04T23:22:33.883Z"
   },
   {
    "duration": 630,
    "start_time": "2024-07-04T23:22:36.440Z"
   },
   {
    "duration": 2014,
    "start_time": "2024-07-04T23:22:37.073Z"
   },
   {
    "duration": 7,
    "start_time": "2024-07-04T23:22:39.090Z"
   },
   {
    "duration": 31,
    "start_time": "2024-07-04T23:22:42.578Z"
   },
   {
    "duration": 148,
    "start_time": "2024-07-04T23:22:45.194Z"
   },
   {
    "duration": 515,
    "start_time": "2024-07-04T23:22:45.825Z"
   },
   {
    "duration": 4,
    "start_time": "2024-07-04T23:22:46.344Z"
   },
   {
    "duration": 817,
    "start_time": "2024-07-04T23:22:47.818Z"
   },
   {
    "duration": 3,
    "start_time": "2024-07-04T23:22:48.639Z"
   },
   {
    "duration": 52,
    "start_time": "2024-07-04T23:22:49.781Z"
   },
   {
    "duration": 807,
    "start_time": "2024-07-04T23:23:25.005Z"
   },
   {
    "duration": 3,
    "start_time": "2024-07-04T23:23:26.794Z"
   },
   {
    "duration": 103,
    "start_time": "2024-07-04T23:23:27.198Z"
   },
   {
    "duration": 6,
    "start_time": "2024-07-04T23:23:39.141Z"
   },
   {
    "duration": 746,
    "start_time": "2024-07-04T23:23:39.151Z"
   },
   {
    "duration": 51,
    "start_time": "2024-07-04T23:23:39.901Z"
   },
   {
    "duration": 445,
    "start_time": "2024-07-04T23:23:39.959Z"
   },
   {
    "duration": 445,
    "start_time": "2024-07-04T23:23:40.410Z"
   },
   {
    "duration": 179,
    "start_time": "2024-07-04T23:23:40.858Z"
   },
   {
    "duration": 200,
    "start_time": "2024-07-04T23:23:41.041Z"
   },
   {
    "duration": 3019,
    "start_time": "2024-07-04T23:23:41.248Z"
   },
   {
    "duration": 191,
    "start_time": "2024-07-04T23:23:44.269Z"
   },
   {
    "duration": 148,
    "start_time": "2024-07-04T23:23:44.466Z"
   },
   {
    "duration": 120,
    "start_time": "2024-07-04T23:23:44.620Z"
   },
   {
    "duration": 4,
    "start_time": "2024-07-04T23:23:44.743Z"
   },
   {
    "duration": 2643,
    "start_time": "2024-07-04T23:23:44.750Z"
   },
   {
    "duration": 2573,
    "start_time": "2024-07-04T23:23:47.398Z"
   },
   {
    "duration": 2646,
    "start_time": "2024-07-04T23:23:49.975Z"
   },
   {
    "duration": 643,
    "start_time": "2024-07-04T23:23:52.630Z"
   },
   {
    "duration": 2127,
    "start_time": "2024-07-04T23:23:53.277Z"
   },
   {
    "duration": 23,
    "start_time": "2024-07-04T23:23:55.407Z"
   },
   {
    "duration": 25,
    "start_time": "2024-07-04T23:23:55.437Z"
   },
   {
    "duration": 166,
    "start_time": "2024-07-04T23:23:55.465Z"
   },
   {
    "duration": 505,
    "start_time": "2024-07-04T23:23:55.634Z"
   },
   {
    "duration": 4,
    "start_time": "2024-07-04T23:23:56.142Z"
   },
   {
    "duration": 833,
    "start_time": "2024-07-04T23:23:56.149Z"
   },
   {
    "duration": 4,
    "start_time": "2024-07-04T23:23:56.985Z"
   },
   {
    "duration": 69,
    "start_time": "2024-07-04T23:23:58.356Z"
   },
   {
    "duration": 58,
    "start_time": "2024-07-04T23:29:33.794Z"
   },
   {
    "duration": 6,
    "start_time": "2024-07-04T23:31:56.109Z"
   },
   {
    "duration": 55,
    "start_time": "2024-07-04T23:33:09.544Z"
   },
   {
    "duration": 820,
    "start_time": "2024-07-04T23:35:39.219Z"
   },
   {
    "duration": 1423,
    "start_time": "2024-07-04T23:35:59.648Z"
   },
   {
    "duration": 747,
    "start_time": "2024-07-04T23:36:01.074Z"
   },
   {
    "duration": 44,
    "start_time": "2024-07-04T23:36:01.823Z"
   },
   {
    "duration": 454,
    "start_time": "2024-07-04T23:36:01.871Z"
   },
   {
    "duration": 490,
    "start_time": "2024-07-04T23:36:02.332Z"
   },
   {
    "duration": 154,
    "start_time": "2024-07-04T23:36:02.825Z"
   },
   {
    "duration": 152,
    "start_time": "2024-07-04T23:36:02.982Z"
   },
   {
    "duration": 2828,
    "start_time": "2024-07-04T23:36:03.139Z"
   },
   {
    "duration": 176,
    "start_time": "2024-07-04T23:36:05.970Z"
   },
   {
    "duration": 100,
    "start_time": "2024-07-04T23:36:06.152Z"
   },
   {
    "duration": 126,
    "start_time": "2024-07-04T23:36:06.256Z"
   },
   {
    "duration": 278,
    "start_time": "2024-07-04T23:36:06.385Z"
   },
   {
    "duration": 2645,
    "start_time": "2024-07-04T23:36:06.667Z"
   },
   {
    "duration": 2601,
    "start_time": "2024-07-04T23:36:09.315Z"
   },
   {
    "duration": 2553,
    "start_time": "2024-07-04T23:36:11.919Z"
   },
   {
    "duration": 637,
    "start_time": "2024-07-04T23:36:14.475Z"
   },
   {
    "duration": 2028,
    "start_time": "2024-07-04T23:36:15.115Z"
   },
   {
    "duration": 7,
    "start_time": "2024-07-04T23:36:17.146Z"
   },
   {
    "duration": 32,
    "start_time": "2024-07-04T23:36:17.156Z"
   },
   {
    "duration": 163,
    "start_time": "2024-07-04T23:36:17.191Z"
   },
   {
    "duration": 507,
    "start_time": "2024-07-04T23:36:17.357Z"
   },
   {
    "duration": 4,
    "start_time": "2024-07-04T23:36:17.866Z"
   },
   {
    "duration": 828,
    "start_time": "2024-07-04T23:36:17.873Z"
   },
   {
    "duration": 4,
    "start_time": "2024-07-04T23:37:32.370Z"
   },
   {
    "duration": 546,
    "start_time": "2024-07-04T23:37:33.026Z"
   },
   {
    "duration": 1304,
    "start_time": "2024-07-04T23:38:35.517Z"
   },
   {
    "duration": 3,
    "start_time": "2024-07-04T23:38:37.552Z"
   },
   {
    "duration": 1418,
    "start_time": "2024-07-04T23:38:55.893Z"
   },
   {
    "duration": 789,
    "start_time": "2024-07-04T23:38:57.315Z"
   },
   {
    "duration": 46,
    "start_time": "2024-07-04T23:38:58.108Z"
   },
   {
    "duration": 412,
    "start_time": "2024-07-04T23:38:58.158Z"
   },
   {
    "duration": 469,
    "start_time": "2024-07-04T23:38:58.574Z"
   },
   {
    "duration": 145,
    "start_time": "2024-07-04T23:38:59.047Z"
   },
   {
    "duration": 150,
    "start_time": "2024-07-04T23:38:59.195Z"
   },
   {
    "duration": 2848,
    "start_time": "2024-07-04T23:38:59.348Z"
   },
   {
    "duration": 183,
    "start_time": "2024-07-04T23:39:02.199Z"
   },
   {
    "duration": 103,
    "start_time": "2024-07-04T23:39:02.389Z"
   },
   {
    "duration": 132,
    "start_time": "2024-07-04T23:39:02.495Z"
   },
   {
    "duration": 284,
    "start_time": "2024-07-04T23:39:02.631Z"
   },
   {
    "duration": 2699,
    "start_time": "2024-07-04T23:39:02.918Z"
   },
   {
    "duration": 2588,
    "start_time": "2024-07-04T23:39:05.620Z"
   },
   {
    "duration": 2535,
    "start_time": "2024-07-04T23:39:08.211Z"
   },
   {
    "duration": 636,
    "start_time": "2024-07-04T23:39:10.748Z"
   },
   {
    "duration": 2044,
    "start_time": "2024-07-04T23:39:11.387Z"
   },
   {
    "duration": 7,
    "start_time": "2024-07-04T23:39:13.434Z"
   },
   {
    "duration": 31,
    "start_time": "2024-07-04T23:39:13.444Z"
   },
   {
    "duration": 180,
    "start_time": "2024-07-04T23:39:13.478Z"
   },
   {
    "duration": 511,
    "start_time": "2024-07-04T23:39:13.660Z"
   },
   {
    "duration": 4,
    "start_time": "2024-07-04T23:39:14.174Z"
   },
   {
    "duration": 1305,
    "start_time": "2024-07-04T23:39:14.181Z"
   },
   {
    "duration": 3,
    "start_time": "2024-07-04T23:39:15.488Z"
   },
   {
    "duration": 1525,
    "start_time": "2024-07-04T23:39:51.539Z"
   },
   {
    "duration": 780,
    "start_time": "2024-07-04T23:39:53.069Z"
   },
   {
    "duration": 40,
    "start_time": "2024-07-04T23:39:53.852Z"
   },
   {
    "duration": 412,
    "start_time": "2024-07-04T23:39:53.897Z"
   },
   {
    "duration": 461,
    "start_time": "2024-07-04T23:39:54.312Z"
   },
   {
    "duration": 156,
    "start_time": "2024-07-04T23:39:54.775Z"
   },
   {
    "duration": 147,
    "start_time": "2024-07-04T23:39:54.934Z"
   },
   {
    "duration": 2851,
    "start_time": "2024-07-04T23:39:55.084Z"
   },
   {
    "duration": 179,
    "start_time": "2024-07-04T23:39:57.938Z"
   },
   {
    "duration": 112,
    "start_time": "2024-07-04T23:39:58.122Z"
   },
   {
    "duration": 126,
    "start_time": "2024-07-04T23:39:58.237Z"
   },
   {
    "duration": 277,
    "start_time": "2024-07-04T23:39:58.366Z"
   },
   {
    "duration": 2623,
    "start_time": "2024-07-04T23:39:58.646Z"
   },
   {
    "duration": 2649,
    "start_time": "2024-07-04T23:40:01.272Z"
   },
   {
    "duration": 2599,
    "start_time": "2024-07-04T23:40:03.931Z"
   },
   {
    "duration": 639,
    "start_time": "2024-07-04T23:40:06.533Z"
   },
   {
    "duration": 2048,
    "start_time": "2024-07-04T23:40:07.175Z"
   },
   {
    "duration": 7,
    "start_time": "2024-07-04T23:40:09.226Z"
   },
   {
    "duration": 31,
    "start_time": "2024-07-04T23:40:09.236Z"
   },
   {
    "duration": 171,
    "start_time": "2024-07-04T23:40:09.270Z"
   },
   {
    "duration": 502,
    "start_time": "2024-07-04T23:40:09.444Z"
   },
   {
    "duration": 4,
    "start_time": "2024-07-04T23:40:09.949Z"
   },
   {
    "duration": 1322,
    "start_time": "2024-07-04T23:40:09.956Z"
   },
   {
    "duration": 3,
    "start_time": "2024-07-04T23:40:11.283Z"
   },
   {
    "duration": 31,
    "start_time": "2024-07-04T23:41:06.238Z"
   },
   {
    "duration": 11,
    "start_time": "2024-07-04T23:41:41.623Z"
   },
   {
    "duration": 325,
    "start_time": "2024-07-04T23:41:54.978Z"
   },
   {
    "duration": 312,
    "start_time": "2024-07-04T23:42:19.047Z"
   },
   {
    "duration": 331,
    "start_time": "2024-07-04T23:42:51.669Z"
   },
   {
    "duration": 1436,
    "start_time": "2024-07-04T23:43:00.189Z"
   },
   {
    "duration": 856,
    "start_time": "2024-07-04T23:43:01.629Z"
   },
   {
    "duration": 50,
    "start_time": "2024-07-04T23:43:02.487Z"
   },
   {
    "duration": 408,
    "start_time": "2024-07-04T23:43:02.544Z"
   },
   {
    "duration": 496,
    "start_time": "2024-07-04T23:43:02.955Z"
   },
   {
    "duration": 148,
    "start_time": "2024-07-04T23:43:03.455Z"
   },
   {
    "duration": 154,
    "start_time": "2024-07-04T23:43:03.606Z"
   },
   {
    "duration": 2860,
    "start_time": "2024-07-04T23:43:03.762Z"
   },
   {
    "duration": 181,
    "start_time": "2024-07-04T23:43:06.630Z"
   },
   {
    "duration": 123,
    "start_time": "2024-07-04T23:43:06.816Z"
   },
   {
    "duration": 121,
    "start_time": "2024-07-04T23:43:06.943Z"
   },
   {
    "duration": 282,
    "start_time": "2024-07-04T23:43:07.066Z"
   },
   {
    "duration": 2632,
    "start_time": "2024-07-04T23:43:07.352Z"
   },
   {
    "duration": 2647,
    "start_time": "2024-07-04T23:43:09.987Z"
   },
   {
    "duration": 2501,
    "start_time": "2024-07-04T23:43:12.640Z"
   },
   {
    "duration": 661,
    "start_time": "2024-07-04T23:43:15.144Z"
   },
   {
    "duration": 2043,
    "start_time": "2024-07-04T23:43:15.808Z"
   },
   {
    "duration": 6,
    "start_time": "2024-07-04T23:43:17.854Z"
   },
   {
    "duration": 32,
    "start_time": "2024-07-04T23:43:17.863Z"
   },
   {
    "duration": 164,
    "start_time": "2024-07-04T23:43:17.899Z"
   },
   {
    "duration": 496,
    "start_time": "2024-07-04T23:43:18.066Z"
   },
   {
    "duration": 4,
    "start_time": "2024-07-04T23:43:18.566Z"
   },
   {
    "duration": 1300,
    "start_time": "2024-07-04T23:43:18.574Z"
   },
   {
    "duration": 3,
    "start_time": "2024-07-04T23:43:19.877Z"
   },
   {
    "duration": 49,
    "start_time": "2024-07-04T23:43:19.884Z"
   },
   {
    "duration": 11,
    "start_time": "2024-07-04T23:43:19.936Z"
   },
   {
    "duration": 1452,
    "start_time": "2024-07-04T23:55:13.360Z"
   },
   {
    "duration": 786,
    "start_time": "2024-07-04T23:55:14.816Z"
   },
   {
    "duration": 49,
    "start_time": "2024-07-04T23:55:15.604Z"
   },
   {
    "duration": 402,
    "start_time": "2024-07-04T23:55:15.655Z"
   },
   {
    "duration": 476,
    "start_time": "2024-07-04T23:55:16.062Z"
   },
   {
    "duration": 151,
    "start_time": "2024-07-04T23:55:16.541Z"
   },
   {
    "duration": 148,
    "start_time": "2024-07-04T23:55:16.694Z"
   },
   {
    "duration": 2786,
    "start_time": "2024-07-04T23:55:16.844Z"
   },
   {
    "duration": 180,
    "start_time": "2024-07-04T23:55:19.633Z"
   },
   {
    "duration": 106,
    "start_time": "2024-07-04T23:55:19.817Z"
   },
   {
    "duration": 121,
    "start_time": "2024-07-04T23:55:19.931Z"
   },
   {
    "duration": 268,
    "start_time": "2024-07-04T23:55:20.055Z"
   },
   {
    "duration": 2692,
    "start_time": "2024-07-04T23:55:20.326Z"
   },
   {
    "duration": 2635,
    "start_time": "2024-07-04T23:55:23.030Z"
   },
   {
    "duration": 2569,
    "start_time": "2024-07-04T23:55:25.668Z"
   },
   {
    "duration": 646,
    "start_time": "2024-07-04T23:55:28.240Z"
   },
   {
    "duration": 2021,
    "start_time": "2024-07-04T23:55:28.890Z"
   },
   {
    "duration": 6,
    "start_time": "2024-07-04T23:55:30.915Z"
   },
   {
    "duration": 35,
    "start_time": "2024-07-04T23:55:30.925Z"
   },
   {
    "duration": 167,
    "start_time": "2024-07-04T23:55:30.964Z"
   },
   {
    "duration": 502,
    "start_time": "2024-07-04T23:55:31.134Z"
   },
   {
    "duration": 4,
    "start_time": "2024-07-04T23:55:31.639Z"
   },
   {
    "duration": 5,
    "start_time": "2024-07-04T23:55:31.646Z"
   },
   {
    "duration": 1825,
    "start_time": "2024-07-04T23:55:36.297Z"
   },
   {
    "duration": 1408,
    "start_time": "2024-07-05T00:04:09.541Z"
   },
   {
    "duration": 328,
    "start_time": "2024-07-05T01:20:42.554Z"
   },
   {
    "duration": 1424,
    "start_time": "2024-07-05T01:21:05.885Z"
   },
   {
    "duration": 727,
    "start_time": "2024-07-05T01:21:07.312Z"
   },
   {
    "duration": 37,
    "start_time": "2024-07-05T01:21:08.042Z"
   },
   {
    "duration": 444,
    "start_time": "2024-07-05T01:21:08.082Z"
   },
   {
    "duration": 466,
    "start_time": "2024-07-05T01:21:08.531Z"
   },
   {
    "duration": 146,
    "start_time": "2024-07-05T01:21:09.001Z"
   },
   {
    "duration": 147,
    "start_time": "2024-07-05T01:21:09.150Z"
   },
   {
    "duration": 2819,
    "start_time": "2024-07-05T01:21:09.303Z"
   },
   {
    "duration": 201,
    "start_time": "2024-07-05T01:21:12.124Z"
   },
   {
    "duration": 114,
    "start_time": "2024-07-05T01:21:12.330Z"
   },
   {
    "duration": 129,
    "start_time": "2024-07-05T01:21:12.446Z"
   },
   {
    "duration": 300,
    "start_time": "2024-07-05T01:21:12.579Z"
   },
   {
    "duration": 2706,
    "start_time": "2024-07-05T01:21:12.882Z"
   },
   {
    "duration": 2598,
    "start_time": "2024-07-05T01:21:15.591Z"
   },
   {
    "duration": 2554,
    "start_time": "2024-07-05T01:21:18.196Z"
   },
   {
    "duration": 648,
    "start_time": "2024-07-05T01:21:20.752Z"
   },
   {
    "duration": 2066,
    "start_time": "2024-07-05T01:21:21.405Z"
   },
   {
    "duration": 7,
    "start_time": "2024-07-05T01:21:23.474Z"
   },
   {
    "duration": 32,
    "start_time": "2024-07-05T01:21:23.484Z"
   },
   {
    "duration": 158,
    "start_time": "2024-07-05T01:21:23.519Z"
   },
   {
    "duration": 502,
    "start_time": "2024-07-05T01:21:23.680Z"
   },
   {
    "duration": 4,
    "start_time": "2024-07-05T01:21:24.185Z"
   },
   {
    "duration": 3,
    "start_time": "2024-07-05T01:21:24.195Z"
   },
   {
    "duration": 28335,
    "start_time": "2024-07-05T01:21:30.182Z"
   },
   {
    "duration": 13,
    "start_time": "2024-07-05T01:22:15.300Z"
   },
   {
    "duration": 440,
    "start_time": "2024-07-05T01:22:49.926Z"
   },
   {
    "duration": 7,
    "start_time": "2024-07-05T01:22:59.526Z"
   },
   {
    "duration": 720,
    "start_time": "2024-07-05T01:22:59.537Z"
   },
   {
    "duration": 33,
    "start_time": "2024-07-05T01:23:00.260Z"
   },
   {
    "duration": 393,
    "start_time": "2024-07-05T01:23:00.297Z"
   },
   {
    "duration": 433,
    "start_time": "2024-07-05T01:23:00.693Z"
   },
   {
    "duration": 144,
    "start_time": "2024-07-05T01:23:01.131Z"
   },
   {
    "duration": 154,
    "start_time": "2024-07-05T01:23:01.278Z"
   },
   {
    "duration": 2855,
    "start_time": "2024-07-05T01:23:01.435Z"
   },
   {
    "duration": 216,
    "start_time": "2024-07-05T01:23:04.293Z"
   },
   {
    "duration": 100,
    "start_time": "2024-07-05T01:23:04.515Z"
   },
   {
    "duration": 130,
    "start_time": "2024-07-05T01:23:04.618Z"
   },
   {
    "duration": 6,
    "start_time": "2024-07-05T01:23:04.751Z"
   },
   {
    "duration": 2660,
    "start_time": "2024-07-05T01:23:04.760Z"
   },
   {
    "duration": 2656,
    "start_time": "2024-07-05T01:23:07.423Z"
   },
   {
    "duration": 2591,
    "start_time": "2024-07-05T01:23:10.082Z"
   },
   {
    "duration": 654,
    "start_time": "2024-07-05T01:23:12.676Z"
   },
   {
    "duration": 2000,
    "start_time": "2024-07-05T01:23:13.333Z"
   },
   {
    "duration": 6,
    "start_time": "2024-07-05T01:23:15.336Z"
   },
   {
    "duration": 32,
    "start_time": "2024-07-05T01:23:15.346Z"
   },
   {
    "duration": 167,
    "start_time": "2024-07-05T01:23:15.382Z"
   },
   {
    "duration": 501,
    "start_time": "2024-07-05T01:23:15.552Z"
   },
   {
    "duration": 4,
    "start_time": "2024-07-05T01:23:16.056Z"
   },
   {
    "duration": 4,
    "start_time": "2024-07-05T01:23:16.063Z"
   },
   {
    "duration": 28414,
    "start_time": "2024-07-05T01:23:23.593Z"
   },
   {
    "duration": 1389,
    "start_time": "2024-07-05T02:21:33.987Z"
   },
   {
    "duration": 755,
    "start_time": "2024-07-05T02:21:35.379Z"
   },
   {
    "duration": 38,
    "start_time": "2024-07-05T02:21:36.137Z"
   },
   {
    "duration": 433,
    "start_time": "2024-07-05T02:21:36.179Z"
   },
   {
    "duration": 477,
    "start_time": "2024-07-05T02:21:36.616Z"
   },
   {
    "duration": 146,
    "start_time": "2024-07-05T02:21:37.096Z"
   },
   {
    "duration": 147,
    "start_time": "2024-07-05T02:21:37.245Z"
   },
   {
    "duration": 2839,
    "start_time": "2024-07-05T02:21:37.394Z"
   },
   {
    "duration": 234,
    "start_time": "2024-07-05T02:21:40.236Z"
   },
   {
    "duration": 113,
    "start_time": "2024-07-05T02:21:40.477Z"
   },
   {
    "duration": 149,
    "start_time": "2024-07-05T02:21:40.593Z"
   },
   {
    "duration": 285,
    "start_time": "2024-07-05T02:21:40.745Z"
   },
   {
    "duration": 2880,
    "start_time": "2024-07-05T02:21:41.033Z"
   },
   {
    "duration": 2638,
    "start_time": "2024-07-05T02:21:43.917Z"
   },
   {
    "duration": 2572,
    "start_time": "2024-07-05T02:21:46.558Z"
   },
   {
    "duration": 653,
    "start_time": "2024-07-05T02:21:49.134Z"
   },
   {
    "duration": 2045,
    "start_time": "2024-07-05T02:21:49.790Z"
   },
   {
    "duration": 8,
    "start_time": "2024-07-05T02:21:51.838Z"
   },
   {
    "duration": 33,
    "start_time": "2024-07-05T02:21:51.848Z"
   },
   {
    "duration": 186,
    "start_time": "2024-07-05T02:21:51.884Z"
   },
   {
    "duration": 528,
    "start_time": "2024-07-05T02:21:52.073Z"
   },
   {
    "duration": 4,
    "start_time": "2024-07-05T02:21:52.604Z"
   },
   {
    "duration": 4,
    "start_time": "2024-07-05T02:21:52.611Z"
   },
   {
    "duration": 28369,
    "start_time": "2024-07-05T02:21:56.277Z"
   },
   {
    "duration": 10,
    "start_time": "2024-07-05T02:22:30.958Z"
   },
   {
    "duration": 1454,
    "start_time": "2024-07-05T04:59:57.569Z"
   },
   {
    "duration": 809,
    "start_time": "2024-07-05T04:59:59.026Z"
   },
   {
    "duration": 37,
    "start_time": "2024-07-05T04:59:59.840Z"
   },
   {
    "duration": 433,
    "start_time": "2024-07-05T04:59:59.881Z"
   },
   {
    "duration": 481,
    "start_time": "2024-07-05T05:00:00.323Z"
   },
   {
    "duration": 148,
    "start_time": "2024-07-05T05:00:00.807Z"
   },
   {
    "duration": 149,
    "start_time": "2024-07-05T05:00:00.958Z"
   },
   {
    "duration": 2852,
    "start_time": "2024-07-05T05:00:01.122Z"
   },
   {
    "duration": 177,
    "start_time": "2024-07-05T05:00:03.977Z"
   },
   {
    "duration": 101,
    "start_time": "2024-07-05T05:00:04.159Z"
   },
   {
    "duration": 131,
    "start_time": "2024-07-05T05:00:04.263Z"
   },
   {
    "duration": 3964,
    "start_time": "2024-07-05T05:00:04.397Z"
   },
   {
    "duration": 2664,
    "start_time": "2024-07-05T05:00:08.363Z"
   },
   {
    "duration": 2696,
    "start_time": "2024-07-05T05:00:11.030Z"
   },
   {
    "duration": 2603,
    "start_time": "2024-07-05T05:00:13.729Z"
   },
   {
    "duration": 752,
    "start_time": "2024-07-05T05:00:16.335Z"
   },
   {
    "duration": 2042,
    "start_time": "2024-07-05T05:00:17.089Z"
   },
   {
    "duration": 7,
    "start_time": "2024-07-05T05:00:19.135Z"
   },
   {
    "duration": 34,
    "start_time": "2024-07-05T05:00:19.145Z"
   },
   {
    "duration": 189,
    "start_time": "2024-07-05T05:00:19.182Z"
   },
   {
    "duration": 37,
    "start_time": "2024-07-05T05:00:52.768Z"
   },
   {
    "duration": 5,
    "start_time": "2024-07-05T05:01:16.460Z"
   },
   {
    "duration": 443,
    "start_time": "2024-07-05T05:01:51.604Z"
   },
   {
    "duration": 460,
    "start_time": "2024-07-05T05:06:00.207Z"
   },
   {
    "duration": 4,
    "start_time": "2024-07-05T05:06:21.380Z"
   },
   {
    "duration": 4,
    "start_time": "2024-07-05T05:06:22.265Z"
   },
   {
    "duration": 1656,
    "start_time": "2024-07-05T05:06:22.962Z"
   },
   {
    "duration": 11,
    "start_time": "2024-07-05T05:07:06.558Z"
   },
   {
    "duration": 4,
    "start_time": "2024-07-05T05:10:00.849Z"
   },
   {
    "duration": 342,
    "start_time": "2024-07-05T05:11:20.588Z"
   },
   {
    "duration": 327,
    "start_time": "2024-07-05T05:14:41.776Z"
   },
   {
    "duration": 1579,
    "start_time": "2024-07-05T05:15:05.277Z"
   },
   {
    "duration": 868,
    "start_time": "2024-07-05T05:15:06.861Z"
   },
   {
    "duration": 49,
    "start_time": "2024-07-05T05:15:07.732Z"
   },
   {
    "duration": 472,
    "start_time": "2024-07-05T05:15:07.786Z"
   },
   {
    "duration": 479,
    "start_time": "2024-07-05T05:15:08.261Z"
   },
   {
    "duration": 161,
    "start_time": "2024-07-05T05:15:08.743Z"
   },
   {
    "duration": 142,
    "start_time": "2024-07-05T05:15:08.922Z"
   },
   {
    "duration": 2881,
    "start_time": "2024-07-05T05:15:09.068Z"
   },
   {
    "duration": 184,
    "start_time": "2024-07-05T05:15:11.952Z"
   },
   {
    "duration": 126,
    "start_time": "2024-07-05T05:15:12.144Z"
   },
   {
    "duration": 140,
    "start_time": "2024-07-05T05:15:12.273Z"
   },
   {
    "duration": 304,
    "start_time": "2024-07-05T05:15:12.422Z"
   },
   {
    "duration": 2703,
    "start_time": "2024-07-05T05:15:12.729Z"
   },
   {
    "duration": 2696,
    "start_time": "2024-07-05T05:15:15.435Z"
   },
   {
    "duration": 2634,
    "start_time": "2024-07-05T05:15:18.135Z"
   },
   {
    "duration": 700,
    "start_time": "2024-07-05T05:15:20.773Z"
   },
   {
    "duration": 2166,
    "start_time": "2024-07-05T05:15:21.477Z"
   },
   {
    "duration": 32,
    "start_time": "2024-07-05T05:15:23.646Z"
   },
   {
    "duration": 204,
    "start_time": "2024-07-05T05:15:23.682Z"
   },
   {
    "duration": 48,
    "start_time": "2024-07-05T05:15:23.889Z"
   },
   {
    "duration": 5,
    "start_time": "2024-07-05T05:15:23.940Z"
   },
   {
    "duration": 596,
    "start_time": "2024-07-05T05:15:23.949Z"
   },
   {
    "duration": 4,
    "start_time": "2024-07-05T05:15:24.550Z"
   },
   {
    "duration": 8,
    "start_time": "2024-07-05T05:15:24.558Z"
   },
   {
    "duration": 4,
    "start_time": "2024-07-05T05:15:28.502Z"
   },
   {
    "duration": 1897,
    "start_time": "2024-07-05T05:15:29.161Z"
   },
   {
    "duration": 11,
    "start_time": "2024-07-05T05:16:07.186Z"
   },
   {
    "duration": 6,
    "start_time": "2024-07-05T05:16:37.847Z"
   },
   {
    "duration": 1638,
    "start_time": "2024-07-05T05:48:22.609Z"
   },
   {
    "duration": 900,
    "start_time": "2024-07-05T05:48:24.251Z"
   },
   {
    "duration": 43,
    "start_time": "2024-07-05T05:48:25.154Z"
   },
   {
    "duration": 510,
    "start_time": "2024-07-05T05:48:25.202Z"
   },
   {
    "duration": 514,
    "start_time": "2024-07-05T05:48:25.715Z"
   },
   {
    "duration": 181,
    "start_time": "2024-07-05T05:48:26.232Z"
   },
   {
    "duration": 150,
    "start_time": "2024-07-05T05:48:26.425Z"
   },
   {
    "duration": 3064,
    "start_time": "2024-07-05T05:48:26.579Z"
   },
   {
    "duration": 201,
    "start_time": "2024-07-05T05:48:29.646Z"
   },
   {
    "duration": 116,
    "start_time": "2024-07-05T05:48:29.854Z"
   },
   {
    "duration": 151,
    "start_time": "2024-07-05T05:48:29.974Z"
   },
   {
    "duration": 315,
    "start_time": "2024-07-05T05:48:30.136Z"
   },
   {
    "duration": 2828,
    "start_time": "2024-07-05T05:48:30.458Z"
   },
   {
    "duration": 2649,
    "start_time": "2024-07-05T05:48:33.289Z"
   },
   {
    "duration": 2657,
    "start_time": "2024-07-05T05:48:35.941Z"
   },
   {
    "duration": 666,
    "start_time": "2024-07-05T05:48:38.601Z"
   },
   {
    "duration": 2076,
    "start_time": "2024-07-05T05:48:39.271Z"
   },
   {
    "duration": 33,
    "start_time": "2024-07-05T05:48:41.351Z"
   },
   {
    "duration": 179,
    "start_time": "2024-07-05T05:48:41.387Z"
   },
   {
    "duration": 54,
    "start_time": "2024-07-05T05:48:41.569Z"
   },
   {
    "duration": 6,
    "start_time": "2024-07-05T05:48:41.625Z"
   },
   {
    "duration": 490,
    "start_time": "2024-07-05T05:48:41.635Z"
   },
   {
    "duration": 5,
    "start_time": "2024-07-05T05:48:42.128Z"
   },
   {
    "duration": 5,
    "start_time": "2024-07-05T05:48:42.136Z"
   },
   {
    "duration": 5,
    "start_time": "2024-07-05T05:48:42.144Z"
   },
   {
    "duration": 22943,
    "start_time": "2024-07-05T05:48:42.153Z"
   },
   {
    "duration": 10,
    "start_time": "2024-07-05T05:49:05.099Z"
   },
   {
    "duration": 4,
    "start_time": "2024-07-05T05:49:14.542Z"
   },
   {
    "duration": 1509,
    "start_time": "2024-07-05T05:54:13.166Z"
   },
   {
    "duration": 765,
    "start_time": "2024-07-05T05:54:14.678Z"
   },
   {
    "duration": 42,
    "start_time": "2024-07-05T05:54:15.446Z"
   },
   {
    "duration": 459,
    "start_time": "2024-07-05T05:54:15.495Z"
   },
   {
    "duration": 497,
    "start_time": "2024-07-05T05:54:15.958Z"
   },
   {
    "duration": 173,
    "start_time": "2024-07-05T05:54:16.458Z"
   },
   {
    "duration": 166,
    "start_time": "2024-07-05T05:54:16.635Z"
   },
   {
    "duration": 2883,
    "start_time": "2024-07-05T05:54:16.804Z"
   },
   {
    "duration": 200,
    "start_time": "2024-07-05T05:54:19.691Z"
   },
   {
    "duration": 132,
    "start_time": "2024-07-05T05:54:19.899Z"
   },
   {
    "duration": 134,
    "start_time": "2024-07-05T05:54:20.036Z"
   },
   {
    "duration": 298,
    "start_time": "2024-07-05T05:54:20.173Z"
   },
   {
    "duration": 2686,
    "start_time": "2024-07-05T05:54:20.474Z"
   },
   {
    "duration": 2799,
    "start_time": "2024-07-05T05:54:23.164Z"
   },
   {
    "duration": 2686,
    "start_time": "2024-07-05T05:54:25.967Z"
   },
   {
    "duration": 708,
    "start_time": "2024-07-05T05:54:28.657Z"
   },
   {
    "duration": 2139,
    "start_time": "2024-07-05T05:54:29.369Z"
   },
   {
    "duration": 38,
    "start_time": "2024-07-05T05:54:31.512Z"
   },
   {
    "duration": 222,
    "start_time": "2024-07-05T05:54:31.553Z"
   },
   {
    "duration": 53,
    "start_time": "2024-07-05T05:54:31.779Z"
   },
   {
    "duration": 7,
    "start_time": "2024-07-05T05:54:31.836Z"
   },
   {
    "duration": 731,
    "start_time": "2024-07-05T05:54:31.849Z"
   },
   {
    "duration": 4,
    "start_time": "2024-07-05T05:54:32.583Z"
   },
   {
    "duration": 4,
    "start_time": "2024-07-05T05:54:32.591Z"
   },
   {
    "duration": 25,
    "start_time": "2024-07-05T05:54:32.599Z"
   },
   {
    "duration": 535,
    "start_time": "2024-07-05T05:54:37.670Z"
   },
   {
    "duration": 1441,
    "start_time": "2024-07-05T05:55:08.088Z"
   },
   {
    "duration": 11,
    "start_time": "2024-07-05T05:55:17.507Z"
   },
   {
    "duration": 4,
    "start_time": "2024-07-05T05:55:21.186Z"
   },
   {
    "duration": 1583,
    "start_time": "2024-07-05T06:09:39.311Z"
   },
   {
    "duration": 826,
    "start_time": "2024-07-05T06:09:40.898Z"
   },
   {
    "duration": 41,
    "start_time": "2024-07-05T06:09:41.728Z"
   },
   {
    "duration": 471,
    "start_time": "2024-07-05T06:09:41.775Z"
   },
   {
    "duration": 494,
    "start_time": "2024-07-05T06:09:42.251Z"
   },
   {
    "duration": 153,
    "start_time": "2024-07-05T06:09:42.749Z"
   },
   {
    "duration": 152,
    "start_time": "2024-07-05T06:09:42.905Z"
   },
   {
    "duration": 2890,
    "start_time": "2024-07-05T06:09:43.061Z"
   },
   {
    "duration": 181,
    "start_time": "2024-07-05T06:09:45.954Z"
   },
   {
    "duration": 110,
    "start_time": "2024-07-05T06:09:46.141Z"
   },
   {
    "duration": 136,
    "start_time": "2024-07-05T06:09:46.254Z"
   },
   {
    "duration": 323,
    "start_time": "2024-07-05T06:09:46.393Z"
   },
   {
    "duration": 2695,
    "start_time": "2024-07-05T06:09:46.719Z"
   },
   {
    "duration": 2664,
    "start_time": "2024-07-05T06:09:49.417Z"
   },
   {
    "duration": 2732,
    "start_time": "2024-07-05T06:09:52.084Z"
   },
   {
    "duration": 720,
    "start_time": "2024-07-05T06:09:54.819Z"
   },
   {
    "duration": 2132,
    "start_time": "2024-07-05T06:09:55.543Z"
   },
   {
    "duration": 32,
    "start_time": "2024-07-05T06:09:57.679Z"
   },
   {
    "duration": 164,
    "start_time": "2024-07-05T06:09:57.715Z"
   },
   {
    "duration": 49,
    "start_time": "2024-07-05T06:09:57.881Z"
   },
   {
    "duration": 6,
    "start_time": "2024-07-05T06:09:57.934Z"
   },
   {
    "duration": 489,
    "start_time": "2024-07-05T06:09:57.945Z"
   },
   {
    "duration": 8,
    "start_time": "2024-07-05T06:09:58.438Z"
   },
   {
    "duration": 4,
    "start_time": "2024-07-05T06:09:58.450Z"
   },
   {
    "duration": 5,
    "start_time": "2024-07-05T06:09:58.457Z"
   },
   {
    "duration": 1486,
    "start_time": "2024-07-05T06:09:58.465Z"
   },
   {
    "duration": 1551,
    "start_time": "2024-07-05T06:10:43.330Z"
   },
   {
    "duration": 796,
    "start_time": "2024-07-05T06:10:44.885Z"
   },
   {
    "duration": 53,
    "start_time": "2024-07-05T06:10:45.684Z"
   },
   {
    "duration": 458,
    "start_time": "2024-07-05T06:10:45.741Z"
   },
   {
    "duration": 508,
    "start_time": "2024-07-05T06:10:46.202Z"
   },
   {
    "duration": 154,
    "start_time": "2024-07-05T06:10:46.713Z"
   },
   {
    "duration": 153,
    "start_time": "2024-07-05T06:10:46.871Z"
   },
   {
    "duration": 2958,
    "start_time": "2024-07-05T06:10:47.028Z"
   },
   {
    "duration": 183,
    "start_time": "2024-07-05T06:10:49.988Z"
   },
   {
    "duration": 114,
    "start_time": "2024-07-05T06:10:50.178Z"
   },
   {
    "duration": 149,
    "start_time": "2024-07-05T06:10:50.295Z"
   },
   {
    "duration": 311,
    "start_time": "2024-07-05T06:10:50.447Z"
   },
   {
    "duration": 2675,
    "start_time": "2024-07-05T06:10:50.762Z"
   },
   {
    "duration": 2787,
    "start_time": "2024-07-05T06:10:53.440Z"
   },
   {
    "duration": 2653,
    "start_time": "2024-07-05T06:10:56.231Z"
   },
   {
    "duration": 671,
    "start_time": "2024-07-05T06:10:58.887Z"
   },
   {
    "duration": 2130,
    "start_time": "2024-07-05T06:10:59.562Z"
   },
   {
    "duration": 33,
    "start_time": "2024-07-05T06:11:01.695Z"
   },
   {
    "duration": 178,
    "start_time": "2024-07-05T06:11:01.731Z"
   },
   {
    "duration": 38,
    "start_time": "2024-07-05T06:11:01.913Z"
   },
   {
    "duration": 6,
    "start_time": "2024-07-05T06:11:01.954Z"
   },
   {
    "duration": 477,
    "start_time": "2024-07-05T06:11:01.963Z"
   },
   {
    "duration": 5,
    "start_time": "2024-07-05T06:11:02.443Z"
   },
   {
    "duration": 4,
    "start_time": "2024-07-05T06:11:02.452Z"
   },
   {
    "duration": 4,
    "start_time": "2024-07-05T06:11:02.460Z"
   },
   {
    "duration": 1486,
    "start_time": "2024-07-05T06:11:02.468Z"
   },
   {
    "duration": 9,
    "start_time": "2024-07-05T06:11:13.531Z"
   },
   {
    "duration": 6,
    "start_time": "2024-07-05T06:11:17.182Z"
   },
   {
    "duration": 1547,
    "start_time": "2024-07-05T06:14:16.284Z"
   },
   {
    "duration": 817,
    "start_time": "2024-07-05T06:14:17.836Z"
   },
   {
    "duration": 44,
    "start_time": "2024-07-05T06:14:18.658Z"
   },
   {
    "duration": 431,
    "start_time": "2024-07-05T06:14:18.724Z"
   },
   {
    "duration": 507,
    "start_time": "2024-07-05T06:14:19.159Z"
   },
   {
    "duration": 185,
    "start_time": "2024-07-05T06:14:19.669Z"
   },
   {
    "duration": 166,
    "start_time": "2024-07-05T06:14:19.859Z"
   },
   {
    "duration": 2914,
    "start_time": "2024-07-05T06:14:20.028Z"
   },
   {
    "duration": 190,
    "start_time": "2024-07-05T06:14:22.945Z"
   },
   {
    "duration": 106,
    "start_time": "2024-07-05T06:14:23.142Z"
   },
   {
    "duration": 138,
    "start_time": "2024-07-05T06:14:23.252Z"
   },
   {
    "duration": 314,
    "start_time": "2024-07-05T06:14:23.394Z"
   },
   {
    "duration": 2918,
    "start_time": "2024-07-05T06:14:23.711Z"
   },
   {
    "duration": 2756,
    "start_time": "2024-07-05T06:14:26.634Z"
   },
   {
    "duration": 2689,
    "start_time": "2024-07-05T06:14:29.393Z"
   },
   {
    "duration": 711,
    "start_time": "2024-07-05T06:14:32.087Z"
   },
   {
    "duration": 2198,
    "start_time": "2024-07-05T06:14:32.802Z"
   },
   {
    "duration": 34,
    "start_time": "2024-07-05T06:14:35.006Z"
   },
   {
    "duration": 169,
    "start_time": "2024-07-05T06:14:35.043Z"
   },
   {
    "duration": 40,
    "start_time": "2024-07-05T06:14:40.591Z"
   },
   {
    "duration": 5,
    "start_time": "2024-07-05T06:14:51.522Z"
   },
   {
    "duration": 494,
    "start_time": "2024-07-05T06:15:01.559Z"
   },
   {
    "duration": 4,
    "start_time": "2024-07-05T06:15:06.207Z"
   },
   {
    "duration": 4,
    "start_time": "2024-07-05T06:15:06.779Z"
   },
   {
    "duration": 4,
    "start_time": "2024-07-05T06:15:08.282Z"
   },
   {
    "duration": 1688,
    "start_time": "2024-07-05T06:15:31.866Z"
   },
   {
    "duration": 864,
    "start_time": "2024-07-05T06:15:33.558Z"
   },
   {
    "duration": 40,
    "start_time": "2024-07-05T06:15:34.425Z"
   },
   {
    "duration": 484,
    "start_time": "2024-07-05T06:15:34.471Z"
   },
   {
    "duration": 509,
    "start_time": "2024-07-05T06:15:34.959Z"
   },
   {
    "duration": 159,
    "start_time": "2024-07-05T06:15:35.471Z"
   },
   {
    "duration": 147,
    "start_time": "2024-07-05T06:15:35.634Z"
   },
   {
    "duration": 2866,
    "start_time": "2024-07-05T06:15:35.784Z"
   },
   {
    "duration": 189,
    "start_time": "2024-07-05T06:15:38.653Z"
   },
   {
    "duration": 108,
    "start_time": "2024-07-05T06:15:38.849Z"
   },
   {
    "duration": 140,
    "start_time": "2024-07-05T06:15:38.961Z"
   },
   {
    "duration": 315,
    "start_time": "2024-07-05T06:15:39.104Z"
   },
   {
    "duration": 2733,
    "start_time": "2024-07-05T06:15:39.424Z"
   },
   {
    "duration": 2643,
    "start_time": "2024-07-05T06:15:42.161Z"
   },
   {
    "duration": 2579,
    "start_time": "2024-07-05T06:15:44.808Z"
   },
   {
    "duration": 674,
    "start_time": "2024-07-05T06:15:47.391Z"
   },
   {
    "duration": 2099,
    "start_time": "2024-07-05T06:15:48.068Z"
   },
   {
    "duration": 32,
    "start_time": "2024-07-05T06:15:50.171Z"
   },
   {
    "duration": 161,
    "start_time": "2024-07-05T06:15:50.207Z"
   },
   {
    "duration": 51,
    "start_time": "2024-07-05T06:15:50.372Z"
   },
   {
    "duration": 6,
    "start_time": "2024-07-05T06:15:50.429Z"
   },
   {
    "duration": 536,
    "start_time": "2024-07-05T06:15:50.439Z"
   },
   {
    "duration": 4,
    "start_time": "2024-07-05T06:15:50.983Z"
   },
   {
    "duration": 4,
    "start_time": "2024-07-05T06:15:50.991Z"
   },
   {
    "duration": 27,
    "start_time": "2024-07-05T06:15:50.998Z"
   },
   {
    "duration": 1543,
    "start_time": "2024-07-05T06:17:13.140Z"
   },
   {
    "duration": 830,
    "start_time": "2024-07-05T06:17:14.687Z"
   },
   {
    "duration": 39,
    "start_time": "2024-07-05T06:17:15.522Z"
   },
   {
    "duration": 451,
    "start_time": "2024-07-05T06:17:15.565Z"
   },
   {
    "duration": 523,
    "start_time": "2024-07-05T06:17:16.024Z"
   },
   {
    "duration": 178,
    "start_time": "2024-07-05T06:17:16.550Z"
   },
   {
    "duration": 146,
    "start_time": "2024-07-05T06:17:16.732Z"
   },
   {
    "duration": 2928,
    "start_time": "2024-07-05T06:17:16.881Z"
   },
   {
    "duration": 194,
    "start_time": "2024-07-05T06:17:19.814Z"
   },
   {
    "duration": 116,
    "start_time": "2024-07-05T06:17:20.014Z"
   },
   {
    "duration": 135,
    "start_time": "2024-07-05T06:17:20.133Z"
   },
   {
    "duration": 297,
    "start_time": "2024-07-05T06:17:20.272Z"
   },
   {
    "duration": 2753,
    "start_time": "2024-07-05T06:17:20.573Z"
   },
   {
    "duration": 2902,
    "start_time": "2024-07-05T06:17:23.329Z"
   },
   {
    "duration": 2680,
    "start_time": "2024-07-05T06:17:26.235Z"
   },
   {
    "duration": 658,
    "start_time": "2024-07-05T06:17:28.923Z"
   },
   {
    "duration": 2175,
    "start_time": "2024-07-05T06:17:29.585Z"
   },
   {
    "duration": 32,
    "start_time": "2024-07-05T06:17:31.763Z"
   },
   {
    "duration": 152,
    "start_time": "2024-07-05T06:17:31.801Z"
   },
   {
    "duration": 34,
    "start_time": "2024-07-05T06:17:31.956Z"
   },
   {
    "duration": 4,
    "start_time": "2024-07-05T06:17:31.994Z"
   },
   {
    "duration": 528,
    "start_time": "2024-07-05T06:17:32.023Z"
   },
   {
    "duration": 5,
    "start_time": "2024-07-05T06:17:32.554Z"
   },
   {
    "duration": 3,
    "start_time": "2024-07-05T06:17:32.563Z"
   },
   {
    "duration": 6,
    "start_time": "2024-07-05T06:17:32.569Z"
   },
   {
    "duration": 1464,
    "start_time": "2024-07-05T11:45:01.145Z"
   },
   {
    "duration": 862,
    "start_time": "2024-07-05T11:45:02.613Z"
   },
   {
    "duration": 93,
    "start_time": "2024-07-05T11:45:03.485Z"
   },
   {
    "duration": 477,
    "start_time": "2024-07-05T11:45:03.581Z"
   },
   {
    "duration": 477,
    "start_time": "2024-07-05T11:45:04.062Z"
   },
   {
    "duration": 156,
    "start_time": "2024-07-05T11:45:04.542Z"
   },
   {
    "duration": 147,
    "start_time": "2024-07-05T11:45:04.702Z"
   },
   {
    "duration": 3101,
    "start_time": "2024-07-05T11:45:04.852Z"
   },
   {
    "duration": 188,
    "start_time": "2024-07-05T11:45:07.956Z"
   },
   {
    "duration": 107,
    "start_time": "2024-07-05T11:45:08.147Z"
   },
   {
    "duration": 131,
    "start_time": "2024-07-05T11:45:08.257Z"
   },
   {
    "duration": 3978,
    "start_time": "2024-07-05T11:45:08.391Z"
   },
   {
    "duration": 2650,
    "start_time": "2024-07-05T11:45:12.371Z"
   },
   {
    "duration": 2645,
    "start_time": "2024-07-05T11:45:15.027Z"
   },
   {
    "duration": 2556,
    "start_time": "2024-07-05T11:45:17.674Z"
   },
   {
    "duration": 661,
    "start_time": "2024-07-05T11:45:20.234Z"
   },
   {
    "duration": 2122,
    "start_time": "2024-07-05T11:45:20.897Z"
   },
   {
    "duration": 37,
    "start_time": "2024-07-05T11:45:23.022Z"
   },
   {
    "duration": 122,
    "start_time": "2024-07-05T11:45:23.062Z"
   },
   {
    "duration": 37,
    "start_time": "2024-07-05T11:45:23.187Z"
   },
   {
    "duration": 6,
    "start_time": "2024-07-05T11:45:23.227Z"
   },
   {
    "duration": 579,
    "start_time": "2024-07-05T11:45:23.236Z"
   },
   {
    "duration": 4,
    "start_time": "2024-07-05T11:45:23.827Z"
   },
   {
    "duration": 6,
    "start_time": "2024-07-05T11:45:23.835Z"
   },
   {
    "duration": 5,
    "start_time": "2024-07-05T11:45:23.851Z"
   },
   {
    "duration": 1484,
    "start_time": "2024-07-05T11:46:14.745Z"
   },
   {
    "duration": 811,
    "start_time": "2024-07-05T11:46:16.235Z"
   },
   {
    "duration": 68,
    "start_time": "2024-07-05T11:46:17.050Z"
   },
   {
    "duration": 467,
    "start_time": "2024-07-05T11:46:17.124Z"
   },
   {
    "duration": 531,
    "start_time": "2024-07-05T11:46:17.594Z"
   },
   {
    "duration": 148,
    "start_time": "2024-07-05T11:46:18.129Z"
   },
   {
    "duration": 151,
    "start_time": "2024-07-05T11:46:18.280Z"
   },
   {
    "duration": 2959,
    "start_time": "2024-07-05T11:46:18.434Z"
   },
   {
    "duration": 197,
    "start_time": "2024-07-05T11:46:21.397Z"
   },
   {
    "duration": 113,
    "start_time": "2024-07-05T11:46:21.599Z"
   },
   {
    "duration": 120,
    "start_time": "2024-07-05T11:46:21.716Z"
   },
   {
    "duration": 275,
    "start_time": "2024-07-05T11:46:21.839Z"
   },
   {
    "duration": 2896,
    "start_time": "2024-07-05T11:46:22.118Z"
   },
   {
    "duration": 2879,
    "start_time": "2024-07-05T11:46:25.017Z"
   },
   {
    "duration": 2732,
    "start_time": "2024-07-05T11:46:27.900Z"
   },
   {
    "duration": 661,
    "start_time": "2024-07-05T11:46:30.639Z"
   },
   {
    "duration": 2097,
    "start_time": "2024-07-05T11:46:31.304Z"
   },
   {
    "duration": 32,
    "start_time": "2024-07-05T11:46:33.404Z"
   },
   {
    "duration": 146,
    "start_time": "2024-07-05T11:46:33.439Z"
   },
   {
    "duration": 43,
    "start_time": "2024-07-05T11:46:33.588Z"
   },
   {
    "duration": 5,
    "start_time": "2024-07-05T11:46:33.635Z"
   },
   {
    "duration": 533,
    "start_time": "2024-07-05T11:46:33.644Z"
   },
   {
    "duration": 4,
    "start_time": "2024-07-05T11:46:34.181Z"
   },
   {
    "duration": 4,
    "start_time": "2024-07-05T11:46:34.188Z"
   },
   {
    "duration": 5,
    "start_time": "2024-07-05T11:46:34.214Z"
   },
   {
    "duration": 1497,
    "start_time": "2024-07-05T11:47:00.221Z"
   },
   {
    "duration": 772,
    "start_time": "2024-07-05T11:47:01.722Z"
   },
   {
    "duration": 46,
    "start_time": "2024-07-05T11:47:02.498Z"
   },
   {
    "duration": 443,
    "start_time": "2024-07-05T11:47:02.549Z"
   },
   {
    "duration": 488,
    "start_time": "2024-07-05T11:47:02.994Z"
   },
   {
    "duration": 167,
    "start_time": "2024-07-05T11:47:03.485Z"
   },
   {
    "duration": 168,
    "start_time": "2024-07-05T11:47:03.655Z"
   },
   {
    "duration": 2785,
    "start_time": "2024-07-05T11:47:03.828Z"
   },
   {
    "duration": 187,
    "start_time": "2024-07-05T11:47:06.616Z"
   },
   {
    "duration": 107,
    "start_time": "2024-07-05T11:47:06.808Z"
   },
   {
    "duration": 128,
    "start_time": "2024-07-05T11:47:06.918Z"
   },
   {
    "duration": 276,
    "start_time": "2024-07-05T11:47:07.049Z"
   },
   {
    "duration": 2648,
    "start_time": "2024-07-05T11:47:07.328Z"
   },
   {
    "duration": 2629,
    "start_time": "2024-07-05T11:47:09.978Z"
   },
   {
    "duration": 2608,
    "start_time": "2024-07-05T11:47:12.613Z"
   },
   {
    "duration": 646,
    "start_time": "2024-07-05T11:47:15.224Z"
   },
   {
    "duration": 2051,
    "start_time": "2024-07-05T11:47:15.874Z"
   },
   {
    "duration": 30,
    "start_time": "2024-07-05T11:47:17.929Z"
   },
   {
    "duration": 128,
    "start_time": "2024-07-05T11:47:17.962Z"
   },
   {
    "duration": 46,
    "start_time": "2024-07-05T11:47:18.093Z"
   },
   {
    "duration": 6,
    "start_time": "2024-07-05T11:47:18.141Z"
   },
   {
    "duration": 512,
    "start_time": "2024-07-05T11:47:18.150Z"
   },
   {
    "duration": 4,
    "start_time": "2024-07-05T11:47:18.666Z"
   },
   {
    "duration": 4,
    "start_time": "2024-07-05T11:47:18.673Z"
   },
   {
    "duration": 5,
    "start_time": "2024-07-05T11:47:18.680Z"
   },
   {
    "duration": 1499,
    "start_time": "2024-07-05T11:53:08.803Z"
   },
   {
    "duration": 803,
    "start_time": "2024-07-05T11:53:10.311Z"
   },
   {
    "duration": 37,
    "start_time": "2024-07-05T11:53:11.116Z"
   },
   {
    "duration": 465,
    "start_time": "2024-07-05T11:53:11.157Z"
   },
   {
    "duration": 476,
    "start_time": "2024-07-05T11:53:11.628Z"
   },
   {
    "duration": 152,
    "start_time": "2024-07-05T11:53:12.107Z"
   },
   {
    "duration": 152,
    "start_time": "2024-07-05T11:53:12.262Z"
   },
   {
    "duration": 2923,
    "start_time": "2024-07-05T11:53:12.417Z"
   },
   {
    "duration": 180,
    "start_time": "2024-07-05T11:53:15.343Z"
   },
   {
    "duration": 105,
    "start_time": "2024-07-05T11:53:15.526Z"
   },
   {
    "duration": 137,
    "start_time": "2024-07-05T11:53:15.634Z"
   },
   {
    "duration": 279,
    "start_time": "2024-07-05T11:53:15.774Z"
   },
   {
    "duration": 2650,
    "start_time": "2024-07-05T11:53:16.056Z"
   },
   {
    "duration": 2658,
    "start_time": "2024-07-05T11:53:18.716Z"
   },
   {
    "duration": 2719,
    "start_time": "2024-07-05T11:53:21.378Z"
   },
   {
    "duration": 769,
    "start_time": "2024-07-05T11:53:24.103Z"
   },
   {
    "duration": 2082,
    "start_time": "2024-07-05T11:53:24.875Z"
   },
   {
    "duration": 32,
    "start_time": "2024-07-05T11:53:26.960Z"
   },
   {
    "duration": 148,
    "start_time": "2024-07-05T11:53:26.995Z"
   },
   {
    "duration": 34,
    "start_time": "2024-07-05T11:53:27.146Z"
   },
   {
    "duration": 28,
    "start_time": "2024-07-05T11:53:27.184Z"
   },
   {
    "duration": 511,
    "start_time": "2024-07-05T11:53:27.216Z"
   },
   {
    "duration": 8,
    "start_time": "2024-07-05T11:53:27.733Z"
   },
   {
    "duration": 4,
    "start_time": "2024-07-05T11:53:27.743Z"
   },
   {
    "duration": 4,
    "start_time": "2024-07-05T11:53:27.751Z"
   },
   {
    "duration": 1488,
    "start_time": "2024-07-05T12:00:42.096Z"
   },
   {
    "duration": 797,
    "start_time": "2024-07-05T12:00:43.588Z"
   },
   {
    "duration": 47,
    "start_time": "2024-07-05T12:00:44.388Z"
   },
   {
    "duration": 567,
    "start_time": "2024-07-05T12:00:44.439Z"
   },
   {
    "duration": 502,
    "start_time": "2024-07-05T12:00:45.013Z"
   },
   {
    "duration": 155,
    "start_time": "2024-07-05T12:00:45.518Z"
   },
   {
    "duration": 154,
    "start_time": "2024-07-05T12:00:45.678Z"
   },
   {
    "duration": 2777,
    "start_time": "2024-07-05T12:00:45.835Z"
   },
   {
    "duration": 178,
    "start_time": "2024-07-05T12:00:48.614Z"
   },
   {
    "duration": 102,
    "start_time": "2024-07-05T12:00:48.797Z"
   },
   {
    "duration": 130,
    "start_time": "2024-07-05T12:00:48.912Z"
   },
   {
    "duration": 285,
    "start_time": "2024-07-05T12:00:49.046Z"
   },
   {
    "duration": 2672,
    "start_time": "2024-07-05T12:00:49.334Z"
   },
   {
    "duration": 2711,
    "start_time": "2024-07-05T12:00:52.012Z"
   },
   {
    "duration": 2653,
    "start_time": "2024-07-05T12:00:54.726Z"
   },
   {
    "duration": 642,
    "start_time": "2024-07-05T12:00:57.382Z"
   },
   {
    "duration": 2058,
    "start_time": "2024-07-05T12:00:58.027Z"
   },
   {
    "duration": 31,
    "start_time": "2024-07-05T12:01:00.088Z"
   },
   {
    "duration": 110,
    "start_time": "2024-07-05T12:01:00.122Z"
   },
   {
    "duration": 33,
    "start_time": "2024-07-05T12:01:00.235Z"
   },
   {
    "duration": 509,
    "start_time": "2024-07-05T12:01:00.270Z"
   },
   {
    "duration": 9,
    "start_time": "2024-07-05T12:01:00.782Z"
   },
   {
    "duration": 18,
    "start_time": "2024-07-05T12:01:00.794Z"
   },
   {
    "duration": 665,
    "start_time": "2024-07-05T12:01:00.816Z"
   },
   {
    "duration": 51,
    "start_time": "2024-07-05T12:01:01.484Z"
   },
   {
    "duration": 1479,
    "start_time": "2024-07-05T12:24:04.552Z"
   },
   {
    "duration": 756,
    "start_time": "2024-07-05T12:24:06.034Z"
   },
   {
    "duration": 44,
    "start_time": "2024-07-05T12:24:06.795Z"
   },
   {
    "duration": 418,
    "start_time": "2024-07-05T12:24:06.843Z"
   },
   {
    "duration": 462,
    "start_time": "2024-07-05T12:24:07.263Z"
   },
   {
    "duration": 167,
    "start_time": "2024-07-05T12:24:07.727Z"
   },
   {
    "duration": 146,
    "start_time": "2024-07-05T12:24:07.897Z"
   },
   {
    "duration": 2788,
    "start_time": "2024-07-05T12:24:08.045Z"
   },
   {
    "duration": 191,
    "start_time": "2024-07-05T12:24:10.835Z"
   },
   {
    "duration": 111,
    "start_time": "2024-07-05T12:24:11.031Z"
   },
   {
    "duration": 126,
    "start_time": "2024-07-05T12:24:11.147Z"
   },
   {
    "duration": 290,
    "start_time": "2024-07-05T12:24:11.276Z"
   },
   {
    "duration": 2641,
    "start_time": "2024-07-05T12:24:11.568Z"
   },
   {
    "duration": 2649,
    "start_time": "2024-07-05T12:24:14.214Z"
   },
   {
    "duration": 2582,
    "start_time": "2024-07-05T12:24:16.866Z"
   },
   {
    "duration": 663,
    "start_time": "2024-07-05T12:24:19.451Z"
   },
   {
    "duration": 2036,
    "start_time": "2024-07-05T12:24:20.117Z"
   },
   {
    "duration": 30,
    "start_time": "2024-07-05T12:24:22.157Z"
   },
   {
    "duration": 122,
    "start_time": "2024-07-05T12:24:22.191Z"
   },
   {
    "duration": 32,
    "start_time": "2024-07-05T12:24:22.315Z"
   },
   {
    "duration": 516,
    "start_time": "2024-07-05T12:24:22.350Z"
   },
   {
    "duration": 7,
    "start_time": "2024-07-05T12:24:22.869Z"
   },
   {
    "duration": 5,
    "start_time": "2024-07-05T12:24:22.879Z"
   },
   {
    "duration": 812,
    "start_time": "2024-07-05T12:24:41.490Z"
   },
   {
    "duration": 6,
    "start_time": "2024-07-05T12:25:17.680Z"
   },
   {
    "duration": 7,
    "start_time": "2024-07-05T12:25:49.186Z"
   },
   {
    "duration": 5,
    "start_time": "2024-07-05T12:26:03.797Z"
   },
   {
    "duration": 94065,
    "start_time": "2024-07-05T12:26:18.756Z"
   },
   {
    "duration": 258391,
    "start_time": "2024-07-05T12:36:18.667Z"
   },
   {
    "duration": 1442,
    "start_time": "2024-07-05T12:49:03.983Z"
   },
   {
    "duration": 801,
    "start_time": "2024-07-05T12:49:05.430Z"
   },
   {
    "duration": 42,
    "start_time": "2024-07-05T12:49:06.234Z"
   },
   {
    "duration": 479,
    "start_time": "2024-07-05T12:49:06.281Z"
   },
   {
    "duration": 475,
    "start_time": "2024-07-05T12:49:06.763Z"
   },
   {
    "duration": 148,
    "start_time": "2024-07-05T12:49:07.241Z"
   },
   {
    "duration": 158,
    "start_time": "2024-07-05T12:49:07.393Z"
   },
   {
    "duration": 2790,
    "start_time": "2024-07-05T12:49:07.554Z"
   },
   {
    "duration": 189,
    "start_time": "2024-07-05T12:49:10.348Z"
   },
   {
    "duration": 108,
    "start_time": "2024-07-05T12:49:10.544Z"
   },
   {
    "duration": 137,
    "start_time": "2024-07-05T12:49:10.655Z"
   },
   {
    "duration": 317,
    "start_time": "2024-07-05T12:49:10.796Z"
   },
   {
    "duration": 2684,
    "start_time": "2024-07-05T12:49:11.116Z"
   },
   {
    "duration": 2591,
    "start_time": "2024-07-05T12:49:13.803Z"
   },
   {
    "duration": 2533,
    "start_time": "2024-07-05T12:49:16.396Z"
   },
   {
    "duration": 657,
    "start_time": "2024-07-05T12:49:18.932Z"
   },
   {
    "duration": 2057,
    "start_time": "2024-07-05T12:49:19.592Z"
   },
   {
    "duration": 32,
    "start_time": "2024-07-05T12:49:21.653Z"
   },
   {
    "duration": 132,
    "start_time": "2024-07-05T12:49:21.689Z"
   },
   {
    "duration": 41,
    "start_time": "2024-07-05T12:49:21.826Z"
   },
   {
    "duration": 565,
    "start_time": "2024-07-05T12:49:21.871Z"
   },
   {
    "duration": 8,
    "start_time": "2024-07-05T12:49:22.440Z"
   },
   {
    "duration": 6,
    "start_time": "2024-07-05T12:49:22.450Z"
   },
   {
    "duration": 930,
    "start_time": "2024-07-05T12:49:22.459Z"
   },
   {
    "duration": 6,
    "start_time": "2024-07-05T12:49:23.391Z"
   },
   {
    "duration": 7,
    "start_time": "2024-07-05T12:49:23.413Z"
   },
   {
    "duration": 95795,
    "start_time": "2024-07-05T12:49:23.424Z"
   },
   {
    "duration": 911719,
    "start_time": "2024-07-05T12:51:12.477Z"
   },
   {
    "duration": 305642,
    "start_time": "2024-07-05T13:06:27.374Z"
   },
   {
    "duration": 85460,
    "start_time": "2024-07-05T13:18:34.222Z"
   },
   {
    "duration": 87795,
    "start_time": "2024-07-05T13:20:46.149Z"
   },
   {
    "duration": 87167,
    "start_time": "2024-07-05T13:23:07.445Z"
   },
   {
    "duration": 86763,
    "start_time": "2024-07-05T13:25:18.498Z"
   },
   {
    "duration": 147083,
    "start_time": "2024-07-05T13:27:42.620Z"
   },
   {
    "duration": 263719,
    "start_time": "2024-07-05T13:32:33.079Z"
   },
   {
    "duration": 1131138,
    "start_time": "2024-07-05T13:42:10.964Z"
   },
   {
    "duration": 1469,
    "start_time": "2024-07-05T14:13:21.064Z"
   },
   {
    "duration": 768,
    "start_time": "2024-07-05T14:13:22.537Z"
   },
   {
    "duration": 42,
    "start_time": "2024-07-05T14:13:23.308Z"
   },
   {
    "duration": 467,
    "start_time": "2024-07-05T14:13:23.353Z"
   },
   {
    "duration": 521,
    "start_time": "2024-07-05T14:13:23.825Z"
   },
   {
    "duration": 154,
    "start_time": "2024-07-05T14:13:24.349Z"
   },
   {
    "duration": 143,
    "start_time": "2024-07-05T14:13:24.514Z"
   },
   {
    "duration": 2879,
    "start_time": "2024-07-05T14:13:24.660Z"
   },
   {
    "duration": 175,
    "start_time": "2024-07-05T14:13:27.541Z"
   },
   {
    "duration": 104,
    "start_time": "2024-07-05T14:13:27.718Z"
   },
   {
    "duration": 129,
    "start_time": "2024-07-05T14:13:27.825Z"
   },
   {
    "duration": 292,
    "start_time": "2024-07-05T14:13:27.956Z"
   },
   {
    "duration": 2647,
    "start_time": "2024-07-05T14:13:28.251Z"
   },
   {
    "duration": 2582,
    "start_time": "2024-07-05T14:13:30.914Z"
   },
   {
    "duration": 2584,
    "start_time": "2024-07-05T14:13:33.499Z"
   },
   {
    "duration": 641,
    "start_time": "2024-07-05T14:13:36.086Z"
   },
   {
    "duration": 2047,
    "start_time": "2024-07-05T14:13:36.730Z"
   },
   {
    "duration": 31,
    "start_time": "2024-07-05T14:13:38.780Z"
   },
   {
    "duration": 124,
    "start_time": "2024-07-05T14:13:38.813Z"
   },
   {
    "duration": 33,
    "start_time": "2024-07-05T14:13:38.940Z"
   },
   {
    "duration": 594,
    "start_time": "2024-07-05T14:13:38.977Z"
   },
   {
    "duration": 7,
    "start_time": "2024-07-05T14:13:39.575Z"
   },
   {
    "duration": 5,
    "start_time": "2024-07-05T14:13:39.586Z"
   },
   {
    "duration": 854,
    "start_time": "2024-07-05T14:13:39.614Z"
   },
   {
    "duration": 6,
    "start_time": "2024-07-05T14:13:40.470Z"
   },
   {
    "duration": 6,
    "start_time": "2024-07-05T14:13:40.479Z"
   },
   {
    "duration": 93945,
    "start_time": "2024-07-05T14:13:40.488Z"
   },
   {
    "duration": 355076,
    "start_time": "2024-07-05T14:15:14.436Z"
   },
   {
    "duration": 732629,
    "start_time": "2024-07-05T14:21:09.514Z"
   },
   {
    "duration": 0,
    "start_time": "2024-07-05T14:33:22.146Z"
   },
   {
    "duration": 0,
    "start_time": "2024-07-05T14:33:22.149Z"
   },
   {
    "duration": 1,
    "start_time": "2024-07-05T14:33:22.150Z"
   },
   {
    "duration": 393916,
    "start_time": "2024-07-05T14:33:23.978Z"
   },
   {
    "duration": 1726212,
    "start_time": "2024-07-05T14:40:00.164Z"
   },
   {
    "duration": 443272,
    "start_time": "2024-07-05T15:08:50.728Z"
   },
   {
    "duration": 1445,
    "start_time": "2024-07-05T15:22:04.135Z"
   },
   {
    "duration": 722,
    "start_time": "2024-07-05T15:22:05.584Z"
   },
   {
    "duration": 37,
    "start_time": "2024-07-05T15:22:06.309Z"
   },
   {
    "duration": 440,
    "start_time": "2024-07-05T15:22:06.350Z"
   },
   {
    "duration": 516,
    "start_time": "2024-07-05T15:22:06.793Z"
   },
   {
    "duration": 159,
    "start_time": "2024-07-05T15:22:07.313Z"
   },
   {
    "duration": 147,
    "start_time": "2024-07-05T15:22:07.474Z"
   },
   {
    "duration": 2852,
    "start_time": "2024-07-05T15:22:07.624Z"
   },
   {
    "duration": 186,
    "start_time": "2024-07-05T15:22:10.479Z"
   },
   {
    "duration": 102,
    "start_time": "2024-07-05T15:22:10.670Z"
   },
   {
    "duration": 133,
    "start_time": "2024-07-05T15:22:10.774Z"
   },
   {
    "duration": 275,
    "start_time": "2024-07-05T15:22:10.913Z"
   },
   {
    "duration": 2733,
    "start_time": "2024-07-05T15:22:11.191Z"
   },
   {
    "duration": 2632,
    "start_time": "2024-07-05T15:22:13.927Z"
   },
   {
    "duration": 2569,
    "start_time": "2024-07-05T15:22:16.562Z"
   },
   {
    "duration": 656,
    "start_time": "2024-07-05T15:22:19.134Z"
   },
   {
    "duration": 2048,
    "start_time": "2024-07-05T15:22:19.793Z"
   },
   {
    "duration": 37,
    "start_time": "2024-07-05T15:22:21.845Z"
   },
   {
    "duration": 148,
    "start_time": "2024-07-05T15:22:21.886Z"
   },
   {
    "duration": 33,
    "start_time": "2024-07-05T15:22:22.037Z"
   },
   {
    "duration": 508,
    "start_time": "2024-07-05T15:22:22.074Z"
   },
   {
    "duration": 7,
    "start_time": "2024-07-05T15:22:22.585Z"
   },
   {
    "duration": 20,
    "start_time": "2024-07-05T15:22:22.595Z"
   },
   {
    "duration": 824,
    "start_time": "2024-07-05T15:22:22.618Z"
   },
   {
    "duration": 11,
    "start_time": "2024-07-05T15:22:23.445Z"
   },
   {
    "duration": 8,
    "start_time": "2024-07-05T15:22:23.459Z"
   },
   {
    "duration": 95844,
    "start_time": "2024-07-05T15:22:23.472Z"
   },
   {
    "duration": 414734,
    "start_time": "2024-07-05T15:23:59.323Z"
   },
   {
    "duration": 1212678,
    "start_time": "2024-07-05T15:30:54.060Z"
   },
   {
    "duration": 0,
    "start_time": "2024-07-05T15:51:06.744Z"
   },
   {
    "duration": 0,
    "start_time": "2024-07-05T15:51:06.747Z"
   },
   {
    "duration": 0,
    "start_time": "2024-07-05T15:51:06.749Z"
   },
   {
    "duration": 411977,
    "start_time": "2024-07-05T15:51:09.510Z"
   },
   {
    "duration": 1437326,
    "start_time": "2024-07-05T15:58:04.787Z"
   },
   {
    "duration": 1433,
    "start_time": "2024-07-05T16:23:41.463Z"
   },
   {
    "duration": 750,
    "start_time": "2024-07-05T16:23:42.900Z"
   },
   {
    "duration": 39,
    "start_time": "2024-07-05T16:23:43.654Z"
   },
   {
    "duration": 469,
    "start_time": "2024-07-05T16:23:43.696Z"
   },
   {
    "duration": 488,
    "start_time": "2024-07-05T16:23:44.171Z"
   },
   {
    "duration": 164,
    "start_time": "2024-07-05T16:23:44.662Z"
   },
   {
    "duration": 142,
    "start_time": "2024-07-05T16:23:44.831Z"
   },
   {
    "duration": 2831,
    "start_time": "2024-07-05T16:23:44.976Z"
   },
   {
    "duration": 174,
    "start_time": "2024-07-05T16:23:47.809Z"
   },
   {
    "duration": 115,
    "start_time": "2024-07-05T16:23:47.985Z"
   },
   {
    "duration": 122,
    "start_time": "2024-07-05T16:23:48.112Z"
   },
   {
    "duration": 274,
    "start_time": "2024-07-05T16:23:48.236Z"
   },
   {
    "duration": 2582,
    "start_time": "2024-07-05T16:23:48.513Z"
   },
   {
    "duration": 2675,
    "start_time": "2024-07-05T16:23:51.101Z"
   },
   {
    "duration": 2527,
    "start_time": "2024-07-05T16:23:53.779Z"
   },
   {
    "duration": 669,
    "start_time": "2024-07-05T16:23:56.309Z"
   },
   {
    "duration": 2025,
    "start_time": "2024-07-05T16:23:56.980Z"
   },
   {
    "duration": 33,
    "start_time": "2024-07-05T16:23:59.008Z"
   },
   {
    "duration": 161,
    "start_time": "2024-07-05T16:23:59.044Z"
   },
   {
    "duration": 34,
    "start_time": "2024-07-05T16:23:59.208Z"
   },
   {
    "duration": 601,
    "start_time": "2024-07-05T16:23:59.245Z"
   },
   {
    "duration": 8,
    "start_time": "2024-07-05T16:23:59.850Z"
   },
   {
    "duration": 5,
    "start_time": "2024-07-05T16:23:59.862Z"
   },
   {
    "duration": 835,
    "start_time": "2024-07-05T16:23:59.870Z"
   },
   {
    "duration": 7,
    "start_time": "2024-07-05T16:24:00.707Z"
   },
   {
    "duration": 7,
    "start_time": "2024-07-05T16:24:00.718Z"
   },
   {
    "duration": 94399,
    "start_time": "2024-07-05T16:24:00.728Z"
   },
   {
    "duration": 512,
    "start_time": "2024-07-05T16:25:35.130Z"
   },
   {
    "duration": 0,
    "start_time": "2024-07-05T16:25:35.645Z"
   },
   {
    "duration": 0,
    "start_time": "2024-07-05T16:25:35.647Z"
   },
   {
    "duration": 0,
    "start_time": "2024-07-05T16:25:35.650Z"
   },
   {
    "duration": 0,
    "start_time": "2024-07-05T16:25:35.652Z"
   },
   {
    "duration": 397952,
    "start_time": "2024-07-05T16:27:46.052Z"
   },
   {
    "duration": 427514,
    "start_time": "2024-07-05T16:37:13.263Z"
   },
   {
    "duration": 140,
    "start_time": "2024-07-05T16:46:11.982Z"
   },
   {
    "duration": 52790,
    "start_time": "2024-07-05T16:46:23.279Z"
   },
   {
    "duration": 68122,
    "start_time": "2024-07-05T16:47:17.146Z"
   },
   {
    "duration": 34,
    "start_time": "2024-07-05T16:48:57.398Z"
   },
   {
    "duration": 872533,
    "start_time": "2024-07-05T16:52:19.811Z"
   },
   {
    "duration": 278,
    "start_time": "2024-07-05T17:07:14.449Z"
   },
   {
    "duration": 141522,
    "start_time": "2024-07-05T17:07:25.902Z"
   },
   {
    "duration": 36,
    "start_time": "2024-07-05T17:10:08.341Z"
   },
   {
    "duration": 93690,
    "start_time": "2024-07-05T17:13:04.883Z"
   },
   {
    "duration": 15236,
    "start_time": "2024-07-05T17:14:39.912Z"
   },
   {
    "duration": 81673,
    "start_time": "2024-07-05T17:15:00.439Z"
   },
   {
    "duration": 34,
    "start_time": "2024-07-05T17:17:39.772Z"
   },
   {
    "duration": 6,
    "start_time": "2024-07-05T17:28:05.023Z"
   },
   {
    "duration": 33,
    "start_time": "2024-07-05T17:28:11.654Z"
   },
   {
    "duration": 220213,
    "start_time": "2024-07-05T17:28:55.539Z"
   },
   {
    "duration": 123826,
    "start_time": "2024-07-05T17:33:28.086Z"
   },
   {
    "duration": 142,
    "start_time": "2024-07-05T17:35:49.558Z"
   },
   {
    "duration": 12882,
    "start_time": "2024-07-05T17:37:04.121Z"
   },
   {
    "duration": 312542,
    "start_time": "2024-07-05T17:37:18.792Z"
   },
   {
    "duration": 16412,
    "start_time": "2024-07-05T17:42:31.338Z"
   },
   {
    "duration": 1666,
    "start_time": "2024-07-05T18:02:43.875Z"
   },
   {
    "duration": 767,
    "start_time": "2024-07-05T18:02:45.545Z"
   },
   {
    "duration": 37,
    "start_time": "2024-07-05T18:02:46.315Z"
   },
   {
    "duration": 483,
    "start_time": "2024-07-05T18:02:46.357Z"
   },
   {
    "duration": 494,
    "start_time": "2024-07-05T18:02:46.843Z"
   },
   {
    "duration": 171,
    "start_time": "2024-07-05T18:02:47.341Z"
   },
   {
    "duration": 138,
    "start_time": "2024-07-05T18:02:47.515Z"
   },
   {
    "duration": 2841,
    "start_time": "2024-07-05T18:02:47.656Z"
   },
   {
    "duration": 180,
    "start_time": "2024-07-05T18:02:50.500Z"
   },
   {
    "duration": 102,
    "start_time": "2024-07-05T18:02:50.685Z"
   },
   {
    "duration": 132,
    "start_time": "2024-07-05T18:02:50.790Z"
   },
   {
    "duration": 288,
    "start_time": "2024-07-05T18:02:50.928Z"
   },
   {
    "duration": 2707,
    "start_time": "2024-07-05T18:02:51.220Z"
   },
   {
    "duration": 2652,
    "start_time": "2024-07-05T18:02:53.931Z"
   },
   {
    "duration": 2557,
    "start_time": "2024-07-05T18:02:56.586Z"
   },
   {
    "duration": 643,
    "start_time": "2024-07-05T18:02:59.146Z"
   },
   {
    "duration": 2069,
    "start_time": "2024-07-05T18:02:59.792Z"
   },
   {
    "duration": 31,
    "start_time": "2024-07-05T18:03:01.865Z"
   },
   {
    "duration": 162,
    "start_time": "2024-07-05T18:03:01.899Z"
   },
   {
    "duration": 50,
    "start_time": "2024-07-05T18:03:02.064Z"
   },
   {
    "duration": 530,
    "start_time": "2024-07-05T18:03:02.117Z"
   },
   {
    "duration": 7,
    "start_time": "2024-07-05T18:03:02.650Z"
   },
   {
    "duration": 4,
    "start_time": "2024-07-05T18:03:02.661Z"
   },
   {
    "duration": 886,
    "start_time": "2024-07-05T18:03:02.668Z"
   },
   {
    "duration": 6,
    "start_time": "2024-07-05T18:03:03.558Z"
   },
   {
    "duration": 6,
    "start_time": "2024-07-05T18:03:03.567Z"
   },
   {
    "duration": 96643,
    "start_time": "2024-07-05T18:03:03.576Z"
   },
   {
    "duration": 16267,
    "start_time": "2024-07-05T18:04:40.227Z"
   },
   {
    "duration": 139934,
    "start_time": "2024-07-05T18:04:56.498Z"
   },
   {
    "duration": 82283,
    "start_time": "2024-07-05T18:07:16.436Z"
   },
   {
    "duration": 125824,
    "start_time": "2024-07-05T18:08:38.722Z"
   },
   {
    "duration": 316779,
    "start_time": "2024-07-05T18:10:44.549Z"
   },
   {
    "duration": 16,
    "start_time": "2024-07-05T20:01:14.006Z"
   }
  ],
  "kernelspec": {
   "display_name": "Python 3 (ipykernel)",
   "language": "python",
   "name": "python3"
  },
  "language_info": {
   "codemirror_mode": {
    "name": "ipython",
    "version": 3
   },
   "file_extension": ".py",
   "mimetype": "text/x-python",
   "name": "python",
   "nbconvert_exporter": "python",
   "pygments_lexer": "ipython3",
   "version": "3.9.19"
  },
  "toc": {
   "base_numbering": 1,
   "nav_menu": {},
   "number_sections": true,
   "sideBar": true,
   "skip_h1_title": true,
   "title_cell": "Table of Contents",
   "title_sidebar": "Contents",
   "toc_cell": false,
   "toc_position": {},
   "toc_section_display": true,
   "toc_window_display": false
  }
 },
 "nbformat": 4,
 "nbformat_minor": 2
}
